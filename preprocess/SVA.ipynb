{
 "cells": [
  {
   "cell_type": "code",
   "execution_count": 1,
   "metadata": {},
   "outputs": [
    {
     "data": {
      "text/html": [
       "<table>\n",
       "<thead><tr><th scope=col>Asexual.stage..hpi.</th><th scope=col>PF3D7_0100100</th><th scope=col>PF3D7_0100200</th><th scope=col>PF3D7_0100300</th><th scope=col>PF3D7_0100600</th><th scope=col>PF3D7_0100800</th><th scope=col>PF3D7_0101300</th><th scope=col>PF3D7_0101600</th><th scope=col>PF3D7_0101800</th><th scope=col>PF3D7_0101900</th><th scope=col>...</th><th scope=col>PF3D7_1479400</th><th scope=col>PF3D7_1479500</th><th scope=col>PF3D7_1479600</th><th scope=col>PF3D7_1479900</th><th scope=col>PF3D7_1480000</th><th scope=col>PF3D7_1480100</th><th scope=col>ClearanceRate</th><th scope=col>Sample_Names</th><th scope=col>Country</th><th scope=col>Kmeans.Grp</th></tr></thead>\n",
       "<tbody>\n",
       "\t<tr><td>20          </td><td>0.2263112   </td><td>-0.396828975</td><td>-1.8045812  </td><td>-0.10825583 </td><td>0.4225580   </td><td>0.3557607   </td><td>-0.2436796  </td><td>-0.6010834  </td><td> 1.65519123 </td><td>...         </td><td>-1.22734354 </td><td>0.8102838   </td><td>2.8834777   </td><td>1.190193    </td><td>-1.3095280  </td><td>-0.6417096  </td><td>1           </td><td>GSM1427365  </td><td>Bangladesh  </td><td>B           </td></tr>\n",
       "\t<tr><td>18          </td><td>0.5544274   </td><td> 0.542001149</td><td>-1.5615728  </td><td>-0.49028893 </td><td>0.8579291   </td><td>0.2392953   </td><td> 0.3599728  </td><td> 1.0532317  </td><td>-0.41601255 </td><td>...         </td><td> 0.27269952 </td><td>1.1581390   </td><td>1.4131779   </td><td>1.830839    </td><td> 0.2102166  </td><td>-1.0655334  </td><td>1           </td><td>GSM1427366  </td><td>Bangladesh  </td><td>B           </td></tr>\n",
       "\t<tr><td>16          </td><td>0.5870483   </td><td> 0.707557368</td><td>-1.6045872  </td><td> 0.17678321 </td><td>0.3071121   </td><td>0.5759948   </td><td> 0.4164976  </td><td> 1.4826555  </td><td> 0.03676142 </td><td>...         </td><td>-0.08742836 </td><td>1.5837753   </td><td>1.8197343   </td><td>1.800309    </td><td> 0.1367734  </td><td>-0.7361304  </td><td>1           </td><td>GSM1427367  </td><td>Bangladesh  </td><td>B           </td></tr>\n",
       "\t<tr><td> 8          </td><td>0.6806546   </td><td>-0.744062579</td><td>-1.4411366  </td><td> 0.05725636 </td><td>0.5600164   </td><td>0.2790185   </td><td> 0.2415330  </td><td> 0.7493490  </td><td> 0.36949016 </td><td>...         </td><td> 0.04980615 </td><td>0.9258309   </td><td>0.1119095   </td><td>1.201473    </td><td>-0.5442685  </td><td>-0.5303997  </td><td>1           </td><td>GSM1427368  </td><td>Bangladesh  </td><td>A           </td></tr>\n",
       "\t<tr><td>16          </td><td>1.0894079   </td><td>-0.002673478</td><td>-0.8774131  </td><td>-0.57541363 </td><td>0.7033856   </td><td>0.7595096   </td><td> 1.0138636  </td><td> 1.8168844  </td><td>-0.12929834 </td><td>...         </td><td>-0.67851082 </td><td>1.0583353   </td><td>0.7476287   </td><td>2.574896    </td><td> 0.3771322  </td><td>-0.7902538  </td><td>1           </td><td>GSM1427369  </td><td>Bangladesh  </td><td>B           </td></tr>\n",
       "\t<tr><td>18          </td><td>0.2358625   </td><td> 0.796118802</td><td>-1.1880879  </td><td>-0.35935227 </td><td>0.4937340   </td><td>1.5079454   </td><td> 0.6708259  </td><td> 0.9293397  </td><td>-0.56404628 </td><td>...         </td><td>-0.80917046 </td><td>2.6935400   </td><td>1.8491163   </td><td>2.202391    </td><td>-0.1914365  </td><td>-0.8388607  </td><td>1           </td><td>GSM1427370  </td><td>Bangladesh  </td><td>B           </td></tr>\n",
       "</tbody>\n",
       "</table>\n"
      ],
      "text/latex": [
       "\\begin{tabular}{r|lllllllllllllllllllllllllllllllllllllllllllllllllllllllllllllllllllllllllllllllllllllllllllllllllllllllllllllllllllllllllllllllllllllllllllllllllllllllllllllllllllllllllllllllllllllllllllllllllllllllllllllllllllllllllllllllllllllllllllllllllllllllllllllllllllllllllllllllllllllllllllllllllllllllllllllllllllllllllllllllllllllllllllllllllllllllllllllllllllllllllllllllllllllllllllllllllllllllllllllllllllllllllllllllllllllllllllllllllllllllllllllllllllllllllllllllllllllllllllllllllllllllllllllllllllllllllllllllllllllllllllllllllllllllllllllllllllllllllllllllllllllllllllllllllllllllllllllllllllllllllllllllllllllllllllllllllllllllllllllllllllllllllllllllllllllllllllllllllllllllllllllllllllllllllllllllllllllllllllllllllllllllllllllllllllllllllllllllllllllllllllllllllllllllllllllllllllllllllllllllllllllllllllllllllllllllllllllllllllllllllllllllllllllllllllllllllllllllllllllllllllllllllllllllllllllllllllllllllllllllllllllllllllllllllllllllllllllllllllllllllllllllllllllllllllllllllllllllllllllllllllllllllllllllllllllllllllllllllllllllllllllllllllllllllllllllllllllllllllllllllllllllllllllllllllllllllllllllllllllllllllllllllllllllllllllllllllllllllllllllllllllllllllllllllllllllllllllllllllllllllllllllllllllllllllllllllllllllllllllllllllllllllllllllllllllllllllllllllllllllllllllllllllllllllllllllllllllllllllllllllllllllllllllllllllllllllllllllllllllllllllllllllllllllllllllllllllllllllllllllllllllllllllllllllllllllllllllllllllllllllllllllllllllllllllllllllllllllllllllllllllllllllllllllllllllllllllllllllllllllllllllllllllllllllllllllllllllllllllllllllllllllllllllllllllllllllllllllllllllllllllllllllllllllllllllllllllllllllllllllllllllllllllllllllllllllllllllllllllllllllllllllllllllllllllllllllllllllllllllllllllllllllllllllllllllllllllllllllllllllllllllllllllllllllllllllllllllllllllllllllllllllllllllllllllllllllllllllllllllllllllllllllllllllllllllllllllllllllllllllllllllllllllllllllllllllllllllllllllllllllllllllllllllllllllllllllllllllllllllllllllllllllllllllllllllllllllllllllllllllllllllllllllllllllllllllllllllllllllllllllllllllllllllllllllllllllllllllllllllllllllllllllllllllllllllllllllllllllllllllllllllllllllllllllllllllllllllllllllllllllllllllllllllllllllllllllllllllllllllllllllllllllllllllllllllllllllllllllllllllllllllllllllllllllllllllllllllllllllllllllllllllllllllllllllllllllllllllllllllllllllllllllllllllllllllllllllllllllllllllllllllllllllllllllllllllllllllllllllllllllllllllllllllllllllllllllllllllllllllllllllllllllllllllllllllllllllllllllllllllllllllllllllllllllllllllllllllllllllllllllllllllllllllllllllllllllllllllllllllllllllllllllllllllllllllllllllllllllllllllllllllllllllllllllllllllllllllllllllllllllllllllllllllllllllllllllllllllllllllllllllllllllllllllllllllllllllllllllllllllllllllllllllllllllllllllllllllllllllllllllllllllllllllllllllllllllllllllllllllllllllllllllllllllllllllllllllllllllllllllllllllllllllllllllllllllllllllllllllllllllllllllllllllllllllllllllllllllllllllllllllllllllllllllllllllllllllllllllllllllllllllllllllllllllllllllllllllllllllllllllllllllllllllllllllllllllllllllllllllllllllllllllllllllllllllllllllllllllllllllllllllllllllllllllllllllllllllllllllllllllllllllllllllllllllllllllllllllllllllllllllllllllllllllllllllllllllllllllllllllllllllllllllllllllllllllllllllllllllllllllllllllllllllllllllllllllllllllllllllllllllllllllllllllllllllllllllllllllllllllllllllllllllllllllllllllllllllllllllllllllllllllllllllllllllllllllllllllllllllllllllllllllllllllllllllllllllllllllllllllllllllllllllllllllllllllllllllllllllllllllllllllllllllllllllllllllllllllllllllllllllllllllllllllllllllllllllllllllllllllllllllllllllllllllllllllllllllllllllllllllllllllllllllllllllllllllllllllllllllllllllllllllllllllllllllllllllllllllllllllllllllllllllllllllllllllllllllllllllllllllllllllllllllllllllllllllllllllllllllllllllllllllllllllllllllllllllllllllllllllllllllllllllllllllllllllllllllllllllllllllllllllllllllllllllllllllllllllllllllllllllllllllllllllllllllllllllllllllllllllllllllllllllllllllllllllllllllllllllllllllllllllllllllllllllllllllllllllllllllllllllllllllllllllllllllllllllllllllllllllllllllllllllllllllllllllllllllllllllllllllllllllllllllllllllllllllllllllllllllllllllllllllllllllllllllllllllllllllllllllllllllllllllllllllllllllllllllllllllllllllllllllllllllllllllllllllllllllllllllllllllllllllllllllllllllllllllllllllllllllllllllllllllllllllllllllllllllllllllllllllllllllllllllllllllllllllllllllllllllllllllllllllllllllllllllllllllllllllllllllllllllllllllllllllllllllllllllllllllllllllllllllllllllllllllllllllllllllllllllllllllllllllllllllllllllllllllllllllllllllllllllllllllllllllllllllllllllllllllllllllllllllllllllllllllllllllllllllllllllllllllllllllllllllllllllllllllllllllllllllllllllllllllllllllllllllllllllllllllllllllllllllllllllllllllllllllllllllllllllllllllllllllllllllllllllllllllllllllllllllllllllllllllllllllllllllllllllllllllllllllllllllllllllllllllllllllllllllllllllllllllllllllllllllllllllllllllllllllllllllllllllllllllllllllllllllllllllllllllllllllllllllllllllllllllllllllllllllllllll}\n",
       " Asexual.stage..hpi. & PF3D7\\_0100100 & PF3D7\\_0100200 & PF3D7\\_0100300 & PF3D7\\_0100600 & PF3D7\\_0100800 & PF3D7\\_0101300 & PF3D7\\_0101600 & PF3D7\\_0101800 & PF3D7\\_0101900 & ... & PF3D7\\_1479400 & PF3D7\\_1479500 & PF3D7\\_1479600 & PF3D7\\_1479900 & PF3D7\\_1480000 & PF3D7\\_1480100 & ClearanceRate & Sample\\_Names & Country & Kmeans.Grp\\\\\n",
       "\\hline\n",
       "\t 20           & 0.2263112    & -0.396828975 & -1.8045812   & -0.10825583  & 0.4225580    & 0.3557607    & -0.2436796   & -0.6010834   &  1.65519123  & ...          & -1.22734354  & 0.8102838    & 2.8834777    & 1.190193     & -1.3095280   & -0.6417096   & 1            & GSM1427365   & Bangladesh   & B           \\\\\n",
       "\t 18           & 0.5544274    &  0.542001149 & -1.5615728   & -0.49028893  & 0.8579291    & 0.2392953    &  0.3599728   &  1.0532317   & -0.41601255  & ...          &  0.27269952  & 1.1581390    & 1.4131779    & 1.830839     &  0.2102166   & -1.0655334   & 1            & GSM1427366   & Bangladesh   & B           \\\\\n",
       "\t 16           & 0.5870483    &  0.707557368 & -1.6045872   &  0.17678321  & 0.3071121    & 0.5759948    &  0.4164976   &  1.4826555   &  0.03676142  & ...          & -0.08742836  & 1.5837753    & 1.8197343    & 1.800309     &  0.1367734   & -0.7361304   & 1            & GSM1427367   & Bangladesh   & B           \\\\\n",
       "\t  8           & 0.6806546    & -0.744062579 & -1.4411366   &  0.05725636  & 0.5600164    & 0.2790185    &  0.2415330   &  0.7493490   &  0.36949016  & ...          &  0.04980615  & 0.9258309    & 0.1119095    & 1.201473     & -0.5442685   & -0.5303997   & 1            & GSM1427368   & Bangladesh   & A           \\\\\n",
       "\t 16           & 1.0894079    & -0.002673478 & -0.8774131   & -0.57541363  & 0.7033856    & 0.7595096    &  1.0138636   &  1.8168844   & -0.12929834  & ...          & -0.67851082  & 1.0583353    & 0.7476287    & 2.574896     &  0.3771322   & -0.7902538   & 1            & GSM1427369   & Bangladesh   & B           \\\\\n",
       "\t 18           & 0.2358625    &  0.796118802 & -1.1880879   & -0.35935227  & 0.4937340    & 1.5079454    &  0.6708259   &  0.9293397   & -0.56404628  & ...          & -0.80917046  & 2.6935400    & 1.8491163    & 2.202391     & -0.1914365   & -0.8388607   & 1            & GSM1427370   & Bangladesh   & B           \\\\\n",
       "\\end{tabular}\n"
      ],
      "text/markdown": [
       "\n",
       "Asexual.stage..hpi. | PF3D7_0100100 | PF3D7_0100200 | PF3D7_0100300 | PF3D7_0100600 | PF3D7_0100800 | PF3D7_0101300 | PF3D7_0101600 | PF3D7_0101800 | PF3D7_0101900 | ... | PF3D7_1479400 | PF3D7_1479500 | PF3D7_1479600 | PF3D7_1479900 | PF3D7_1480000 | PF3D7_1480100 | ClearanceRate | Sample_Names | Country | Kmeans.Grp | \n",
       "|---|---|---|---|---|---|\n",
       "| 20           | 0.2263112    | -0.396828975 | -1.8045812   | -0.10825583  | 0.4225580    | 0.3557607    | -0.2436796   | -0.6010834   |  1.65519123  | ...          | -1.22734354  | 0.8102838    | 2.8834777    | 1.190193     | -1.3095280   | -0.6417096   | 1            | GSM1427365   | Bangladesh   | B            | \n",
       "| 18           | 0.5544274    |  0.542001149 | -1.5615728   | -0.49028893  | 0.8579291    | 0.2392953    |  0.3599728   |  1.0532317   | -0.41601255  | ...          |  0.27269952  | 1.1581390    | 1.4131779    | 1.830839     |  0.2102166   | -1.0655334   | 1            | GSM1427366   | Bangladesh   | B            | \n",
       "| 16           | 0.5870483    |  0.707557368 | -1.6045872   |  0.17678321  | 0.3071121    | 0.5759948    |  0.4164976   |  1.4826555   |  0.03676142  | ...          | -0.08742836  | 1.5837753    | 1.8197343    | 1.800309     |  0.1367734   | -0.7361304   | 1            | GSM1427367   | Bangladesh   | B            | \n",
       "|  8           | 0.6806546    | -0.744062579 | -1.4411366   |  0.05725636  | 0.5600164    | 0.2790185    |  0.2415330   |  0.7493490   |  0.36949016  | ...          |  0.04980615  | 0.9258309    | 0.1119095    | 1.201473     | -0.5442685   | -0.5303997   | 1            | GSM1427368   | Bangladesh   | A            | \n",
       "| 16           | 1.0894079    | -0.002673478 | -0.8774131   | -0.57541363  | 0.7033856    | 0.7595096    |  1.0138636   |  1.8168844   | -0.12929834  | ...          | -0.67851082  | 1.0583353    | 0.7476287    | 2.574896     |  0.3771322   | -0.7902538   | 1            | GSM1427369   | Bangladesh   | B            | \n",
       "| 18           | 0.2358625    |  0.796118802 | -1.1880879   | -0.35935227  | 0.4937340    | 1.5079454    |  0.6708259   |  0.9293397   | -0.56404628  | ...          | -0.80917046  | 2.6935400    | 1.8491163    | 2.202391     | -0.1914365   | -0.8388607   | 1            | GSM1427370   | Bangladesh   | B            | \n",
       "\n",
       "\n"
      ],
      "text/plain": [
       "  Asexual.stage..hpi. PF3D7_0100100 PF3D7_0100200 PF3D7_0100300 PF3D7_0100600\n",
       "1 20                  0.2263112     -0.396828975  -1.8045812    -0.10825583  \n",
       "2 18                  0.5544274      0.542001149  -1.5615728    -0.49028893  \n",
       "3 16                  0.5870483      0.707557368  -1.6045872     0.17678321  \n",
       "4  8                  0.6806546     -0.744062579  -1.4411366     0.05725636  \n",
       "5 16                  1.0894079     -0.002673478  -0.8774131    -0.57541363  \n",
       "6 18                  0.2358625      0.796118802  -1.1880879    -0.35935227  \n",
       "  PF3D7_0100800 PF3D7_0101300 PF3D7_0101600 PF3D7_0101800 PF3D7_0101900 ...\n",
       "1 0.4225580     0.3557607     -0.2436796    -0.6010834     1.65519123   ...\n",
       "2 0.8579291     0.2392953      0.3599728     1.0532317    -0.41601255   ...\n",
       "3 0.3071121     0.5759948      0.4164976     1.4826555     0.03676142   ...\n",
       "4 0.5600164     0.2790185      0.2415330     0.7493490     0.36949016   ...\n",
       "5 0.7033856     0.7595096      1.0138636     1.8168844    -0.12929834   ...\n",
       "6 0.4937340     1.5079454      0.6708259     0.9293397    -0.56404628   ...\n",
       "  PF3D7_1479400 PF3D7_1479500 PF3D7_1479600 PF3D7_1479900 PF3D7_1480000\n",
       "1 -1.22734354   0.8102838     2.8834777     1.190193      -1.3095280   \n",
       "2  0.27269952   1.1581390     1.4131779     1.830839       0.2102166   \n",
       "3 -0.08742836   1.5837753     1.8197343     1.800309       0.1367734   \n",
       "4  0.04980615   0.9258309     0.1119095     1.201473      -0.5442685   \n",
       "5 -0.67851082   1.0583353     0.7476287     2.574896       0.3771322   \n",
       "6 -0.80917046   2.6935400     1.8491163     2.202391      -0.1914365   \n",
       "  PF3D7_1480100 ClearanceRate Sample_Names Country    Kmeans.Grp\n",
       "1 -0.6417096    1             GSM1427365   Bangladesh B         \n",
       "2 -1.0655334    1             GSM1427366   Bangladesh B         \n",
       "3 -0.7361304    1             GSM1427367   Bangladesh B         \n",
       "4 -0.5303997    1             GSM1427368   Bangladesh A         \n",
       "5 -0.7902538    1             GSM1427369   Bangladesh B         \n",
       "6 -0.8388607    1             GSM1427370   Bangladesh B         "
      ]
     },
     "metadata": {},
     "output_type": "display_data"
    }
   ],
   "source": [
    "# read imputed training set \n",
    "training_set <- read.csv(\"../SubCh2/SubCh2_TrainingData_imputed.csv\",  header=TRUE, sep=\",\")\n",
    "head(training_set)"
   ]
  },
  {
   "cell_type": "code",
   "execution_count": 2,
   "metadata": {},
   "outputs": [
    {
     "data": {
      "text/html": [
       "<table>\n",
       "<thead><tr><th scope=col>Sample_Names</th><th scope=col>Country</th><th scope=col>Asexual_Stage</th><th scope=col>Isolate</th><th scope=col>Timepoint</th><th scope=col>Treatment</th><th scope=col>BioRep</th><th scope=col>MAL1.465720.465873.bc..rv..</th><th scope=col>MAL1.48287.48430....kr...can</th><th scope=col>MAL1.562126.562246.bc..r...</th><th scope=col>...</th><th scope=col>PF3D7_1478800</th><th scope=col>PF3D7_1479000</th><th scope=col>PF3D7_1479200</th><th scope=col>PF3D7_1479400</th><th scope=col>PF3D7_1479500</th><th scope=col>PF3D7_1479600</th><th scope=col>PF3D7_1479900</th><th scope=col>PF3D7_1480000</th><th scope=col>PF3D7_1480100</th><th scope=col>ClearanceRate</th></tr></thead>\n",
       "<tbody>\n",
       "\t<tr><td>isolate_02.24HR.DHA.BRep1</td><td>Thailand_Myanmar_Border  </td><td>50                       </td><td>isolate_02               </td><td>24HR                     </td><td>DHA                      </td><td>BRep1                    </td><td>-0.17897087              </td><td>-1.922426                </td><td>-1.8750152               </td><td>...                      </td><td> 0.7908186               </td><td>-0.07015143              </td><td> 0.02413322              </td><td>-2.21522700              </td><td>-1.957654                </td><td>-2.188635                </td><td>-1.722201                </td><td>-3.995680                </td><td>-0.9029792               </td><td>NA                       </td></tr>\n",
       "\t<tr><td>isolate_02.24HR.DHA.BRep2</td><td>Thailand_Myanmar_Border  </td><td>16                       </td><td>isolate_02               </td><td>24HR                     </td><td>DHA                      </td><td>BRep2                    </td><td> 1.33742051              </td><td>-1.764941                </td><td>-0.4146732               </td><td>...                      </td><td> 0.6594577               </td><td>-1.28830500              </td><td> 0.80631430              </td><td>-3.73371200              </td><td>-1.990368                </td><td>-1.633418                </td><td>-2.104227                </td><td>-5.767710                </td><td>-2.1779300               </td><td>NA                       </td></tr>\n",
       "\t<tr><td>isolate_02.24HR.DHA.BRep3</td><td>Thailand_Myanmar_Border  </td><td> 8                       </td><td>isolate_02               </td><td>24HR                     </td><td>DHA                      </td><td>BRep3                    </td><td>-0.71744051              </td><td>-1.151982                </td><td>-1.6939891               </td><td>...                      </td><td> 0.8463461               </td><td> 0.27981610              </td><td> 0.11500190              </td><td>-1.30590200              </td><td>-0.679212                </td><td>-2.099512                </td><td>-1.626372                </td><td>-4.422711                </td><td>-1.4084850               </td><td>NA                       </td></tr>\n",
       "\t<tr><td>isolate_02.24HR.DHA.BRep4</td><td>Thailand_Myanmar_Border  </td><td> 6                       </td><td>isolate_02               </td><td>24HR                     </td><td>DHA                      </td><td>BRep4                    </td><td> 0.14350116              </td><td>-1.496923                </td><td>-1.2190104               </td><td>...                      </td><td> 0.9278220               </td><td> 0.37528990              </td><td> 1.11324100              </td><td>-4.01628700              </td><td>-1.327287                </td><td>-2.375500                </td><td>-1.939162                </td><td>-3.500963                </td><td>-0.7961429               </td><td>NA                       </td></tr>\n",
       "\t<tr><td>isolate_02.24HR.UT.BRep1 </td><td>Thailand_Myanmar_Border  </td><td>48                       </td><td>isolate_02               </td><td>24HR                     </td><td>UT                       </td><td>BRep1                    </td><td>-0.07823546              </td><td>-1.885653                </td><td>-1.3507475               </td><td>...                      </td><td>-0.7181469               </td><td> 0.19396830              </td><td>-0.12595080              </td><td> 0.04824402              </td><td>-1.316566                </td><td>-2.247523                </td><td>-1.104079                </td><td>-4.776909                </td><td>-2.2181150               </td><td>NA                       </td></tr>\n",
       "\t<tr><td>isolate_02.24HR.UT.BRep2 </td><td>Thailand_Myanmar_Border  </td><td> 7                       </td><td>isolate_02               </td><td>24HR                     </td><td>UT                       </td><td>BRep2                    </td><td>-0.26204843              </td><td>-1.843873                </td><td>-1.4049581               </td><td>...                      </td><td> 1.0008890               </td><td> 1.00837600              </td><td> 0.79113820              </td><td>-2.24612800              </td><td>-1.698355                </td><td>-2.290114                </td><td>-2.224646                </td><td>-5.549935                </td><td>-1.9648830               </td><td>NA                       </td></tr>\n",
       "</tbody>\n",
       "</table>\n"
      ],
      "text/latex": [
       "\\begin{tabular}{r|llllllllllllllllllllllllllllllllllllllllllllllllllllllllllllllllllllllllllllllllllllllllllllllllllllllllllllllllllllllllllllllllllllllllllllllllllllllllllllllllllllllllllllllllllllllllllllllllllllllllllllllllllllllllllllllllllllllllllllllllllllllllllllllllllllllllllllllllllllllllllllllllllllllllllllllllllllllllllllllllllllllllllllllllllllllllllllllllllllllllllllllllllllllllllllllllllllllllllllllllllllllllllllllllllllllllllllllllllllllllllllllllllllllllllllllllllllllllllllllllllllllllllllllllllllllllllllllllllllllllllllllllllllllllllllllllllllllllllllllllllllllllllllllllllllllllllllllllllllllllllllllllllllllllllllllllllllllllllllllllllllllllllllllllllllllllllllllllllllllllllllllllllllllllllllllllllllllllllllllllllllllllllllllllllllllllllllllllllllllllllllllllllllllllllllllllllllllllllllllllllllllllllllllllllllllllllllllllllllllllllllllllllllllllllllllllllllllllllllllllllllllllllllllllllllllllllllllllllllllllllllllllllllllllllllllllllllllllllllllllllllllllllllllllllllllllllllllllllllllllllllllllllllllllllllllllllllllllllllllllllllllllllllllllllllllllllllllllllllllllllllllllllllllllllllllllllllllllllllllllllllllllllllllllllllllllllllllllllllllllllllllllllllllllllllllllllllllllllllllllllllllllllllllllllllllllllllllllllllllllllllllllllllllllllllllllllllllllllllllllllllllllllllllllllllllllllllllllllllllllllllllllllllllllllllllllllllllllllllllllllllllllllllllllllllllllllllllllllllllllllllllllllllllllllllllllllllllllllllllllllllllllllllllllllllllllllllllllllllllllllllllllllllllllllllllllllllllllllllllllllllllllllllllllllllllllllllllllllllllllllllllllllllllllllllllllllllllllllllllllllllllllllllllllllllllllllllllllllllllllllllllllllllllllllllllllllllllllllllllllllllllllllllllllllllllllllllllllllllllllllllllllllllllllllllllllllllllllllllllllllllllllllllllllllllllllllllllllllllllllllllllllllllllllllllllllllllllllllllllllllllllllllllllllllllllllllllllllllllllllllllllllllllllllllllllllllllllllllllllllllllllllllllllllllllllllllllllllllllllllllllllllllllllllllllllllllllllllllllllllllllllllllllllllllllllllllllllllllllllllllllllllllllllllllllllllllllllllllllllllllllllllllllllllllllllllllllllllllllllllllllllllllllllllllllllllllllllllllllllllllllllllllllllllllllllllllllllllllllllllllllllllllllllllllllllllllllllllllllllllllllllllllllllllllllllllllllllllllllllllllllllllllllllllllllllllllllllllllllllllllllllllllllllllllllllllllllllllllllllllllllllllllllllllllllllllllllllllllllllllllllllllllllllllllllllllllllllllllllllllllllllllllllllllllllllllllllllllllllllllllllllllllllllllllllllllllllllllllllllllllllllllllllllllllllllllllllllllllllllllllllllllllllllllllllllllllllllllllllllllllllllllllllllllllllllllllllllllllllllllllllllllllllllllllllllllllllllllllllllllllllllllllllllllllllllllllllllllllllllllllllllllllllllllllllllllllllllllllllllllllllllllllllllllllllllllllllllllllllllllllllllllllllllllllllllllllllllllllllllllllllllllllllllllllllllllllllllllllllllllllllllllllllllllllllllllllllllllllllllllllllllllllllllllllllllllllllllllllllllllllllllllllllllllllllllllllllllllllllllllllllllllllllllllllllllllllllllllllllllllllllllllllllllllllllllllllllllllllllllllllllllllllllllllllllllllllllllllllllllllllllllllllllllllllllllllllllllllllllllllllllllllllllllllllllllllllllllllllllllllllllllllllllllllllllllllllllllllllllllllllllllllllllllllllllllllllllllllllllllllllllllllllllllllllllllllllllllllllllllllllllllllllllllllllllllllllllllllllllllllllllllllllllllllllllllllllllllllllllllllllllllllllllllllllllllllllllllllllllllllllllllllllllllllllllllllllllllllllllllllllllllllllllllllllllllllllllllllllllllllllllllllllllllllllllllllllllllllllllllllllllllllllllllllllllllllllllllllllllllllllllllllllllllllllllllllllllllllllllllllllllllllllllllllllllllllllllllllllllllllllllllllllllllllllllllllllllllllllllllllllllllllllllllllllllllllllllllllllllllllllllllllllllllllllllllllllllllllllllllllllllllllllllllllllllllllllllllllllllllllllllllllllllllllllllllllllllllllllllllllllllllllllllllllllllllllllllllllllllllllllllllllllllllllllllllllllllllllllllllllllllllllllllllllllllllllllllllllllllllllllllllllllllllllllllllllllllllllllllllllllllllllllllllllllllllllllllllllllllllllllllllllllllllllllllllllllllllllllllllllllllllllllllllllllllllllllllllllllllllllllllllllllllllllllllllllllllllllllllllllllllllllllllllllllllllllllllllllllllllllllllllllllllllllllllllllllllllllllllllllllllllllllllllllllllllllllllllllllllllllllllllllllllllllllllllllllllllllllllllllllllllllllllllllllllllllllllllllllllllllllllllllllllllllllllllllllllllllllllllllllllllllllllllllllllllllllllllllllllllllllllllllllllllllllllllllllllllllllllllllllllllllllllllllllllllllllllllllllllllllllllllllllllllllllllllllllllllllllllllllllllllllllllllllllllllllllllllllllllllllllllllllllllllllllllllllllllllllllllllllllllllllllllllllllllllllllllllllllllllllllllllllllllllllllllllllllllllllllllllllllllllllllllllllllllllllllllllllllllllllllllllllllllllllllllllllllllllllllllllllllllllllllllllllllllllllllllllllllllllllllllllllllllllllllllllllllllllllllllllllllllllllllllllllllllllllllllllllllllllllllllllll}\n",
       " Sample\\_Names & Country & Asexual\\_Stage & Isolate & Timepoint & Treatment & BioRep & MAL1.465720.465873.bc..rv.. & MAL1.48287.48430....kr...can & MAL1.562126.562246.bc..r... & ... & PF3D7\\_1478800 & PF3D7\\_1479000 & PF3D7\\_1479200 & PF3D7\\_1479400 & PF3D7\\_1479500 & PF3D7\\_1479600 & PF3D7\\_1479900 & PF3D7\\_1480000 & PF3D7\\_1480100 & ClearanceRate\\\\\n",
       "\\hline\n",
       "\t isolate\\_02.24HR.DHA.BRep1 & Thailand\\_Myanmar\\_Border & 50                          & isolate\\_02                & 24HR                        & DHA                         & BRep1                       & -0.17897087                 & -1.922426                   & -1.8750152                  & ...                         &  0.7908186                  & -0.07015143                 &  0.02413322                 & -2.21522700                 & -1.957654                   & -2.188635                   & -1.722201                   & -3.995680                   & -0.9029792                  & NA                         \\\\\n",
       "\t isolate\\_02.24HR.DHA.BRep2 & Thailand\\_Myanmar\\_Border & 16                          & isolate\\_02                & 24HR                        & DHA                         & BRep2                       &  1.33742051                 & -1.764941                   & -0.4146732                  & ...                         &  0.6594577                  & -1.28830500                 &  0.80631430                 & -3.73371200                 & -1.990368                   & -1.633418                   & -2.104227                   & -5.767710                   & -2.1779300                  & NA                         \\\\\n",
       "\t isolate\\_02.24HR.DHA.BRep3 & Thailand\\_Myanmar\\_Border &  8                          & isolate\\_02                & 24HR                        & DHA                         & BRep3                       & -0.71744051                 & -1.151982                   & -1.6939891                  & ...                         &  0.8463461                  &  0.27981610                 &  0.11500190                 & -1.30590200                 & -0.679212                   & -2.099512                   & -1.626372                   & -4.422711                   & -1.4084850                  & NA                         \\\\\n",
       "\t isolate\\_02.24HR.DHA.BRep4 & Thailand\\_Myanmar\\_Border &  6                          & isolate\\_02                & 24HR                        & DHA                         & BRep4                       &  0.14350116                 & -1.496923                   & -1.2190104                  & ...                         &  0.9278220                  &  0.37528990                 &  1.11324100                 & -4.01628700                 & -1.327287                   & -2.375500                   & -1.939162                   & -3.500963                   & -0.7961429                  & NA                         \\\\\n",
       "\t isolate\\_02.24HR.UT.BRep1  & Thailand\\_Myanmar\\_Border & 48                          & isolate\\_02                & 24HR                        & UT                          & BRep1                       & -0.07823546                 & -1.885653                   & -1.3507475                  & ...                         & -0.7181469                  &  0.19396830                 & -0.12595080                 &  0.04824402                 & -1.316566                   & -2.247523                   & -1.104079                   & -4.776909                   & -2.2181150                  & NA                         \\\\\n",
       "\t isolate\\_02.24HR.UT.BRep2  & Thailand\\_Myanmar\\_Border &  7                          & isolate\\_02                & 24HR                        & UT                          & BRep2                       & -0.26204843                 & -1.843873                   & -1.4049581                  & ...                         &  1.0008890                  &  1.00837600                 &  0.79113820                 & -2.24612800                 & -1.698355                   & -2.290114                   & -2.224646                   & -5.549935                   & -1.9648830                  & NA                         \\\\\n",
       "\\end{tabular}\n"
      ],
      "text/markdown": [
       "\n",
       "Sample_Names | Country | Asexual_Stage | Isolate | Timepoint | Treatment | BioRep | MAL1.465720.465873.bc..rv.. | MAL1.48287.48430....kr...can | MAL1.562126.562246.bc..r... | ... | PF3D7_1478800 | PF3D7_1479000 | PF3D7_1479200 | PF3D7_1479400 | PF3D7_1479500 | PF3D7_1479600 | PF3D7_1479900 | PF3D7_1480000 | PF3D7_1480100 | ClearanceRate | \n",
       "|---|---|---|---|---|---|\n",
       "| isolate_02.24HR.DHA.BRep1 | Thailand_Myanmar_Border   | 50                        | isolate_02                | 24HR                      | DHA                       | BRep1                     | -0.17897087               | -1.922426                 | -1.8750152                | ...                       |  0.7908186                | -0.07015143               |  0.02413322               | -2.21522700               | -1.957654                 | -2.188635                 | -1.722201                 | -3.995680                 | -0.9029792                | NA                        | \n",
       "| isolate_02.24HR.DHA.BRep2 | Thailand_Myanmar_Border   | 16                        | isolate_02                | 24HR                      | DHA                       | BRep2                     |  1.33742051               | -1.764941                 | -0.4146732                | ...                       |  0.6594577                | -1.28830500               |  0.80631430               | -3.73371200               | -1.990368                 | -1.633418                 | -2.104227                 | -5.767710                 | -2.1779300                | NA                        | \n",
       "| isolate_02.24HR.DHA.BRep3 | Thailand_Myanmar_Border   |  8                        | isolate_02                | 24HR                      | DHA                       | BRep3                     | -0.71744051               | -1.151982                 | -1.6939891                | ...                       |  0.8463461                |  0.27981610               |  0.11500190               | -1.30590200               | -0.679212                 | -2.099512                 | -1.626372                 | -4.422711                 | -1.4084850                | NA                        | \n",
       "| isolate_02.24HR.DHA.BRep4 | Thailand_Myanmar_Border   |  6                        | isolate_02                | 24HR                      | DHA                       | BRep4                     |  0.14350116               | -1.496923                 | -1.2190104                | ...                       |  0.9278220                |  0.37528990               |  1.11324100               | -4.01628700               | -1.327287                 | -2.375500                 | -1.939162                 | -3.500963                 | -0.7961429                | NA                        | \n",
       "| isolate_02.24HR.UT.BRep1  | Thailand_Myanmar_Border   | 48                        | isolate_02                | 24HR                      | UT                        | BRep1                     | -0.07823546               | -1.885653                 | -1.3507475                | ...                       | -0.7181469                |  0.19396830               | -0.12595080               |  0.04824402               | -1.316566                 | -2.247523                 | -1.104079                 | -4.776909                 | -2.2181150                | NA                        | \n",
       "| isolate_02.24HR.UT.BRep2  | Thailand_Myanmar_Border   |  7                        | isolate_02                | 24HR                      | UT                        | BRep2                     | -0.26204843               | -1.843873                 | -1.4049581                | ...                       |  1.0008890                |  1.00837600               |  0.79113820               | -2.24612800               | -1.698355                 | -2.290114                 | -2.224646                 | -5.549935                 | -1.9648830                | NA                        | \n",
       "\n",
       "\n"
      ],
      "text/plain": [
       "  Sample_Names              Country                 Asexual_Stage Isolate   \n",
       "1 isolate_02.24HR.DHA.BRep1 Thailand_Myanmar_Border 50            isolate_02\n",
       "2 isolate_02.24HR.DHA.BRep2 Thailand_Myanmar_Border 16            isolate_02\n",
       "3 isolate_02.24HR.DHA.BRep3 Thailand_Myanmar_Border  8            isolate_02\n",
       "4 isolate_02.24HR.DHA.BRep4 Thailand_Myanmar_Border  6            isolate_02\n",
       "5 isolate_02.24HR.UT.BRep1  Thailand_Myanmar_Border 48            isolate_02\n",
       "6 isolate_02.24HR.UT.BRep2  Thailand_Myanmar_Border  7            isolate_02\n",
       "  Timepoint Treatment BioRep MAL1.465720.465873.bc..rv..\n",
       "1 24HR      DHA       BRep1  -0.17897087                \n",
       "2 24HR      DHA       BRep2   1.33742051                \n",
       "3 24HR      DHA       BRep3  -0.71744051                \n",
       "4 24HR      DHA       BRep4   0.14350116                \n",
       "5 24HR      UT        BRep1  -0.07823546                \n",
       "6 24HR      UT        BRep2  -0.26204843                \n",
       "  MAL1.48287.48430....kr...can MAL1.562126.562246.bc..r... ... PF3D7_1478800\n",
       "1 -1.922426                    -1.8750152                  ...  0.7908186   \n",
       "2 -1.764941                    -0.4146732                  ...  0.6594577   \n",
       "3 -1.151982                    -1.6939891                  ...  0.8463461   \n",
       "4 -1.496923                    -1.2190104                  ...  0.9278220   \n",
       "5 -1.885653                    -1.3507475                  ... -0.7181469   \n",
       "6 -1.843873                    -1.4049581                  ...  1.0008890   \n",
       "  PF3D7_1479000 PF3D7_1479200 PF3D7_1479400 PF3D7_1479500 PF3D7_1479600\n",
       "1 -0.07015143    0.02413322   -2.21522700   -1.957654     -2.188635    \n",
       "2 -1.28830500    0.80631430   -3.73371200   -1.990368     -1.633418    \n",
       "3  0.27981610    0.11500190   -1.30590200   -0.679212     -2.099512    \n",
       "4  0.37528990    1.11324100   -4.01628700   -1.327287     -2.375500    \n",
       "5  0.19396830   -0.12595080    0.04824402   -1.316566     -2.247523    \n",
       "6  1.00837600    0.79113820   -2.24612800   -1.698355     -2.290114    \n",
       "  PF3D7_1479900 PF3D7_1480000 PF3D7_1480100 ClearanceRate\n",
       "1 -1.722201     -3.995680     -0.9029792    NA           \n",
       "2 -2.104227     -5.767710     -2.1779300    NA           \n",
       "3 -1.626372     -4.422711     -1.4084850    NA           \n",
       "4 -1.939162     -3.500963     -0.7961429    NA           \n",
       "5 -1.104079     -4.776909     -2.2181150    NA           \n",
       "6 -2.224646     -5.549935     -1.9648830    NA           "
      ]
     },
     "metadata": {},
     "output_type": "display_data"
    }
   ],
   "source": [
    "# read testing set\n",
    "testing_set <- read.csv(\"../SubCh2/SubCh2_TestData.csv\", header=TRUE, sep=\",\")\n",
    "head(testing_set)"
   ]
  },
  {
   "cell_type": "code",
   "execution_count": 3,
   "metadata": {},
   "outputs": [
    {
     "data": {
      "text/html": [
       "<table>\n",
       "<thead><tr><th></th><th scope=col>Asexual.stage..hpi.</th><th scope=col>PF3D7_0100100</th><th scope=col>PF3D7_0100200</th><th scope=col>PF3D7_0100300</th><th scope=col>PF3D7_0100600</th><th scope=col>PF3D7_0100800</th><th scope=col>PF3D7_0101300</th><th scope=col>PF3D7_0101600</th><th scope=col>PF3D7_0101800</th><th scope=col>PF3D7_0101900</th><th scope=col>...</th><th scope=col>PF3D7_1479400</th><th scope=col>PF3D7_1479500</th><th scope=col>PF3D7_1479600</th><th scope=col>PF3D7_1479900</th><th scope=col>PF3D7_1480000</th><th scope=col>PF3D7_1480100</th><th scope=col>ClearanceRate</th><th scope=col>Sample_Names</th><th scope=col>Country</th><th scope=col>Kmeans.Grp</th></tr></thead>\n",
       "<tbody>\n",
       "\t<tr><th scope=row>GSM1427365</th><td>20          </td><td>0.2263112   </td><td>-0.396828975</td><td>-1.8045812  </td><td>-0.10825583 </td><td>0.4225580   </td><td>0.3557607   </td><td>-0.2436796  </td><td>-0.6010834  </td><td> 1.65519123 </td><td>...         </td><td>-1.22734354 </td><td>0.8102838   </td><td>2.8834777   </td><td>1.190193    </td><td>-1.3095280  </td><td>-0.6417096  </td><td>1           </td><td>GSM1427365  </td><td>Bangladesh  </td><td>B           </td></tr>\n",
       "\t<tr><th scope=row>GSM1427366</th><td>18          </td><td>0.5544274   </td><td> 0.542001149</td><td>-1.5615728  </td><td>-0.49028893 </td><td>0.8579291   </td><td>0.2392953   </td><td> 0.3599728  </td><td> 1.0532317  </td><td>-0.41601255 </td><td>...         </td><td> 0.27269952 </td><td>1.1581390   </td><td>1.4131779   </td><td>1.830839    </td><td> 0.2102166  </td><td>-1.0655334  </td><td>1           </td><td>GSM1427366  </td><td>Bangladesh  </td><td>B           </td></tr>\n",
       "\t<tr><th scope=row>GSM1427367</th><td>16          </td><td>0.5870483   </td><td> 0.707557368</td><td>-1.6045872  </td><td> 0.17678321 </td><td>0.3071121   </td><td>0.5759948   </td><td> 0.4164976  </td><td> 1.4826555  </td><td> 0.03676142 </td><td>...         </td><td>-0.08742836 </td><td>1.5837753   </td><td>1.8197343   </td><td>1.800309    </td><td> 0.1367734  </td><td>-0.7361304  </td><td>1           </td><td>GSM1427367  </td><td>Bangladesh  </td><td>B           </td></tr>\n",
       "\t<tr><th scope=row>GSM1427368</th><td> 8          </td><td>0.6806546   </td><td>-0.744062579</td><td>-1.4411366  </td><td> 0.05725636 </td><td>0.5600164   </td><td>0.2790185   </td><td> 0.2415330  </td><td> 0.7493490  </td><td> 0.36949016 </td><td>...         </td><td> 0.04980615 </td><td>0.9258309   </td><td>0.1119095   </td><td>1.201473    </td><td>-0.5442685  </td><td>-0.5303997  </td><td>1           </td><td>GSM1427368  </td><td>Bangladesh  </td><td>A           </td></tr>\n",
       "\t<tr><th scope=row>GSM1427369</th><td>16          </td><td>1.0894079   </td><td>-0.002673478</td><td>-0.8774131  </td><td>-0.57541363 </td><td>0.7033856   </td><td>0.7595096   </td><td> 1.0138636  </td><td> 1.8168844  </td><td>-0.12929834 </td><td>...         </td><td>-0.67851082 </td><td>1.0583353   </td><td>0.7476287   </td><td>2.574896    </td><td> 0.3771322  </td><td>-0.7902538  </td><td>1           </td><td>GSM1427369  </td><td>Bangladesh  </td><td>B           </td></tr>\n",
       "\t<tr><th scope=row>GSM1427370</th><td>18          </td><td>0.2358625   </td><td> 0.796118802</td><td>-1.1880879  </td><td>-0.35935227 </td><td>0.4937340   </td><td>1.5079454   </td><td> 0.6708259  </td><td> 0.9293397  </td><td>-0.56404628 </td><td>...         </td><td>-0.80917046 </td><td>2.6935400   </td><td>1.8491163   </td><td>2.202391    </td><td>-0.1914365  </td><td>-0.8388607  </td><td>1           </td><td>GSM1427370  </td><td>Bangladesh  </td><td>B           </td></tr>\n",
       "</tbody>\n",
       "</table>\n"
      ],
      "text/latex": [
       "\\begin{tabular}{r|lllllllllllllllllllllllllllllllllllllllllllllllllllllllllllllllllllllllllllllllllllllllllllllllllllllllllllllllllllllllllllllllllllllllllllllllllllllllllllllllllllllllllllllllllllllllllllllllllllllllllllllllllllllllllllllllllllllllllllllllllllllllllllllllllllllllllllllllllllllllllllllllllllllllllllllllllllllllllllllllllllllllllllllllllllllllllllllllllllllllllllllllllllllllllllllllllllllllllllllllllllllllllllllllllllllllllllllllllllllllllllllllllllllllllllllllllllllllllllllllllllllllllllllllllllllllllllllllllllllllllllllllllllllllllllllllllllllllllllllllllllllllllllllllllllllllllllllllllllllllllllllllllllllllllllllllllllllllllllllllllllllllllllllllllllllllllllllllllllllllllllllllllllllllllllllllllllllllllllllllllllllllllllllllllllllllllllllllllllllllllllllllllllllllllllllllllllllllllllllllllllllllllllllllllllllllllllllllllllllllllllllllllllllllllllllllllllllllllllllllllllllllllllllllllllllllllllllllllllllllllllllllllllllllllllllllllllllllllllllllllllllllllllllllllllllllllllllllllllllllllllllllllllllllllllllllllllllllllllllllllllllllllllllllllllllllllllllllllllllllllllllllllllllllllllllllllllllllllllllllllllllllllllllllllllllllllllllllllllllllllllllllllllllllllllllllllllllllllllllllllllllllllllllllllllllllllllllllllllllllllllllllllllllllllllllllllllllllllllllllllllllllllllllllllllllllllllllllllllllllllllllllllllllllllllllllllllllllllllllllllllllllllllllllllllllllllllllllllllllllllllllllllllllllllllllllllllllllllllllllllllllllllllllllllllllllllllllllllllllllllllllllllllllllllllllllllllllllllllllllllllllllllllllllllllllllllllllllllllllllllllllllllllllllllllllllllllllllllllllllllllllllllllllllllllllllllllllllllllllllllllllllllllllllllllllllllllllllllllllllllllllllllllllllllllllllllllllllllllllllllllllllllllllllllllllllllllllllllllllllllllllllllllllllllllllllllllllllllllllllllllllllllllllllllllllllllllllllllllllllllllllllllllllllllllllllllllllllllllllllllllllllllllllllllllllllllllllllllllllllllllllllllllllllllllllllllllllllllllllllllllllllllllllllllllllllllllllllllllllllllllllllllllllllllllllllllllllllllllllllllllllllllllllllllllllllllllllllllllllllllllllllllllllllllllllllllllllllllllllllllllllllllllllllllllllllllllllllllllllllllllllllllllllllllllllllllllllllllllllllllllllllllllllllllllllllllllllllllllllllllllllllllllllllllllllllllllllllllllllllllllllllllllllllllllllllllllllllllllllllllllllllllllllllllllllllllllllllllllllllllllllllllllllllllllllllllllllllllllllllllllllllllllllllllllllllllllllllllllllllllllllllllllllllllllllllllllllllllllllllllllllllllllllllllllllllllllllllllllllllllllllllllllllllllllllllllllllllllllllllllllllllllllllllllllllllllllllllllllllllllllllllllllllllllllllllllllllllllllllllllllllllllllllllllllllllllllllllllllllllllllllllllllllllllllllllllllllllllllllllllllllllllllllllllllllllllllllllllllllllllllllllllllllllllllllllllllllllllllllllllllllllllllllllllllllllllllllllllllllllllllllllllllllllllllllllllllllllllllllllllllllllllllllllllllllllllllllllllllllllllllllllllllllllllllllllllllllllllllllllllllllllllllllllllllllllllllllllllllllllllllllllllllllllllllllllllllllllllllllllllllllllllllllllllllllllllllllllllllllllllllllllllllllllllllllllllllllllllllllllllllllllllllllllllllllllllllllllllllllllllllllllllllllllllllllllllllllllllllllllllllllllllllllllllllllllllllllllllllllllllllllllllllllllllllllllllllllllllllllllllllllllllllllllllllllllllllllllllllllllllllllllllllllllllllllllllllllllllllllllllllllllllllllllllllllllllllllllllllllllllllllllllllllllllllllllllllllllllllllllllllllllllllllllllllllllllllllllllllllllllllllllllllllllllllllllllllllllllllllllllllllllllllllllllllllllllllllllllllllllllllllllllllllllllllllllllllllllllllllllllllllllllllllllllllllllllllllllllllllllllllllllllllllllllllllllllllllllllllllllllllllllllllllllllllllllllllllllllllllllllllllllllllllllllllllllllllllllllllllllllllllllllllllllllllllllllllllllllllllllllllllllllllllllllllllllllllllllllllllllllllllllllllllllllllllllllllllllllllllllllllllllllllllllllllllllllllllllllllllllllllllllllllllllllllllllllllllllllllllllllllllllllllllllllllllllllllllllllllllllllllllllllllllllllllllllllllllllllllllllllllllllllllllllllllllllllllllllllllllllllllllllllllllllllllllllllllllllllllllllllllllllllllllllllllllllllllllllllllllllllllllllllllllllllllllllllllllllllllllllllllllllllllllllllllllllllllllllllllllllllllllllllllllllllllllllllllllllllllllllllllllllllllllllllllllllllllllllllllllllllllllllllllllllllllllllllllllllllllllllllllllllllllllllllllllllllllllllllllllllllllllllllllllllllllllllllllllllllllllllllllllllllllllllllllllllllllllllllllllllllllllllllllllllllllllllllllllllllllllllllllllllllllllllllllllllllllllllllllllllllllllllllllllllllllllllllllllllllllllllllllllllllllllllllllllllllllllllllllllllllllllllllllllllllllllllllllllllllllllllllllllllllllllllllllllllllllllllllllllllllllllllllllllllllllllllllllllllllllllllllllllllllllllllllllllllllllllllllllllllllllllllllllllllllllllllllllllllllllllllllllllllllllllllllllllllllllllllllllllllllllllllllllllllllllllllllllllllllllllllllllllllllllllllllllllllllllllllllllll}\n",
       "  & Asexual.stage..hpi. & PF3D7\\_0100100 & PF3D7\\_0100200 & PF3D7\\_0100300 & PF3D7\\_0100600 & PF3D7\\_0100800 & PF3D7\\_0101300 & PF3D7\\_0101600 & PF3D7\\_0101800 & PF3D7\\_0101900 & ... & PF3D7\\_1479400 & PF3D7\\_1479500 & PF3D7\\_1479600 & PF3D7\\_1479900 & PF3D7\\_1480000 & PF3D7\\_1480100 & ClearanceRate & Sample\\_Names & Country & Kmeans.Grp\\\\\n",
       "\\hline\n",
       "\tGSM1427365 & 20           & 0.2263112    & -0.396828975 & -1.8045812   & -0.10825583  & 0.4225580    & 0.3557607    & -0.2436796   & -0.6010834   &  1.65519123  & ...          & -1.22734354  & 0.8102838    & 2.8834777    & 1.190193     & -1.3095280   & -0.6417096   & 1            & GSM1427365   & Bangladesh   & B           \\\\\n",
       "\tGSM1427366 & 18           & 0.5544274    &  0.542001149 & -1.5615728   & -0.49028893  & 0.8579291    & 0.2392953    &  0.3599728   &  1.0532317   & -0.41601255  & ...          &  0.27269952  & 1.1581390    & 1.4131779    & 1.830839     &  0.2102166   & -1.0655334   & 1            & GSM1427366   & Bangladesh   & B           \\\\\n",
       "\tGSM1427367 & 16           & 0.5870483    &  0.707557368 & -1.6045872   &  0.17678321  & 0.3071121    & 0.5759948    &  0.4164976   &  1.4826555   &  0.03676142  & ...          & -0.08742836  & 1.5837753    & 1.8197343    & 1.800309     &  0.1367734   & -0.7361304   & 1            & GSM1427367   & Bangladesh   & B           \\\\\n",
       "\tGSM1427368 &  8           & 0.6806546    & -0.744062579 & -1.4411366   &  0.05725636  & 0.5600164    & 0.2790185    &  0.2415330   &  0.7493490   &  0.36949016  & ...          &  0.04980615  & 0.9258309    & 0.1119095    & 1.201473     & -0.5442685   & -0.5303997   & 1            & GSM1427368   & Bangladesh   & A           \\\\\n",
       "\tGSM1427369 & 16           & 1.0894079    & -0.002673478 & -0.8774131   & -0.57541363  & 0.7033856    & 0.7595096    &  1.0138636   &  1.8168844   & -0.12929834  & ...          & -0.67851082  & 1.0583353    & 0.7476287    & 2.574896     &  0.3771322   & -0.7902538   & 1            & GSM1427369   & Bangladesh   & B           \\\\\n",
       "\tGSM1427370 & 18           & 0.2358625    &  0.796118802 & -1.1880879   & -0.35935227  & 0.4937340    & 1.5079454    &  0.6708259   &  0.9293397   & -0.56404628  & ...          & -0.80917046  & 2.6935400    & 1.8491163    & 2.202391     & -0.1914365   & -0.8388607   & 1            & GSM1427370   & Bangladesh   & B           \\\\\n",
       "\\end{tabular}\n"
      ],
      "text/markdown": [
       "\n",
       "| <!--/--> | Asexual.stage..hpi. | PF3D7_0100100 | PF3D7_0100200 | PF3D7_0100300 | PF3D7_0100600 | PF3D7_0100800 | PF3D7_0101300 | PF3D7_0101600 | PF3D7_0101800 | PF3D7_0101900 | ... | PF3D7_1479400 | PF3D7_1479500 | PF3D7_1479600 | PF3D7_1479900 | PF3D7_1480000 | PF3D7_1480100 | ClearanceRate | Sample_Names | Country | Kmeans.Grp | \n",
       "|---|---|---|---|---|---|\n",
       "| GSM1427365 | 20           | 0.2263112    | -0.396828975 | -1.8045812   | -0.10825583  | 0.4225580    | 0.3557607    | -0.2436796   | -0.6010834   |  1.65519123  | ...          | -1.22734354  | 0.8102838    | 2.8834777    | 1.190193     | -1.3095280   | -0.6417096   | 1            | GSM1427365   | Bangladesh   | B            | \n",
       "| GSM1427366 | 18           | 0.5544274    |  0.542001149 | -1.5615728   | -0.49028893  | 0.8579291    | 0.2392953    |  0.3599728   |  1.0532317   | -0.41601255  | ...          |  0.27269952  | 1.1581390    | 1.4131779    | 1.830839     |  0.2102166   | -1.0655334   | 1            | GSM1427366   | Bangladesh   | B            | \n",
       "| GSM1427367 | 16           | 0.5870483    |  0.707557368 | -1.6045872   |  0.17678321  | 0.3071121    | 0.5759948    |  0.4164976   |  1.4826555   |  0.03676142  | ...          | -0.08742836  | 1.5837753    | 1.8197343    | 1.800309     |  0.1367734   | -0.7361304   | 1            | GSM1427367   | Bangladesh   | B            | \n",
       "| GSM1427368 |  8           | 0.6806546    | -0.744062579 | -1.4411366   |  0.05725636  | 0.5600164    | 0.2790185    |  0.2415330   |  0.7493490   |  0.36949016  | ...          |  0.04980615  | 0.9258309    | 0.1119095    | 1.201473     | -0.5442685   | -0.5303997   | 1            | GSM1427368   | Bangladesh   | A            | \n",
       "| GSM1427369 | 16           | 1.0894079    | -0.002673478 | -0.8774131   | -0.57541363  | 0.7033856    | 0.7595096    |  1.0138636   |  1.8168844   | -0.12929834  | ...          | -0.67851082  | 1.0583353    | 0.7476287    | 2.574896     |  0.3771322   | -0.7902538   | 1            | GSM1427369   | Bangladesh   | B            | \n",
       "| GSM1427370 | 18           | 0.2358625    |  0.796118802 | -1.1880879   | -0.35935227  | 0.4937340    | 1.5079454    |  0.6708259   |  0.9293397   | -0.56404628  | ...          | -0.80917046  | 2.6935400    | 1.8491163    | 2.202391     | -0.1914365   | -0.8388607   | 1            | GSM1427370   | Bangladesh   | B            | \n",
       "\n",
       "\n"
      ],
      "text/plain": [
       "           Asexual.stage..hpi. PF3D7_0100100 PF3D7_0100200 PF3D7_0100300\n",
       "GSM1427365 20                  0.2263112     -0.396828975  -1.8045812   \n",
       "GSM1427366 18                  0.5544274      0.542001149  -1.5615728   \n",
       "GSM1427367 16                  0.5870483      0.707557368  -1.6045872   \n",
       "GSM1427368  8                  0.6806546     -0.744062579  -1.4411366   \n",
       "GSM1427369 16                  1.0894079     -0.002673478  -0.8774131   \n",
       "GSM1427370 18                  0.2358625      0.796118802  -1.1880879   \n",
       "           PF3D7_0100600 PF3D7_0100800 PF3D7_0101300 PF3D7_0101600\n",
       "GSM1427365 -0.10825583   0.4225580     0.3557607     -0.2436796   \n",
       "GSM1427366 -0.49028893   0.8579291     0.2392953      0.3599728   \n",
       "GSM1427367  0.17678321   0.3071121     0.5759948      0.4164976   \n",
       "GSM1427368  0.05725636   0.5600164     0.2790185      0.2415330   \n",
       "GSM1427369 -0.57541363   0.7033856     0.7595096      1.0138636   \n",
       "GSM1427370 -0.35935227   0.4937340     1.5079454      0.6708259   \n",
       "           PF3D7_0101800 PF3D7_0101900 ... PF3D7_1479400 PF3D7_1479500\n",
       "GSM1427365 -0.6010834     1.65519123   ... -1.22734354   0.8102838    \n",
       "GSM1427366  1.0532317    -0.41601255   ...  0.27269952   1.1581390    \n",
       "GSM1427367  1.4826555     0.03676142   ... -0.08742836   1.5837753    \n",
       "GSM1427368  0.7493490     0.36949016   ...  0.04980615   0.9258309    \n",
       "GSM1427369  1.8168844    -0.12929834   ... -0.67851082   1.0583353    \n",
       "GSM1427370  0.9293397    -0.56404628   ... -0.80917046   2.6935400    \n",
       "           PF3D7_1479600 PF3D7_1479900 PF3D7_1480000 PF3D7_1480100\n",
       "GSM1427365 2.8834777     1.190193      -1.3095280    -0.6417096   \n",
       "GSM1427366 1.4131779     1.830839       0.2102166    -1.0655334   \n",
       "GSM1427367 1.8197343     1.800309       0.1367734    -0.7361304   \n",
       "GSM1427368 0.1119095     1.201473      -0.5442685    -0.5303997   \n",
       "GSM1427369 0.7476287     2.574896       0.3771322    -0.7902538   \n",
       "GSM1427370 1.8491163     2.202391      -0.1914365    -0.8388607   \n",
       "           ClearanceRate Sample_Names Country    Kmeans.Grp\n",
       "GSM1427365 1             GSM1427365   Bangladesh B         \n",
       "GSM1427366 1             GSM1427366   Bangladesh B         \n",
       "GSM1427367 1             GSM1427367   Bangladesh B         \n",
       "GSM1427368 1             GSM1427368   Bangladesh A         \n",
       "GSM1427369 1             GSM1427369   Bangladesh B         \n",
       "GSM1427370 1             GSM1427370   Bangladesh B         "
      ]
     },
     "metadata": {},
     "output_type": "display_data"
    }
   ],
   "source": [
    "# reset index of training and testing set\n",
    "rownames(training_set) <- training_set$Sample_Names\n",
    "head(training_set) "
   ]
  },
  {
   "cell_type": "code",
   "execution_count": 4,
   "metadata": {},
   "outputs": [
    {
     "data": {
      "text/html": [
       "<table>\n",
       "<thead><tr><th></th><th scope=col>Sample_Names</th><th scope=col>Country</th><th scope=col>Asexual_Stage</th><th scope=col>Isolate</th><th scope=col>Timepoint</th><th scope=col>Treatment</th><th scope=col>BioRep</th><th scope=col>MAL1.465720.465873.bc..rv..</th><th scope=col>MAL1.48287.48430....kr...can</th><th scope=col>MAL1.562126.562246.bc..r...</th><th scope=col>...</th><th scope=col>PF3D7_1478800</th><th scope=col>PF3D7_1479000</th><th scope=col>PF3D7_1479200</th><th scope=col>PF3D7_1479400</th><th scope=col>PF3D7_1479500</th><th scope=col>PF3D7_1479600</th><th scope=col>PF3D7_1479900</th><th scope=col>PF3D7_1480000</th><th scope=col>PF3D7_1480100</th><th scope=col>ClearanceRate</th></tr></thead>\n",
       "<tbody>\n",
       "\t<tr><th scope=row>isolate_02.24HR.DHA.BRep1</th><td>isolate_02.24HR.DHA.BRep1</td><td>Thailand_Myanmar_Border  </td><td>50                       </td><td>isolate_02               </td><td>24HR                     </td><td>DHA                      </td><td>BRep1                    </td><td>-0.17897087              </td><td>-1.922426                </td><td>-1.8750152               </td><td>...                      </td><td> 0.7908186               </td><td>-0.07015143              </td><td> 0.02413322              </td><td>-2.21522700              </td><td>-1.957654                </td><td>-2.188635                </td><td>-1.722201                </td><td>-3.995680                </td><td>-0.9029792               </td><td>NA                       </td></tr>\n",
       "\t<tr><th scope=row>isolate_02.24HR.DHA.BRep2</th><td>isolate_02.24HR.DHA.BRep2</td><td>Thailand_Myanmar_Border  </td><td>16                       </td><td>isolate_02               </td><td>24HR                     </td><td>DHA                      </td><td>BRep2                    </td><td> 1.33742051              </td><td>-1.764941                </td><td>-0.4146732               </td><td>...                      </td><td> 0.6594577               </td><td>-1.28830500              </td><td> 0.80631430              </td><td>-3.73371200              </td><td>-1.990368                </td><td>-1.633418                </td><td>-2.104227                </td><td>-5.767710                </td><td>-2.1779300               </td><td>NA                       </td></tr>\n",
       "\t<tr><th scope=row>isolate_02.24HR.DHA.BRep3</th><td>isolate_02.24HR.DHA.BRep3</td><td>Thailand_Myanmar_Border  </td><td> 8                       </td><td>isolate_02               </td><td>24HR                     </td><td>DHA                      </td><td>BRep3                    </td><td>-0.71744051              </td><td>-1.151982                </td><td>-1.6939891               </td><td>...                      </td><td> 0.8463461               </td><td> 0.27981610              </td><td> 0.11500190              </td><td>-1.30590200              </td><td>-0.679212                </td><td>-2.099512                </td><td>-1.626372                </td><td>-4.422711                </td><td>-1.4084850               </td><td>NA                       </td></tr>\n",
       "\t<tr><th scope=row>isolate_02.24HR.DHA.BRep4</th><td>isolate_02.24HR.DHA.BRep4</td><td>Thailand_Myanmar_Border  </td><td> 6                       </td><td>isolate_02               </td><td>24HR                     </td><td>DHA                      </td><td>BRep4                    </td><td> 0.14350116              </td><td>-1.496923                </td><td>-1.2190104               </td><td>...                      </td><td> 0.9278220               </td><td> 0.37528990              </td><td> 1.11324100              </td><td>-4.01628700              </td><td>-1.327287                </td><td>-2.375500                </td><td>-1.939162                </td><td>-3.500963                </td><td>-0.7961429               </td><td>NA                       </td></tr>\n",
       "\t<tr><th scope=row>isolate_02.24HR.UT.BRep1</th><td>isolate_02.24HR.UT.BRep1 </td><td>Thailand_Myanmar_Border  </td><td>48                       </td><td>isolate_02               </td><td>24HR                     </td><td>UT                       </td><td>BRep1                    </td><td>-0.07823546              </td><td>-1.885653                </td><td>-1.3507475               </td><td>...                      </td><td>-0.7181469               </td><td> 0.19396830              </td><td>-0.12595080              </td><td> 0.04824402              </td><td>-1.316566                </td><td>-2.247523                </td><td>-1.104079                </td><td>-4.776909                </td><td>-2.2181150               </td><td>NA                       </td></tr>\n",
       "\t<tr><th scope=row>isolate_02.24HR.UT.BRep2</th><td>isolate_02.24HR.UT.BRep2 </td><td>Thailand_Myanmar_Border  </td><td> 7                       </td><td>isolate_02               </td><td>24HR                     </td><td>UT                       </td><td>BRep2                    </td><td>-0.26204843              </td><td>-1.843873                </td><td>-1.4049581               </td><td>...                      </td><td> 1.0008890               </td><td> 1.00837600              </td><td> 0.79113820              </td><td>-2.24612800              </td><td>-1.698355                </td><td>-2.290114                </td><td>-2.224646                </td><td>-5.549935                </td><td>-1.9648830               </td><td>NA                       </td></tr>\n",
       "</tbody>\n",
       "</table>\n"
      ],
      "text/latex": [
       "\\begin{tabular}{r|llllllllllllllllllllllllllllllllllllllllllllllllllllllllllllllllllllllllllllllllllllllllllllllllllllllllllllllllllllllllllllllllllllllllllllllllllllllllllllllllllllllllllllllllllllllllllllllllllllllllllllllllllllllllllllllllllllllllllllllllllllllllllllllllllllllllllllllllllllllllllllllllllllllllllllllllllllllllllllllllllllllllllllllllllllllllllllllllllllllllllllllllllllllllllllllllllllllllllllllllllllllllllllllllllllllllllllllllllllllllllllllllllllllllllllllllllllllllllllllllllllllllllllllllllllllllllllllllllllllllllllllllllllllllllllllllllllllllllllllllllllllllllllllllllllllllllllllllllllllllllllllllllllllllllllllllllllllllllllllllllllllllllllllllllllllllllllllllllllllllllllllllllllllllllllllllllllllllllllllllllllllllllllllllllllllllllllllllllllllllllllllllllllllllllllllllllllllllllllllllllllllllllllllllllllllllllllllllllllllllllllllllllllllllllllllllllllllllllllllllllllllllllllllllllllllllllllllllllllllllllllllllllllllllllllllllllllllllllllllllllllllllllllllllllllllllllllllllllllllllllllllllllllllllllllllllllllllllllllllllllllllllllllllllllllllllllllllllllllllllllllllllllllllllllllllllllllllllllllllllllllllllllllllllllllllllllllllllllllllllllllllllllllllllllllllllllllllllllllllllllllllllllllllllllllllllllllllllllllllllllllllllllllllllllllllllllllllllllllllllllllllllllllllllllllllllllllllllllllllllllllllllllllllllllllllllllllllllllllllllllllllllllllllllllllllllllllllllllllllllllllllllllllllllllllllllllllllllllllllllllllllllllllllllllllllllllllllllllllllllllllllllllllllllllllllllllllllllllllllllllllllllllllllllllllllllllllllllllllllllllllllllllllllllllllllllllllllllllllllllllllllllllllllllllllllllllllllllllllllllllllllllllllllllllllllllllllllllllllllllllllllllllllllllllllllllllllllllllllllllllllllllllllllllllllllllllllllllllllllllllllllllllllllllllllllllllllllllllllllllllllllllllllllllllllllllllllllllllllllllllllllllllllllllllllllllllllllllllllllllllllllllllllllllllllllllllllllllllllllllllllllllllllllllllllllllllllllllllllllllllllllllllllllllllllllllllllllllllllllllllllllllllllllllllllllllllllllllllllllllllllllllllllllllllllllllllllllllllllllllllllllllllllllllllllllllllllllllllllllllllllllllllllllllllllllllllllllllllllllllllllllllllllllllllllllllllllllllllllllllllllllllllllllllllllllllllllllllllllllllllllllllllllllllllllllllllllllllllllllllllllllllllllllllllllllllllllllllllllllllllllllllllllllllllllllllllllllllllllllllllllllllllllllllllllllllllllllllllllllllllllllllllllllllllllllllllllllllllllllllllllllllllllllllllllllllllllllllllllllllllllllllllllllllllllllllllllllllllllllllllllllllllllllllllllllllllllllllllllllllllllllllllllllllllllllllllllllllllllllllllllllllllllllllllllllllllllllllllllllllllllllllllllllllllllllllllllllllllllllllllllllllllllllllllllllllllllllllllllllllllllllllllllllllllllllllllllllllllllllllllllllllllllllllllllllllllllllllllllllllllllllllllllllllllllllllllllllllllllllllllllllllllllllllllllllllllllllllllllllllllllllllllllllllllllllllllllllllllllllllllllllllllllllllllllllllllllllllllllllllllllllllllllllllllllllllllllllllllllllllllllllllllllllllllllllllllllllllllllllllllllllllllllllllllllllllllllllllllllllllllllllllllllllllllllllllllllllllllllllllllllllllllllllllllllllllllllllllllllllllllllllllllllllllllllllllllllllllllllllllllllllllllllllllllllllllllllllllllllllllllllllllllllllllllllllllllllllllllllllllllllllllllllllllllllllllllllllllllllllllllllllllllllllllllllllllllllllllllllllllllllllllllllllllllllllllllllllllllllllllllllllllllllllllllllllllllllllllllllllllllllllllllllllllllllllllllllllllllllllllllllllllllllllllllllllllllllllllllllllllllllllllllllllllllllllllllllllllllllllllllllllllllllllllllllllllllllllllllllllllllllllllllllllllllllllllllllllllllllllllllllllllllllllllllllllllllllllllllllllllllllllllllllllllllllllllllllllllllllllllllllllllllllllllllllllllllllllllllllllllllllllllllllllllllllllllllllllllllllllllllllllllllllllllllllllllllllllllllllllllllllllllllllllllllllllllllllllllllllllllllllllllllllllllllllllllllllllllllllllllllllllllllllllllllllllllllllllllllllllllllllllllllllllllllllllllllllllllllllllllllllllllllllllllllllllllllllllllllllllllllllllllllllllllllllllllllllllllllllllllllllllllllllllllllllllllllllllllllllllllllllllllllllllllllllllllllllllllllllllllllllllllllllllllllllllllllllllllllllllllllllllllllllllllllllllllllllllllllllllllllllllllllllllllllllllllllllllllllllllllllllllllllllllllllllllllllllllllllllllllllllllllllllllllllllllllllllllllllllllllllllllllllllllllllllllllllllllllllllllllllllllllllllllllllllllllllllllllllllllllllllllllllllllllllllllllllllllllllllllllllllllllllllllllllllllllllllllllllllllllllllllllllllllllllllllllllllllllllllllllllllllllllllllllllllllllllllllllllllllllllllllllllllllllllllllllllllllllllllllllllllllllllllllllllllllllllllllllllllllllllllllllllllllllllllllllllllllllllllllllllllllllllllllllllllllllllllllllllllllllllllllllllllllllllllllllllllllllllllllllllllllllllllllllllllllllllllllllllllllllllllllllllllllllllllllllllllllllllllllllllllllllllllllllllllllllllllllllllllllllllllllllllllllllllllllllllllllllllllllllllllllll}\n",
       "  & Sample\\_Names & Country & Asexual\\_Stage & Isolate & Timepoint & Treatment & BioRep & MAL1.465720.465873.bc..rv.. & MAL1.48287.48430....kr...can & MAL1.562126.562246.bc..r... & ... & PF3D7\\_1478800 & PF3D7\\_1479000 & PF3D7\\_1479200 & PF3D7\\_1479400 & PF3D7\\_1479500 & PF3D7\\_1479600 & PF3D7\\_1479900 & PF3D7\\_1480000 & PF3D7\\_1480100 & ClearanceRate\\\\\n",
       "\\hline\n",
       "\tisolate\\_02.24HR.DHA.BRep1 & isolate\\_02.24HR.DHA.BRep1 & Thailand\\_Myanmar\\_Border & 50                          & isolate\\_02                & 24HR                        & DHA                         & BRep1                       & -0.17897087                 & -1.922426                   & -1.8750152                  & ...                         &  0.7908186                  & -0.07015143                 &  0.02413322                 & -2.21522700                 & -1.957654                   & -2.188635                   & -1.722201                   & -3.995680                   & -0.9029792                  & NA                         \\\\\n",
       "\tisolate\\_02.24HR.DHA.BRep2 & isolate\\_02.24HR.DHA.BRep2 & Thailand\\_Myanmar\\_Border & 16                          & isolate\\_02                & 24HR                        & DHA                         & BRep2                       &  1.33742051                 & -1.764941                   & -0.4146732                  & ...                         &  0.6594577                  & -1.28830500                 &  0.80631430                 & -3.73371200                 & -1.990368                   & -1.633418                   & -2.104227                   & -5.767710                   & -2.1779300                  & NA                         \\\\\n",
       "\tisolate\\_02.24HR.DHA.BRep3 & isolate\\_02.24HR.DHA.BRep3 & Thailand\\_Myanmar\\_Border &  8                          & isolate\\_02                & 24HR                        & DHA                         & BRep3                       & -0.71744051                 & -1.151982                   & -1.6939891                  & ...                         &  0.8463461                  &  0.27981610                 &  0.11500190                 & -1.30590200                 & -0.679212                   & -2.099512                   & -1.626372                   & -4.422711                   & -1.4084850                  & NA                         \\\\\n",
       "\tisolate\\_02.24HR.DHA.BRep4 & isolate\\_02.24HR.DHA.BRep4 & Thailand\\_Myanmar\\_Border &  6                          & isolate\\_02                & 24HR                        & DHA                         & BRep4                       &  0.14350116                 & -1.496923                   & -1.2190104                  & ...                         &  0.9278220                  &  0.37528990                 &  1.11324100                 & -4.01628700                 & -1.327287                   & -2.375500                   & -1.939162                   & -3.500963                   & -0.7961429                  & NA                         \\\\\n",
       "\tisolate\\_02.24HR.UT.BRep1 & isolate\\_02.24HR.UT.BRep1  & Thailand\\_Myanmar\\_Border & 48                          & isolate\\_02                & 24HR                        & UT                          & BRep1                       & -0.07823546                 & -1.885653                   & -1.3507475                  & ...                         & -0.7181469                  &  0.19396830                 & -0.12595080                 &  0.04824402                 & -1.316566                   & -2.247523                   & -1.104079                   & -4.776909                   & -2.2181150                  & NA                         \\\\\n",
       "\tisolate\\_02.24HR.UT.BRep2 & isolate\\_02.24HR.UT.BRep2  & Thailand\\_Myanmar\\_Border &  7                          & isolate\\_02                & 24HR                        & UT                          & BRep2                       & -0.26204843                 & -1.843873                   & -1.4049581                  & ...                         &  1.0008890                  &  1.00837600                 &  0.79113820                 & -2.24612800                 & -1.698355                   & -2.290114                   & -2.224646                   & -5.549935                   & -1.9648830                  & NA                         \\\\\n",
       "\\end{tabular}\n"
      ],
      "text/markdown": [
       "\n",
       "| <!--/--> | Sample_Names | Country | Asexual_Stage | Isolate | Timepoint | Treatment | BioRep | MAL1.465720.465873.bc..rv.. | MAL1.48287.48430....kr...can | MAL1.562126.562246.bc..r... | ... | PF3D7_1478800 | PF3D7_1479000 | PF3D7_1479200 | PF3D7_1479400 | PF3D7_1479500 | PF3D7_1479600 | PF3D7_1479900 | PF3D7_1480000 | PF3D7_1480100 | ClearanceRate | \n",
       "|---|---|---|---|---|---|\n",
       "| isolate_02.24HR.DHA.BRep1 | isolate_02.24HR.DHA.BRep1 | Thailand_Myanmar_Border   | 50                        | isolate_02                | 24HR                      | DHA                       | BRep1                     | -0.17897087               | -1.922426                 | -1.8750152                | ...                       |  0.7908186                | -0.07015143               |  0.02413322               | -2.21522700               | -1.957654                 | -2.188635                 | -1.722201                 | -3.995680                 | -0.9029792                | NA                        | \n",
       "| isolate_02.24HR.DHA.BRep2 | isolate_02.24HR.DHA.BRep2 | Thailand_Myanmar_Border   | 16                        | isolate_02                | 24HR                      | DHA                       | BRep2                     |  1.33742051               | -1.764941                 | -0.4146732                | ...                       |  0.6594577                | -1.28830500               |  0.80631430               | -3.73371200               | -1.990368                 | -1.633418                 | -2.104227                 | -5.767710                 | -2.1779300                | NA                        | \n",
       "| isolate_02.24HR.DHA.BRep3 | isolate_02.24HR.DHA.BRep3 | Thailand_Myanmar_Border   |  8                        | isolate_02                | 24HR                      | DHA                       | BRep3                     | -0.71744051               | -1.151982                 | -1.6939891                | ...                       |  0.8463461                |  0.27981610               |  0.11500190               | -1.30590200               | -0.679212                 | -2.099512                 | -1.626372                 | -4.422711                 | -1.4084850                | NA                        | \n",
       "| isolate_02.24HR.DHA.BRep4 | isolate_02.24HR.DHA.BRep4 | Thailand_Myanmar_Border   |  6                        | isolate_02                | 24HR                      | DHA                       | BRep4                     |  0.14350116               | -1.496923                 | -1.2190104                | ...                       |  0.9278220                |  0.37528990               |  1.11324100               | -4.01628700               | -1.327287                 | -2.375500                 | -1.939162                 | -3.500963                 | -0.7961429                | NA                        | \n",
       "| isolate_02.24HR.UT.BRep1 | isolate_02.24HR.UT.BRep1  | Thailand_Myanmar_Border   | 48                        | isolate_02                | 24HR                      | UT                        | BRep1                     | -0.07823546               | -1.885653                 | -1.3507475                | ...                       | -0.7181469                |  0.19396830               | -0.12595080               |  0.04824402               | -1.316566                 | -2.247523                 | -1.104079                 | -4.776909                 | -2.2181150                | NA                        | \n",
       "| isolate_02.24HR.UT.BRep2 | isolate_02.24HR.UT.BRep2  | Thailand_Myanmar_Border   |  7                        | isolate_02                | 24HR                      | UT                        | BRep2                     | -0.26204843               | -1.843873                 | -1.4049581                | ...                       |  1.0008890                |  1.00837600               |  0.79113820               | -2.24612800               | -1.698355                 | -2.290114                 | -2.224646                 | -5.549935                 | -1.9648830                | NA                        | \n",
       "\n",
       "\n"
      ],
      "text/plain": [
       "                          Sample_Names              Country                \n",
       "isolate_02.24HR.DHA.BRep1 isolate_02.24HR.DHA.BRep1 Thailand_Myanmar_Border\n",
       "isolate_02.24HR.DHA.BRep2 isolate_02.24HR.DHA.BRep2 Thailand_Myanmar_Border\n",
       "isolate_02.24HR.DHA.BRep3 isolate_02.24HR.DHA.BRep3 Thailand_Myanmar_Border\n",
       "isolate_02.24HR.DHA.BRep4 isolate_02.24HR.DHA.BRep4 Thailand_Myanmar_Border\n",
       "isolate_02.24HR.UT.BRep1  isolate_02.24HR.UT.BRep1  Thailand_Myanmar_Border\n",
       "isolate_02.24HR.UT.BRep2  isolate_02.24HR.UT.BRep2  Thailand_Myanmar_Border\n",
       "                          Asexual_Stage Isolate    Timepoint Treatment BioRep\n",
       "isolate_02.24HR.DHA.BRep1 50            isolate_02 24HR      DHA       BRep1 \n",
       "isolate_02.24HR.DHA.BRep2 16            isolate_02 24HR      DHA       BRep2 \n",
       "isolate_02.24HR.DHA.BRep3  8            isolate_02 24HR      DHA       BRep3 \n",
       "isolate_02.24HR.DHA.BRep4  6            isolate_02 24HR      DHA       BRep4 \n",
       "isolate_02.24HR.UT.BRep1  48            isolate_02 24HR      UT        BRep1 \n",
       "isolate_02.24HR.UT.BRep2   7            isolate_02 24HR      UT        BRep2 \n",
       "                          MAL1.465720.465873.bc..rv..\n",
       "isolate_02.24HR.DHA.BRep1 -0.17897087                \n",
       "isolate_02.24HR.DHA.BRep2  1.33742051                \n",
       "isolate_02.24HR.DHA.BRep3 -0.71744051                \n",
       "isolate_02.24HR.DHA.BRep4  0.14350116                \n",
       "isolate_02.24HR.UT.BRep1  -0.07823546                \n",
       "isolate_02.24HR.UT.BRep2  -0.26204843                \n",
       "                          MAL1.48287.48430....kr...can\n",
       "isolate_02.24HR.DHA.BRep1 -1.922426                   \n",
       "isolate_02.24HR.DHA.BRep2 -1.764941                   \n",
       "isolate_02.24HR.DHA.BRep3 -1.151982                   \n",
       "isolate_02.24HR.DHA.BRep4 -1.496923                   \n",
       "isolate_02.24HR.UT.BRep1  -1.885653                   \n",
       "isolate_02.24HR.UT.BRep2  -1.843873                   \n",
       "                          MAL1.562126.562246.bc..r... ... PF3D7_1478800\n",
       "isolate_02.24HR.DHA.BRep1 -1.8750152                  ...  0.7908186   \n",
       "isolate_02.24HR.DHA.BRep2 -0.4146732                  ...  0.6594577   \n",
       "isolate_02.24HR.DHA.BRep3 -1.6939891                  ...  0.8463461   \n",
       "isolate_02.24HR.DHA.BRep4 -1.2190104                  ...  0.9278220   \n",
       "isolate_02.24HR.UT.BRep1  -1.3507475                  ... -0.7181469   \n",
       "isolate_02.24HR.UT.BRep2  -1.4049581                  ...  1.0008890   \n",
       "                          PF3D7_1479000 PF3D7_1479200 PF3D7_1479400\n",
       "isolate_02.24HR.DHA.BRep1 -0.07015143    0.02413322   -2.21522700  \n",
       "isolate_02.24HR.DHA.BRep2 -1.28830500    0.80631430   -3.73371200  \n",
       "isolate_02.24HR.DHA.BRep3  0.27981610    0.11500190   -1.30590200  \n",
       "isolate_02.24HR.DHA.BRep4  0.37528990    1.11324100   -4.01628700  \n",
       "isolate_02.24HR.UT.BRep1   0.19396830   -0.12595080    0.04824402  \n",
       "isolate_02.24HR.UT.BRep2   1.00837600    0.79113820   -2.24612800  \n",
       "                          PF3D7_1479500 PF3D7_1479600 PF3D7_1479900\n",
       "isolate_02.24HR.DHA.BRep1 -1.957654     -2.188635     -1.722201    \n",
       "isolate_02.24HR.DHA.BRep2 -1.990368     -1.633418     -2.104227    \n",
       "isolate_02.24HR.DHA.BRep3 -0.679212     -2.099512     -1.626372    \n",
       "isolate_02.24HR.DHA.BRep4 -1.327287     -2.375500     -1.939162    \n",
       "isolate_02.24HR.UT.BRep1  -1.316566     -2.247523     -1.104079    \n",
       "isolate_02.24HR.UT.BRep2  -1.698355     -2.290114     -2.224646    \n",
       "                          PF3D7_1480000 PF3D7_1480100 ClearanceRate\n",
       "isolate_02.24HR.DHA.BRep1 -3.995680     -0.9029792    NA           \n",
       "isolate_02.24HR.DHA.BRep2 -5.767710     -2.1779300    NA           \n",
       "isolate_02.24HR.DHA.BRep3 -4.422711     -1.4084850    NA           \n",
       "isolate_02.24HR.DHA.BRep4 -3.500963     -0.7961429    NA           \n",
       "isolate_02.24HR.UT.BRep1  -4.776909     -2.2181150    NA           \n",
       "isolate_02.24HR.UT.BRep2  -5.549935     -1.9648830    NA           "
      ]
     },
     "metadata": {},
     "output_type": "display_data"
    }
   ],
   "source": [
    "rownames(testing_set) <- testing_set$Sample_Names\n",
    "head(testing_set) "
   ]
  },
  {
   "cell_type": "code",
   "execution_count": 5,
   "metadata": {},
   "outputs": [
    {
     "data": {
      "text/html": [
       "<table>\n",
       "<thead><tr><th></th><th scope=col>PF3D7_0100100</th><th scope=col>PF3D7_0100200</th><th scope=col>PF3D7_0100300</th><th scope=col>PF3D7_0100600</th><th scope=col>PF3D7_0100800</th><th scope=col>PF3D7_0101300</th><th scope=col>PF3D7_0101600</th><th scope=col>PF3D7_0101800</th><th scope=col>PF3D7_0101900</th><th scope=col>PF3D7_0102000</th><th scope=col>...</th><th scope=col>PF3D7_1478600</th><th scope=col>PF3D7_1478800</th><th scope=col>PF3D7_1479000</th><th scope=col>PF3D7_1479200</th><th scope=col>PF3D7_1479400</th><th scope=col>PF3D7_1479500</th><th scope=col>PF3D7_1479600</th><th scope=col>PF3D7_1479900</th><th scope=col>PF3D7_1480000</th><th scope=col>PF3D7_1480100</th></tr></thead>\n",
       "<tbody>\n",
       "\t<tr><th scope=row>GSM1427365</th><td>0.2263112   </td><td>-0.396828975</td><td>-1.8045812  </td><td>-0.10825583 </td><td>0.4225580   </td><td>0.3557607   </td><td>-0.2436796  </td><td>-0.6010834  </td><td> 1.65519123 </td><td>2.6340359   </td><td>...         </td><td> 0.9990883  </td><td>-0.66922052 </td><td>-0.33338305 </td><td>-0.778371248</td><td>-1.22734354 </td><td>0.8102838   </td><td>2.8834777   </td><td>1.190193    </td><td>-1.3095280  </td><td>-0.6417096  </td></tr>\n",
       "\t<tr><th scope=row>GSM1427366</th><td>0.5544274   </td><td> 0.542001149</td><td>-1.5615728  </td><td>-0.49028893 </td><td>0.8579291   </td><td>0.2392953   </td><td> 0.3599728  </td><td> 1.0532317  </td><td>-0.41601255 </td><td>1.5859599   </td><td>...         </td><td> 1.0246094  </td><td>-0.36272413 </td><td>-0.28064384 </td><td>-0.307575104</td><td> 0.27269952 </td><td>1.1581390   </td><td>1.4131779   </td><td>1.830839    </td><td> 0.2102166  </td><td>-1.0655334  </td></tr>\n",
       "\t<tr><th scope=row>GSM1427367</th><td>0.5870483   </td><td> 0.707557368</td><td>-1.6045872  </td><td> 0.17678321 </td><td>0.3071121   </td><td>0.5759948   </td><td> 0.4164976  </td><td> 1.4826555  </td><td> 0.03676142 </td><td>0.6985231   </td><td>...         </td><td> 1.6783285  </td><td> 0.02714867 </td><td>-0.19359577 </td><td> 0.192411135</td><td>-0.08742836 </td><td>1.5837753   </td><td>1.8197343   </td><td>1.800309    </td><td> 0.1367734  </td><td>-0.7361304  </td></tr>\n",
       "\t<tr><th scope=row>GSM1427368</th><td>0.6806546   </td><td>-0.744062579</td><td>-1.4411366  </td><td> 0.05725636 </td><td>0.5600164   </td><td>0.2790185   </td><td> 0.2415330  </td><td> 0.7493490  </td><td> 0.36949016 </td><td>0.4427583   </td><td>...         </td><td>-0.7517638  </td><td> 1.15359584 </td><td> 2.54803606 </td><td> 0.042056798</td><td> 0.04980615 </td><td>0.9258309   </td><td>0.1119095   </td><td>1.201473    </td><td>-0.5442685  </td><td>-0.5303997  </td></tr>\n",
       "\t<tr><th scope=row>GSM1427369</th><td>1.0894079   </td><td>-0.002673478</td><td>-0.8774131  </td><td>-0.57541363 </td><td>0.7033856   </td><td>0.7595096   </td><td> 1.0138636  </td><td> 1.8168844  </td><td>-0.12929834 </td><td>0.1855374   </td><td>...         </td><td> 0.8483694  </td><td>-1.62176113 </td><td>-0.47222571 </td><td>-1.029073427</td><td>-0.67851082 </td><td>1.0583353   </td><td>0.7476287   </td><td>2.574896    </td><td> 0.3771322  </td><td>-0.7902538  </td></tr>\n",
       "\t<tr><th scope=row>GSM1427370</th><td>0.2358625   </td><td> 0.796118802</td><td>-1.1880879  </td><td>-0.35935227 </td><td>0.4937340   </td><td>1.5079454   </td><td> 0.6708259  </td><td> 0.9293397  </td><td>-0.56404628 </td><td>1.9407204   </td><td>...         </td><td> 1.0396861  </td><td>-0.94450704 </td><td>-0.06905093 </td><td> 0.002730421</td><td>-0.80917046 </td><td>2.6935400   </td><td>1.8491163   </td><td>2.202391    </td><td>-0.1914365  </td><td>-0.8388607  </td></tr>\n",
       "</tbody>\n",
       "</table>\n"
      ],
      "text/latex": [
       "\\begin{tabular}{r|llllllllllllllllllllllllllllllllllllllllllllllllllllllllllllllllllllllllllllllllllllllllllllllllllllllllllllllllllllllllllllllllllllllllllllllllllllllllllllllllllllllllllllllllllllllllllllllllllllllllllllllllllllllllllllllllllllllllllllllllllllllllllllllllllllllllllllllllllllllllllllllllllllllllllllllllllllllllllllllllllllllllllllllllllllllllllllllllllllllllllllllllllllllllllllllllllllllllllllllllllllllllllllllllllllllllllllllllllllllllllllllllllllllllllllllllllllllllllllllllllllllllllllllllllllllllllllllllllllllllllllllllllllllllllllllllllllllllllllllllllllllllllllllllllllllllllllllllllllllllllllllllllllllllllllllllllllllllllllllllllllllllllllllllllllllllllllllllllllllllllllllllllllllllllllllllllllllllllllllllllllllllllllllllllllllllllllllllllllllllllllllllllllllllllllllllllllllllllllllllllllllllllllllllllllllllllllllllllllllllllllllllllllllllllllllllllllllllllllllllllllllllllllllllllllllllllllllllllllllllllllllllllllllllllllllllllllllllllllllllllllllllllllllllllllllllllllllllllllllllllllllllllllllllllllllllllllllllllllllllllllllllllllllllllllllllllllllllllllllllllllllllllllllllllllllllllllllllllllllllllllllllllllllllllllllllllllllllllllllllllllllllllllllllllllllllllllllllllllllllllllllllllllllllllllllllllllllllllllllllllllllllllllllllllllllllllllllllllllllllllllllllllllllllllllllllllllllllllllllllllllllllllllllllllllllllllllllllllllllllllllllllllllllllllllllllllllllllllllllllllllllllllllllllllllllllllllllllllllllllllllllllllllllllllllllllllllllllllllllllllllllllllllllllllllllllllllllllllllllllllllllllllllllllllllllllllllllllllllllllllllllllllllllllllllllllllllllllllllllllllllllllllllllllllllllllllllllllllllllllllllllllllllllllllllllllllllllllllllllllllllllllllllllllllllllllllllllllllllllllllllllllllllllllllllllllllllllllllllllllllllllllllllllllllllllllllllllllllllllllllllllllllllllllllllllllllllllllllllllllllllllllllllllllllllllllllllllllllllllllllllllllllllllllllllllllllllllllllllllllllllllllllllllllllllllllllllllllllllllllllllllllllllllllllllllllllllllllllllllllllllllllllllllllllllllllllllllllllllllllllllllllllllllllllllllllllllllllllllllllllllllllllllllllllllllllllllllllllllllllllllllllllllllllllllllllllllllllllllllllllllllllllllllllllllllllllllllllllllllllllllllllllllllllllllllllllllllllllllllllllllllllllllllllllllllllllllllllllllllllllllllllllllllllllllllllllllllllllllllllllllllllllllllllllllllllllllllllllllllllllllllllllllllllllllllllllllllllllllllllllllllllllllllllllllllllllllllllllllllllllllllllllllllllllllllllllllllllllllllllllllllllllllllllllllllllllllllllllllllllllllllllllllllllllllllllllllllllllllllllllllllllllllllllllllllllllllllllllllllllllllllllllllllllllllllllllllllllllllllllllllllllllllllllllllllllllllllllllllllllllllllllllllllllllllllllllllllllllllllllllllllllllllllllllllllllllllllllllllllllllllllllllllllllllllllllllllllllllllllllllllllllllllllllllllllllllllllllllllllllllllllllllllllllllllllllllllllllllllllllllllllllllllllllllllllllllllllllllllllllllllllllllllllllllllllllllllllllllllllllllllllllllllllllllllllllllllllllllllllllllllllllllllllllllllllllllllllllllllllllllllllllllllllllllllllllllllllllllllllllllllllllllllllllllllllllllllllllllllllllllllllllllllllllllllllllllllllllllllllllllllllllllllllllllllllllllllllllllllllllllllllllllllllllllllllllllllllllllllllllllllllllllllllllllllllllllllllllllllllllllllllllllllllllllllllllllllllllllllllllllllllllllllllllllllllllllllllllllllllllllllllllllllllllllllllllllllllllllllllllllllllllllllllllllllllllllllllllllllllllllllllllllllllllllllllllllllllllllllllllllllllllllllllllllllllllllllllllllllllllllllllllllllllllllllllllllllllllllllllllllllllllllllllllllllllllllllllllllllllllllllllllllllllllllllllllllllllllllllllllllllllllllllllllllllllllllllllllllllllllllllllllllllllllllllllllllllllllllllllllllllllllllllllllllllllllllllllllllllllllllllllllllllllllllllllllllllllllllllllllllllllllllllllllllllllllllllllllllllllllllllllllllllllllllllllllllllllllllllllllllllllllllllllllllllllllllllllllllllllllllllllllllllllllllllllllllllllllllllllllllllllllllllllllllllllllllllllllllllllllllllllllllllllllllllllllllllllllllllllllllllllllllllllllllllllllllllllllllllllllllllllllllllllllllllllllllllllllllllllllllllllllllllllllllllllllllllllllllllllllllllllllllllllllllllllllllllllllllllllllllllllllllllllllllllllllllllllllllllllllllllllllllllllllllllllllllllllllllllllllllllllllllllllllllllllllllllllllllllllllllllllllllllllllllllllllllllllllllllllllllllllllllllllllllllllllllllllllllllllllllllllllllllllllllllllllllllllllllllllllllllllllllllllllllllllllllllllllllllllllllllllllllllllllllllllllllllllllllllllllllllllllllllllllllllllllllllllllllllllllllllllllllllllllllllllllllllllllllllllllllllllllllllllllllllllllllllllllllllllllllllllllllllllllllllllllllllllllllllllllllllllllllllllllllllllllllllllllllllllllllllllllllllllllllllllllllllllllllllllllllllllllllllllllllllllllllllllllllllllllllllllllllllllllllllllllllllllllllllllllllllllllllllllllllllllllllllllllllllllllllllllllllllllllllllllllllllllllllllllllllllllllllllllllllllllllllllllll}\n",
       "  & PF3D7\\_0100100 & PF3D7\\_0100200 & PF3D7\\_0100300 & PF3D7\\_0100600 & PF3D7\\_0100800 & PF3D7\\_0101300 & PF3D7\\_0101600 & PF3D7\\_0101800 & PF3D7\\_0101900 & PF3D7\\_0102000 & ... & PF3D7\\_1478600 & PF3D7\\_1478800 & PF3D7\\_1479000 & PF3D7\\_1479200 & PF3D7\\_1479400 & PF3D7\\_1479500 & PF3D7\\_1479600 & PF3D7\\_1479900 & PF3D7\\_1480000 & PF3D7\\_1480100\\\\\n",
       "\\hline\n",
       "\tGSM1427365 & 0.2263112    & -0.396828975 & -1.8045812   & -0.10825583  & 0.4225580    & 0.3557607    & -0.2436796   & -0.6010834   &  1.65519123  & 2.6340359    & ...          &  0.9990883   & -0.66922052  & -0.33338305  & -0.778371248 & -1.22734354  & 0.8102838    & 2.8834777    & 1.190193     & -1.3095280   & -0.6417096  \\\\\n",
       "\tGSM1427366 & 0.5544274    &  0.542001149 & -1.5615728   & -0.49028893  & 0.8579291    & 0.2392953    &  0.3599728   &  1.0532317   & -0.41601255  & 1.5859599    & ...          &  1.0246094   & -0.36272413  & -0.28064384  & -0.307575104 &  0.27269952  & 1.1581390    & 1.4131779    & 1.830839     &  0.2102166   & -1.0655334  \\\\\n",
       "\tGSM1427367 & 0.5870483    &  0.707557368 & -1.6045872   &  0.17678321  & 0.3071121    & 0.5759948    &  0.4164976   &  1.4826555   &  0.03676142  & 0.6985231    & ...          &  1.6783285   &  0.02714867  & -0.19359577  &  0.192411135 & -0.08742836  & 1.5837753    & 1.8197343    & 1.800309     &  0.1367734   & -0.7361304  \\\\\n",
       "\tGSM1427368 & 0.6806546    & -0.744062579 & -1.4411366   &  0.05725636  & 0.5600164    & 0.2790185    &  0.2415330   &  0.7493490   &  0.36949016  & 0.4427583    & ...          & -0.7517638   &  1.15359584  &  2.54803606  &  0.042056798 &  0.04980615  & 0.9258309    & 0.1119095    & 1.201473     & -0.5442685   & -0.5303997  \\\\\n",
       "\tGSM1427369 & 1.0894079    & -0.002673478 & -0.8774131   & -0.57541363  & 0.7033856    & 0.7595096    &  1.0138636   &  1.8168844   & -0.12929834  & 0.1855374    & ...          &  0.8483694   & -1.62176113  & -0.47222571  & -1.029073427 & -0.67851082  & 1.0583353    & 0.7476287    & 2.574896     &  0.3771322   & -0.7902538  \\\\\n",
       "\tGSM1427370 & 0.2358625    &  0.796118802 & -1.1880879   & -0.35935227  & 0.4937340    & 1.5079454    &  0.6708259   &  0.9293397   & -0.56404628  & 1.9407204    & ...          &  1.0396861   & -0.94450704  & -0.06905093  &  0.002730421 & -0.80917046  & 2.6935400    & 1.8491163    & 2.202391     & -0.1914365   & -0.8388607  \\\\\n",
       "\\end{tabular}\n"
      ],
      "text/markdown": [
       "\n",
       "| <!--/--> | PF3D7_0100100 | PF3D7_0100200 | PF3D7_0100300 | PF3D7_0100600 | PF3D7_0100800 | PF3D7_0101300 | PF3D7_0101600 | PF3D7_0101800 | PF3D7_0101900 | PF3D7_0102000 | ... | PF3D7_1478600 | PF3D7_1478800 | PF3D7_1479000 | PF3D7_1479200 | PF3D7_1479400 | PF3D7_1479500 | PF3D7_1479600 | PF3D7_1479900 | PF3D7_1480000 | PF3D7_1480100 | \n",
       "|---|---|---|---|---|---|\n",
       "| GSM1427365 | 0.2263112    | -0.396828975 | -1.8045812   | -0.10825583  | 0.4225580    | 0.3557607    | -0.2436796   | -0.6010834   |  1.65519123  | 2.6340359    | ...          |  0.9990883   | -0.66922052  | -0.33338305  | -0.778371248 | -1.22734354  | 0.8102838    | 2.8834777    | 1.190193     | -1.3095280   | -0.6417096   | \n",
       "| GSM1427366 | 0.5544274    |  0.542001149 | -1.5615728   | -0.49028893  | 0.8579291    | 0.2392953    |  0.3599728   |  1.0532317   | -0.41601255  | 1.5859599    | ...          |  1.0246094   | -0.36272413  | -0.28064384  | -0.307575104 |  0.27269952  | 1.1581390    | 1.4131779    | 1.830839     |  0.2102166   | -1.0655334   | \n",
       "| GSM1427367 | 0.5870483    |  0.707557368 | -1.6045872   |  0.17678321  | 0.3071121    | 0.5759948    |  0.4164976   |  1.4826555   |  0.03676142  | 0.6985231    | ...          |  1.6783285   |  0.02714867  | -0.19359577  |  0.192411135 | -0.08742836  | 1.5837753    | 1.8197343    | 1.800309     |  0.1367734   | -0.7361304   | \n",
       "| GSM1427368 | 0.6806546    | -0.744062579 | -1.4411366   |  0.05725636  | 0.5600164    | 0.2790185    |  0.2415330   |  0.7493490   |  0.36949016  | 0.4427583    | ...          | -0.7517638   |  1.15359584  |  2.54803606  |  0.042056798 |  0.04980615  | 0.9258309    | 0.1119095    | 1.201473     | -0.5442685   | -0.5303997   | \n",
       "| GSM1427369 | 1.0894079    | -0.002673478 | -0.8774131   | -0.57541363  | 0.7033856    | 0.7595096    |  1.0138636   |  1.8168844   | -0.12929834  | 0.1855374    | ...          |  0.8483694   | -1.62176113  | -0.47222571  | -1.029073427 | -0.67851082  | 1.0583353    | 0.7476287    | 2.574896     |  0.3771322   | -0.7902538   | \n",
       "| GSM1427370 | 0.2358625    |  0.796118802 | -1.1880879   | -0.35935227  | 0.4937340    | 1.5079454    |  0.6708259   |  0.9293397   | -0.56404628  | 1.9407204    | ...          |  1.0396861   | -0.94450704  | -0.06905093  |  0.002730421 | -0.80917046  | 2.6935400    | 1.8491163    | 2.202391     | -0.1914365   | -0.8388607   | \n",
       "\n",
       "\n"
      ],
      "text/plain": [
       "           PF3D7_0100100 PF3D7_0100200 PF3D7_0100300 PF3D7_0100600\n",
       "GSM1427365 0.2263112     -0.396828975  -1.8045812    -0.10825583  \n",
       "GSM1427366 0.5544274      0.542001149  -1.5615728    -0.49028893  \n",
       "GSM1427367 0.5870483      0.707557368  -1.6045872     0.17678321  \n",
       "GSM1427368 0.6806546     -0.744062579  -1.4411366     0.05725636  \n",
       "GSM1427369 1.0894079     -0.002673478  -0.8774131    -0.57541363  \n",
       "GSM1427370 0.2358625      0.796118802  -1.1880879    -0.35935227  \n",
       "           PF3D7_0100800 PF3D7_0101300 PF3D7_0101600 PF3D7_0101800\n",
       "GSM1427365 0.4225580     0.3557607     -0.2436796    -0.6010834   \n",
       "GSM1427366 0.8579291     0.2392953      0.3599728     1.0532317   \n",
       "GSM1427367 0.3071121     0.5759948      0.4164976     1.4826555   \n",
       "GSM1427368 0.5600164     0.2790185      0.2415330     0.7493490   \n",
       "GSM1427369 0.7033856     0.7595096      1.0138636     1.8168844   \n",
       "GSM1427370 0.4937340     1.5079454      0.6708259     0.9293397   \n",
       "           PF3D7_0101900 PF3D7_0102000 ... PF3D7_1478600 PF3D7_1478800\n",
       "GSM1427365  1.65519123   2.6340359     ...  0.9990883    -0.66922052  \n",
       "GSM1427366 -0.41601255   1.5859599     ...  1.0246094    -0.36272413  \n",
       "GSM1427367  0.03676142   0.6985231     ...  1.6783285     0.02714867  \n",
       "GSM1427368  0.36949016   0.4427583     ... -0.7517638     1.15359584  \n",
       "GSM1427369 -0.12929834   0.1855374     ...  0.8483694    -1.62176113  \n",
       "GSM1427370 -0.56404628   1.9407204     ...  1.0396861    -0.94450704  \n",
       "           PF3D7_1479000 PF3D7_1479200 PF3D7_1479400 PF3D7_1479500\n",
       "GSM1427365 -0.33338305   -0.778371248  -1.22734354   0.8102838    \n",
       "GSM1427366 -0.28064384   -0.307575104   0.27269952   1.1581390    \n",
       "GSM1427367 -0.19359577    0.192411135  -0.08742836   1.5837753    \n",
       "GSM1427368  2.54803606    0.042056798   0.04980615   0.9258309    \n",
       "GSM1427369 -0.47222571   -1.029073427  -0.67851082   1.0583353    \n",
       "GSM1427370 -0.06905093    0.002730421  -0.80917046   2.6935400    \n",
       "           PF3D7_1479600 PF3D7_1479900 PF3D7_1480000 PF3D7_1480100\n",
       "GSM1427365 2.8834777     1.190193      -1.3095280    -0.6417096   \n",
       "GSM1427366 1.4131779     1.830839       0.2102166    -1.0655334   \n",
       "GSM1427367 1.8197343     1.800309       0.1367734    -0.7361304   \n",
       "GSM1427368 0.1119095     1.201473      -0.5442685    -0.5303997   \n",
       "GSM1427369 0.7476287     2.574896       0.3771322    -0.7902538   \n",
       "GSM1427370 1.8491163     2.202391      -0.1914365    -0.8388607   "
      ]
     },
     "metadata": {},
     "output_type": "display_data"
    }
   ],
   "source": [
    "# only keep gene expression features\n",
    "subtrain <- subset(training_set,select = -c(Asexual.stage..hpi., ClearanceRate, Sample_Names, Country, Kmeans.Grp))\n",
    "head(subtrain)"
   ]
  },
  {
   "cell_type": "code",
   "execution_count": 6,
   "metadata": {},
   "outputs": [
    {
     "data": {
      "text/html": [
       "<table>\n",
       "<thead><tr><th></th><th scope=col>MAL1.465720.465873.bc..rv..</th><th scope=col>MAL1.48287.48430....kr...can</th><th scope=col>MAL1.562126.562246.bc..r...</th><th scope=col>MAL1.59416.59687....kr...can</th><th scope=col>MAL1.616633.616682.......y.</th><th scope=col>MAL10.1139073.1139243....kr</th><th scope=col>MAL10.258733.258825.b...r..</th><th scope=col>MAL10.271753.271892.bcgkrvy</th><th scope=col>PF3D7_0100100</th><th scope=col>PF3D7_0100200</th><th scope=col>...</th><th scope=col>PF3D7_1478800</th><th scope=col>PF3D7_1479000</th><th scope=col>PF3D7_1479200</th><th scope=col>PF3D7_1479400</th><th scope=col>PF3D7_1479500</th><th scope=col>PF3D7_1479600</th><th scope=col>PF3D7_1479900</th><th scope=col>PF3D7_1480000</th><th scope=col>PF3D7_1480100</th><th scope=col>ClearanceRate</th></tr></thead>\n",
       "<tbody>\n",
       "\t<tr><th scope=row>isolate_02.24HR.DHA.BRep1</th><td>-0.17897087</td><td>-1.922426  </td><td>-1.8750152 </td><td>-1.4846050 </td><td>-0.23359977</td><td> 0.2664777 </td><td>2.1048480  </td><td> 0.04068825</td><td>-1.715683  </td><td>-3.141518  </td><td>...        </td><td> 0.7908186 </td><td>-0.07015143</td><td> 0.02413322</td><td>-2.21522700</td><td>-1.957654  </td><td>-2.188635  </td><td>-1.722201  </td><td>-3.995680  </td><td>-0.9029792 </td><td>NA         </td></tr>\n",
       "\t<tr><th scope=row>isolate_02.24HR.DHA.BRep2</th><td> 1.33742051</td><td>-1.764941  </td><td>-0.4146732 </td><td>-0.6869102 </td><td> 0.29146841</td><td>-0.6138915 </td><td>2.1941686  </td><td> 2.12798795</td><td>-3.984082  </td><td>-1.798437  </td><td>...        </td><td> 0.6594577 </td><td>-1.28830500</td><td> 0.80631430</td><td>-3.73371200</td><td>-1.990368  </td><td>-1.633418  </td><td>-2.104227  </td><td>-5.767710  </td><td>-2.1779300 </td><td>NA         </td></tr>\n",
       "\t<tr><th scope=row>isolate_02.24HR.DHA.BRep3</th><td>-0.71744051</td><td>-1.151982  </td><td>-1.6939891 </td><td>-1.3374366 </td><td> 0.08113357</td><td>-0.2184741 </td><td>2.6465896  </td><td>-0.24849734</td><td>-1.337844  </td><td>-1.202280  </td><td>...        </td><td> 0.8463461 </td><td> 0.27981610</td><td> 0.11500190</td><td>-1.30590200</td><td>-0.679212  </td><td>-2.099512  </td><td>-1.626372  </td><td>-4.422711  </td><td>-1.4084850 </td><td>NA         </td></tr>\n",
       "\t<tr><th scope=row>isolate_02.24HR.DHA.BRep4</th><td> 0.14350116</td><td>-1.496923  </td><td>-1.2190104 </td><td>-1.1447648 </td><td> 0.68935609</td><td> 0.3618006 </td><td>1.2585461  </td><td>-0.32550691</td><td>-2.168455  </td><td>-1.575822  </td><td>...        </td><td> 0.9278220 </td><td> 0.37528990</td><td> 1.11324100</td><td>-4.01628700</td><td>-1.327287  </td><td>-2.375500  </td><td>-1.939162  </td><td>-3.500963  </td><td>-0.7961429 </td><td>NA         </td></tr>\n",
       "\t<tr><th scope=row>isolate_02.24HR.UT.BRep1</th><td>-0.07823546</td><td>-1.885653  </td><td>-1.3507475 </td><td>-0.9698152 </td><td>-0.30848001</td><td> 0.2006528 </td><td>2.4823195  </td><td>-0.55223997</td><td>-1.129170  </td><td>-2.068018  </td><td>...        </td><td>-0.7181469 </td><td> 0.19396830</td><td>-0.12595080</td><td> 0.04824402</td><td>-1.316566  </td><td>-2.247523  </td><td>-1.104079  </td><td>-4.776909  </td><td>-2.2181150 </td><td>NA         </td></tr>\n",
       "\t<tr><th scope=row>isolate_02.24HR.UT.BRep2</th><td>-0.26204843</td><td>-1.843873  </td><td>-1.4049581 </td><td>-0.8311031 </td><td> 1.06281114</td><td> 0.2284822 </td><td>0.5125534  </td><td>-0.24201938</td><td>-2.159964  </td><td>-1.912090  </td><td>...        </td><td> 1.0008890 </td><td> 1.00837600</td><td> 0.79113820</td><td>-2.24612800</td><td>-1.698355  </td><td>-2.290114  </td><td>-2.224646  </td><td>-5.549935  </td><td>-1.9648830 </td><td>NA         </td></tr>\n",
       "</tbody>\n",
       "</table>\n"
      ],
      "text/latex": [
       "\\begin{tabular}{r|lllllllllllllllllllllllllllllllllllllllllllllllllllllllllllllllllllllllllllllllllllllllllllllllllllllllllllllllllllllllllllllllllllllllllllllllllllllllllllllllllllllllllllllllllllllllllllllllllllllllllllllllllllllllllllllllllllllllllllllllllllllllllllllllllllllllllllllllllllllllllllllllllllllllllllllllllllllllllllllllllllllllllllllllllllllllllllllllllllllllllllllllllllllllllllllllllllllllllllllllllllllllllllllllllllllllllllllllllllllllllllllllllllllllllllllllllllllllllllllllllllllllllllllllllllllllllllllllllllllllllllllllllllllllllllllllllllllllllllllllllllllllllllllllllllllllllllllllllllllllllllllllllllllllllllllllllllllllllllllllllllllllllllllllllllllllllllllllllllllllllllllllllllllllllllllllllllllllllllllllllllllllllllllllllllllllllllllllllllllllllllllllllllllllllllllllllllllllllllllllllllllllllllllllllllllllllllllllllllllllllllllllllllllllllllllllllllllllllllllllllllllllllllllllllllllllllllllllllllllllllllllllllllllllllllllllllllllllllllllllllllllllllllllllllllllllllllllllllllllllllllllllllllllllllllllllllllllllllllllllllllllllllllllllllllllllllllllllllllllllllllllllllllllllllllllllllllllllllllllllllllllllllllllllllllllllllllllllllllllllllllllllllllllllllllllllllllllllllllllllllllllllllllllllllllllllllllllllllllllllllllllllllllllllllllllllllllllllllllllllllllllllllllllllllllllllllllllllllllllllllllllllllllllllllllllllllllllllllllllllllllllllllllllllllllllllllllllllllllllllllllllllllllllllllllllllllllllllllllllllllllllllllllllllllllllllllllllllllllllllllllllllllllllllllllllllllllllllllllllllllllllllllllllllllllllllllllllllllllllllllllllllllllllllllllllllllllllllllllllllllllllllllllllllllllllllllllllllllllllllllllllllllllllllllllllllllllllllllllllllllllllllllllllllllllllllllllllllllllllllllllllllllllllllllllllllllllllllllllllllllllllllllllllllllllllllllllllllllllllllllllllllllllllllllllllllllllllllllllllllllllllllllllllllllllllllllllllllllllllllllllllllllllllllllllllllllllllllllllllllllllllllllllllllllllllllllllllllllllllllllllllllllllllllllllllllllllllllllllllllllllllllllllllllllllllllllllllllllllllllllllllllllllllllllllllllllllllllllllllllllllllllllllllllllllllllllllllllllllllllllllllllllllllllllllllllllllllllllllllllllllllllllllllllllllllllllllllllllllllllllllllllllllllllllllllllllllllllllllllllllllllllllllllllllllllllllllllllllllllllllllllllllllllllllllllllllllllllllllllllllllllllllllllllllllllllllllllllllllllllllllllllllllllllllllllllllllllllllllllllllllllllllllllllllllllllllllllllllllllllllllllllllllllllllllllllllllllllllllllllllllllllllllllllllllllllllllllllllllllllllllllllllllllllllllllllllllllllllllllllllllllllllllllllllllllllllllllllllllllllllllllllllllllllllllllllllllllllllllllllllllllllllllllllllllllllllllllllllllllllllllllllllllllllllllllllllllllllllllllllllllllllllllllllllllllllllllllllllllllllllllllllllllllllllllllllllllllllllllllllllllllllllllllllllllllllllllllllllllllllllllllllllllllllllllllllllllllllllllllllllllllllllllllllllllllllllllllllllllllllllllllllllllllllllllllllllllllllllllllllllllllllllllllllllllllllllllllllllllllllllllllllllllllllllllllllllllllllllllllllllllllllllllllllllllllllllllllllllllllllllllllllllllllllllllllllllllllllllllllllllllllllllllllllllllllllllllllllllllllllllllllllllllllllllllllllllllllllllllllllllllllllllllllllllllllllllllllllllllllllllllllllllllllllllllllllllllllllllllllllllllllllllllllllllllllllllllllllllllllllllllllllllllllllllllllllllllllllllllllllllllllllllllllllllllllllllllllllllllllllllllllllllllllllllllllllllllllllllllllllllllllllllllllllllllllllllllllllllllllllllllllllllllllllllllllllllllllllllllllllllllllllllllllllllllllllllllllllllllllllllllllllllllllllllllllllllllllllllllllllllllllllllllllllllllllllllllllllllllllllllllllllllllllllllllllllllllllllllllllllllllllllllllllllllllllllllllllllllllllllllllllllllllllllllllllllllllllllllllllllllllllllllllllllllllllllllllllllllllllllllllllllllllllllllllllllllllllllllllllllllllllllllllllllllllllllllllllllllllllllllllllllllllllllllllllllllllllllllllllllllllllllllllllllllllllllllllllllllllllllllllllllllllllllllllllllllllllllllllllllllllllllllllllllllllllllllllllllllllllllllllllllllllllllllllllllllllllllllllllllllllllllllllllllllllllllllllllllllllllllllllllllllllllllllllllllllllllllllllllllllllllllllllllllllllllllllllllllllllllllllllllllllllllllllllllllllllllllllllllllllllllllllllllllllllllllllllllllllllllllllllllllllllllllllllllllllllllllllllllllllllllllllllllllllllllllllllllllllllllllllllllllllllllllllllllllllllllllllllllllllllllllllllllllllllllllllllllllllllllllllllllllllllllllllllllllllllllllllllllllllllllllllllllllllllllllllllllllllllllllllllllllllllllllllllllllllllllllllllllllllllllllllllllllllllllllllllllllllllllllllllllllllllllllllllllllllllllllllllllllllllllllllllllllllllllllllllllllllllllllllllllllllllllllllllllllllllllllllllllllllllllllllllllllllllllllllllllllllllllllllllllllllllllllllllllllllllllllllllllllllllllllllllllllllllllllllllllllllllllllllllllllllllllllllllllllllllllllllllllllllllllllllllllllllllllllllllllllllllllllllllllllllllllllllllllllllllllllllllllllll}\n",
       "  & MAL1.465720.465873.bc..rv.. & MAL1.48287.48430....kr...can & MAL1.562126.562246.bc..r... & MAL1.59416.59687....kr...can & MAL1.616633.616682.......y. & MAL10.1139073.1139243....kr & MAL10.258733.258825.b...r.. & MAL10.271753.271892.bcgkrvy & PF3D7\\_0100100 & PF3D7\\_0100200 & ... & PF3D7\\_1478800 & PF3D7\\_1479000 & PF3D7\\_1479200 & PF3D7\\_1479400 & PF3D7\\_1479500 & PF3D7\\_1479600 & PF3D7\\_1479900 & PF3D7\\_1480000 & PF3D7\\_1480100 & ClearanceRate\\\\\n",
       "\\hline\n",
       "\tisolate\\_02.24HR.DHA.BRep1 & -0.17897087 & -1.922426   & -1.8750152  & -1.4846050  & -0.23359977 &  0.2664777  & 2.1048480   &  0.04068825 & -1.715683   & -3.141518   & ...         &  0.7908186  & -0.07015143 &  0.02413322 & -2.21522700 & -1.957654   & -2.188635   & -1.722201   & -3.995680   & -0.9029792  & NA         \\\\\n",
       "\tisolate\\_02.24HR.DHA.BRep2 &  1.33742051 & -1.764941   & -0.4146732  & -0.6869102  &  0.29146841 & -0.6138915  & 2.1941686   &  2.12798795 & -3.984082   & -1.798437   & ...         &  0.6594577  & -1.28830500 &  0.80631430 & -3.73371200 & -1.990368   & -1.633418   & -2.104227   & -5.767710   & -2.1779300  & NA         \\\\\n",
       "\tisolate\\_02.24HR.DHA.BRep3 & -0.71744051 & -1.151982   & -1.6939891  & -1.3374366  &  0.08113357 & -0.2184741  & 2.6465896   & -0.24849734 & -1.337844   & -1.202280   & ...         &  0.8463461  &  0.27981610 &  0.11500190 & -1.30590200 & -0.679212   & -2.099512   & -1.626372   & -4.422711   & -1.4084850  & NA         \\\\\n",
       "\tisolate\\_02.24HR.DHA.BRep4 &  0.14350116 & -1.496923   & -1.2190104  & -1.1447648  &  0.68935609 &  0.3618006  & 1.2585461   & -0.32550691 & -2.168455   & -1.575822   & ...         &  0.9278220  &  0.37528990 &  1.11324100 & -4.01628700 & -1.327287   & -2.375500   & -1.939162   & -3.500963   & -0.7961429  & NA         \\\\\n",
       "\tisolate\\_02.24HR.UT.BRep1 & -0.07823546 & -1.885653   & -1.3507475  & -0.9698152  & -0.30848001 &  0.2006528  & 2.4823195   & -0.55223997 & -1.129170   & -2.068018   & ...         & -0.7181469  &  0.19396830 & -0.12595080 &  0.04824402 & -1.316566   & -2.247523   & -1.104079   & -4.776909   & -2.2181150  & NA         \\\\\n",
       "\tisolate\\_02.24HR.UT.BRep2 & -0.26204843 & -1.843873   & -1.4049581  & -0.8311031  &  1.06281114 &  0.2284822  & 0.5125534   & -0.24201938 & -2.159964   & -1.912090   & ...         &  1.0008890  &  1.00837600 &  0.79113820 & -2.24612800 & -1.698355   & -2.290114   & -2.224646   & -5.549935   & -1.9648830  & NA         \\\\\n",
       "\\end{tabular}\n"
      ],
      "text/markdown": [
       "\n",
       "| <!--/--> | MAL1.465720.465873.bc..rv.. | MAL1.48287.48430....kr...can | MAL1.562126.562246.bc..r... | MAL1.59416.59687....kr...can | MAL1.616633.616682.......y. | MAL10.1139073.1139243....kr | MAL10.258733.258825.b...r.. | MAL10.271753.271892.bcgkrvy | PF3D7_0100100 | PF3D7_0100200 | ... | PF3D7_1478800 | PF3D7_1479000 | PF3D7_1479200 | PF3D7_1479400 | PF3D7_1479500 | PF3D7_1479600 | PF3D7_1479900 | PF3D7_1480000 | PF3D7_1480100 | ClearanceRate | \n",
       "|---|---|---|---|---|---|\n",
       "| isolate_02.24HR.DHA.BRep1 | -0.17897087 | -1.922426   | -1.8750152  | -1.4846050  | -0.23359977 |  0.2664777  | 2.1048480   |  0.04068825 | -1.715683   | -3.141518   | ...         |  0.7908186  | -0.07015143 |  0.02413322 | -2.21522700 | -1.957654   | -2.188635   | -1.722201   | -3.995680   | -0.9029792  | NA          | \n",
       "| isolate_02.24HR.DHA.BRep2 |  1.33742051 | -1.764941   | -0.4146732  | -0.6869102  |  0.29146841 | -0.6138915  | 2.1941686   |  2.12798795 | -3.984082   | -1.798437   | ...         |  0.6594577  | -1.28830500 |  0.80631430 | -3.73371200 | -1.990368   | -1.633418   | -2.104227   | -5.767710   | -2.1779300  | NA          | \n",
       "| isolate_02.24HR.DHA.BRep3 | -0.71744051 | -1.151982   | -1.6939891  | -1.3374366  |  0.08113357 | -0.2184741  | 2.6465896   | -0.24849734 | -1.337844   | -1.202280   | ...         |  0.8463461  |  0.27981610 |  0.11500190 | -1.30590200 | -0.679212   | -2.099512   | -1.626372   | -4.422711   | -1.4084850  | NA          | \n",
       "| isolate_02.24HR.DHA.BRep4 |  0.14350116 | -1.496923   | -1.2190104  | -1.1447648  |  0.68935609 |  0.3618006  | 1.2585461   | -0.32550691 | -2.168455   | -1.575822   | ...         |  0.9278220  |  0.37528990 |  1.11324100 | -4.01628700 | -1.327287   | -2.375500   | -1.939162   | -3.500963   | -0.7961429  | NA          | \n",
       "| isolate_02.24HR.UT.BRep1 | -0.07823546 | -1.885653   | -1.3507475  | -0.9698152  | -0.30848001 |  0.2006528  | 2.4823195   | -0.55223997 | -1.129170   | -2.068018   | ...         | -0.7181469  |  0.19396830 | -0.12595080 |  0.04824402 | -1.316566   | -2.247523   | -1.104079   | -4.776909   | -2.2181150  | NA          | \n",
       "| isolate_02.24HR.UT.BRep2 | -0.26204843 | -1.843873   | -1.4049581  | -0.8311031  |  1.06281114 |  0.2284822  | 0.5125534   | -0.24201938 | -2.159964   | -1.912090   | ...         |  1.0008890  |  1.00837600 |  0.79113820 | -2.24612800 | -1.698355   | -2.290114   | -2.224646   | -5.549935   | -1.9648830  | NA          | \n",
       "\n",
       "\n"
      ],
      "text/plain": [
       "                          MAL1.465720.465873.bc..rv..\n",
       "isolate_02.24HR.DHA.BRep1 -0.17897087                \n",
       "isolate_02.24HR.DHA.BRep2  1.33742051                \n",
       "isolate_02.24HR.DHA.BRep3 -0.71744051                \n",
       "isolate_02.24HR.DHA.BRep4  0.14350116                \n",
       "isolate_02.24HR.UT.BRep1  -0.07823546                \n",
       "isolate_02.24HR.UT.BRep2  -0.26204843                \n",
       "                          MAL1.48287.48430....kr...can\n",
       "isolate_02.24HR.DHA.BRep1 -1.922426                   \n",
       "isolate_02.24HR.DHA.BRep2 -1.764941                   \n",
       "isolate_02.24HR.DHA.BRep3 -1.151982                   \n",
       "isolate_02.24HR.DHA.BRep4 -1.496923                   \n",
       "isolate_02.24HR.UT.BRep1  -1.885653                   \n",
       "isolate_02.24HR.UT.BRep2  -1.843873                   \n",
       "                          MAL1.562126.562246.bc..r...\n",
       "isolate_02.24HR.DHA.BRep1 -1.8750152                 \n",
       "isolate_02.24HR.DHA.BRep2 -0.4146732                 \n",
       "isolate_02.24HR.DHA.BRep3 -1.6939891                 \n",
       "isolate_02.24HR.DHA.BRep4 -1.2190104                 \n",
       "isolate_02.24HR.UT.BRep1  -1.3507475                 \n",
       "isolate_02.24HR.UT.BRep2  -1.4049581                 \n",
       "                          MAL1.59416.59687....kr...can\n",
       "isolate_02.24HR.DHA.BRep1 -1.4846050                  \n",
       "isolate_02.24HR.DHA.BRep2 -0.6869102                  \n",
       "isolate_02.24HR.DHA.BRep3 -1.3374366                  \n",
       "isolate_02.24HR.DHA.BRep4 -1.1447648                  \n",
       "isolate_02.24HR.UT.BRep1  -0.9698152                  \n",
       "isolate_02.24HR.UT.BRep2  -0.8311031                  \n",
       "                          MAL1.616633.616682.......y.\n",
       "isolate_02.24HR.DHA.BRep1 -0.23359977                \n",
       "isolate_02.24HR.DHA.BRep2  0.29146841                \n",
       "isolate_02.24HR.DHA.BRep3  0.08113357                \n",
       "isolate_02.24HR.DHA.BRep4  0.68935609                \n",
       "isolate_02.24HR.UT.BRep1  -0.30848001                \n",
       "isolate_02.24HR.UT.BRep2   1.06281114                \n",
       "                          MAL10.1139073.1139243....kr\n",
       "isolate_02.24HR.DHA.BRep1  0.2664777                 \n",
       "isolate_02.24HR.DHA.BRep2 -0.6138915                 \n",
       "isolate_02.24HR.DHA.BRep3 -0.2184741                 \n",
       "isolate_02.24HR.DHA.BRep4  0.3618006                 \n",
       "isolate_02.24HR.UT.BRep1   0.2006528                 \n",
       "isolate_02.24HR.UT.BRep2   0.2284822                 \n",
       "                          MAL10.258733.258825.b...r..\n",
       "isolate_02.24HR.DHA.BRep1 2.1048480                  \n",
       "isolate_02.24HR.DHA.BRep2 2.1941686                  \n",
       "isolate_02.24HR.DHA.BRep3 2.6465896                  \n",
       "isolate_02.24HR.DHA.BRep4 1.2585461                  \n",
       "isolate_02.24HR.UT.BRep1  2.4823195                  \n",
       "isolate_02.24HR.UT.BRep2  0.5125534                  \n",
       "                          MAL10.271753.271892.bcgkrvy PF3D7_0100100\n",
       "isolate_02.24HR.DHA.BRep1  0.04068825                 -1.715683    \n",
       "isolate_02.24HR.DHA.BRep2  2.12798795                 -3.984082    \n",
       "isolate_02.24HR.DHA.BRep3 -0.24849734                 -1.337844    \n",
       "isolate_02.24HR.DHA.BRep4 -0.32550691                 -2.168455    \n",
       "isolate_02.24HR.UT.BRep1  -0.55223997                 -1.129170    \n",
       "isolate_02.24HR.UT.BRep2  -0.24201938                 -2.159964    \n",
       "                          PF3D7_0100200 ... PF3D7_1478800 PF3D7_1479000\n",
       "isolate_02.24HR.DHA.BRep1 -3.141518     ...  0.7908186    -0.07015143  \n",
       "isolate_02.24HR.DHA.BRep2 -1.798437     ...  0.6594577    -1.28830500  \n",
       "isolate_02.24HR.DHA.BRep3 -1.202280     ...  0.8463461     0.27981610  \n",
       "isolate_02.24HR.DHA.BRep4 -1.575822     ...  0.9278220     0.37528990  \n",
       "isolate_02.24HR.UT.BRep1  -2.068018     ... -0.7181469     0.19396830  \n",
       "isolate_02.24HR.UT.BRep2  -1.912090     ...  1.0008890     1.00837600  \n",
       "                          PF3D7_1479200 PF3D7_1479400 PF3D7_1479500\n",
       "isolate_02.24HR.DHA.BRep1  0.02413322   -2.21522700   -1.957654    \n",
       "isolate_02.24HR.DHA.BRep2  0.80631430   -3.73371200   -1.990368    \n",
       "isolate_02.24HR.DHA.BRep3  0.11500190   -1.30590200   -0.679212    \n",
       "isolate_02.24HR.DHA.BRep4  1.11324100   -4.01628700   -1.327287    \n",
       "isolate_02.24HR.UT.BRep1  -0.12595080    0.04824402   -1.316566    \n",
       "isolate_02.24HR.UT.BRep2   0.79113820   -2.24612800   -1.698355    \n",
       "                          PF3D7_1479600 PF3D7_1479900 PF3D7_1480000\n",
       "isolate_02.24HR.DHA.BRep1 -2.188635     -1.722201     -3.995680    \n",
       "isolate_02.24HR.DHA.BRep2 -1.633418     -2.104227     -5.767710    \n",
       "isolate_02.24HR.DHA.BRep3 -2.099512     -1.626372     -4.422711    \n",
       "isolate_02.24HR.DHA.BRep4 -2.375500     -1.939162     -3.500963    \n",
       "isolate_02.24HR.UT.BRep1  -2.247523     -1.104079     -4.776909    \n",
       "isolate_02.24HR.UT.BRep2  -2.290114     -2.224646     -5.549935    \n",
       "                          PF3D7_1480100 ClearanceRate\n",
       "isolate_02.24HR.DHA.BRep1 -0.9029792    NA           \n",
       "isolate_02.24HR.DHA.BRep2 -2.1779300    NA           \n",
       "isolate_02.24HR.DHA.BRep3 -1.4084850    NA           \n",
       "isolate_02.24HR.DHA.BRep4 -0.7961429    NA           \n",
       "isolate_02.24HR.UT.BRep1  -2.2181150    NA           \n",
       "isolate_02.24HR.UT.BRep2  -1.9648830    NA           "
      ]
     },
     "metadata": {},
     "output_type": "display_data"
    }
   ],
   "source": [
    "subtest <- subset(testing_set,select = -c(Asexual_Stage, Sample_Names, Country, Isolate, Timepoint, Treatment, BioRep))\n",
    "head(subtest)"
   ]
  },
  {
   "cell_type": "code",
   "execution_count": 7,
   "metadata": {},
   "outputs": [
    {
     "name": "stdout",
     "output_type": "stream",
     "text": [
      "[1] \"# Columns in Training Set 4952\"\n",
      "[1] \"# Columns in Testing  Set 4961\"\n",
      "[1] \"# Common Columns 4952\"\n"
     ]
    }
   ],
   "source": [
    "# find common columns between training and testing set\n",
    "common_cols <- intersect(colnames(subtrain), colnames(subtest))\n",
    "print(paste(\"# Columns in Training Set\", ncol(subtrain)))\n",
    "print(paste(\"# Columns in Testing  Set\", ncol(subtest)))\n",
    "print(paste(\"# Common Columns\", length(common_cols)))"
   ]
  },
  {
   "cell_type": "code",
   "execution_count": 8,
   "metadata": {},
   "outputs": [
    {
     "name": "stderr",
     "output_type": "stream",
     "text": [
      "Warning message:\n",
      "\"package 'sva' was built under R version 3.5.2\"Loading required package: mgcv\n",
      "Loading required package: nlme\n",
      "This is mgcv 1.8-24. For overview type 'help(\"mgcv-package\")'.\n",
      "Loading required package: genefilter\n",
      "Loading required package: BiocParallel\n",
      "Warning message:\n",
      "\"package 'BiocParallel' was built under R version 3.5.2\""
     ]
    }
   ],
   "source": [
    "# import  sva library \n",
    "library(sva)"
   ]
  },
  {
   "cell_type": "code",
   "execution_count": 9,
   "metadata": {},
   "outputs": [
    {
     "data": {
      "text/html": [
       "<table>\n",
       "<thead><tr><th></th><th scope=col>PF3D7_0100100</th><th scope=col>PF3D7_0100200</th><th scope=col>PF3D7_0100300</th><th scope=col>PF3D7_0100600</th><th scope=col>PF3D7_0100800</th><th scope=col>PF3D7_0101300</th><th scope=col>PF3D7_0101600</th><th scope=col>PF3D7_0101800</th><th scope=col>PF3D7_0101900</th><th scope=col>PF3D7_0102000</th><th scope=col>...</th><th scope=col>PF3D7_1478600</th><th scope=col>PF3D7_1478800</th><th scope=col>PF3D7_1479000</th><th scope=col>PF3D7_1479200</th><th scope=col>PF3D7_1479400</th><th scope=col>PF3D7_1479500</th><th scope=col>PF3D7_1479600</th><th scope=col>PF3D7_1479900</th><th scope=col>PF3D7_1480000</th><th scope=col>PF3D7_1480100</th></tr></thead>\n",
       "<tbody>\n",
       "\t<tr><th scope=row>GSM1427365</th><td>0.2263112   </td><td>-0.396828975</td><td>-1.8045812  </td><td>-0.10825583 </td><td>0.4225580   </td><td>0.3557607   </td><td>-0.2436796  </td><td>-0.6010834  </td><td> 1.65519123 </td><td>2.6340359   </td><td>...         </td><td> 0.9990883  </td><td>-0.66922052 </td><td>-0.33338305 </td><td>-0.778371248</td><td>-1.22734354 </td><td>0.8102838   </td><td>2.8834777   </td><td>1.190193    </td><td>-1.3095280  </td><td>-0.6417096  </td></tr>\n",
       "\t<tr><th scope=row>GSM1427366</th><td>0.5544274   </td><td> 0.542001149</td><td>-1.5615728  </td><td>-0.49028893 </td><td>0.8579291   </td><td>0.2392953   </td><td> 0.3599728  </td><td> 1.0532317  </td><td>-0.41601255 </td><td>1.5859599   </td><td>...         </td><td> 1.0246094  </td><td>-0.36272413 </td><td>-0.28064384 </td><td>-0.307575104</td><td> 0.27269952 </td><td>1.1581390   </td><td>1.4131779   </td><td>1.830839    </td><td> 0.2102166  </td><td>-1.0655334  </td></tr>\n",
       "\t<tr><th scope=row>GSM1427367</th><td>0.5870483   </td><td> 0.707557368</td><td>-1.6045872  </td><td> 0.17678321 </td><td>0.3071121   </td><td>0.5759948   </td><td> 0.4164976  </td><td> 1.4826555  </td><td> 0.03676142 </td><td>0.6985231   </td><td>...         </td><td> 1.6783285  </td><td> 0.02714867 </td><td>-0.19359577 </td><td> 0.192411135</td><td>-0.08742836 </td><td>1.5837753   </td><td>1.8197343   </td><td>1.800309    </td><td> 0.1367734  </td><td>-0.7361304  </td></tr>\n",
       "\t<tr><th scope=row>GSM1427368</th><td>0.6806546   </td><td>-0.744062579</td><td>-1.4411366  </td><td> 0.05725636 </td><td>0.5600164   </td><td>0.2790185   </td><td> 0.2415330  </td><td> 0.7493490  </td><td> 0.36949016 </td><td>0.4427583   </td><td>...         </td><td>-0.7517638  </td><td> 1.15359584 </td><td> 2.54803606 </td><td> 0.042056798</td><td> 0.04980615 </td><td>0.9258309   </td><td>0.1119095   </td><td>1.201473    </td><td>-0.5442685  </td><td>-0.5303997  </td></tr>\n",
       "\t<tr><th scope=row>GSM1427369</th><td>1.0894079   </td><td>-0.002673478</td><td>-0.8774131  </td><td>-0.57541363 </td><td>0.7033856   </td><td>0.7595096   </td><td> 1.0138636  </td><td> 1.8168844  </td><td>-0.12929834 </td><td>0.1855374   </td><td>...         </td><td> 0.8483694  </td><td>-1.62176113 </td><td>-0.47222571 </td><td>-1.029073427</td><td>-0.67851082 </td><td>1.0583353   </td><td>0.7476287   </td><td>2.574896    </td><td> 0.3771322  </td><td>-0.7902538  </td></tr>\n",
       "\t<tr><th scope=row>GSM1427370</th><td>0.2358625   </td><td> 0.796118802</td><td>-1.1880879  </td><td>-0.35935227 </td><td>0.4937340   </td><td>1.5079454   </td><td> 0.6708259  </td><td> 0.9293397  </td><td>-0.56404628 </td><td>1.9407204   </td><td>...         </td><td> 1.0396861  </td><td>-0.94450704 </td><td>-0.06905093 </td><td> 0.002730421</td><td>-0.80917046 </td><td>2.6935400   </td><td>1.8491163   </td><td>2.202391    </td><td>-0.1914365  </td><td>-0.8388607  </td></tr>\n",
       "</tbody>\n",
       "</table>\n"
      ],
      "text/latex": [
       "\\begin{tabular}{r|llllllllllllllllllllllllllllllllllllllllllllllllllllllllllllllllllllllllllllllllllllllllllllllllllllllllllllllllllllllllllllllllllllllllllllllllllllllllllllllllllllllllllllllllllllllllllllllllllllllllllllllllllllllllllllllllllllllllllllllllllllllllllllllllllllllllllllllllllllllllllllllllllllllllllllllllllllllllllllllllllllllllllllllllllllllllllllllllllllllllllllllllllllllllllllllllllllllllllllllllllllllllllllllllllllllllllllllllllllllllllllllllllllllllllllllllllllllllllllllllllllllllllllllllllllllllllllllllllllllllllllllllllllllllllllllllllllllllllllllllllllllllllllllllllllllllllllllllllllllllllllllllllllllllllllllllllllllllllllllllllllllllllllllllllllllllllllllllllllllllllllllllllllllllllllllllllllllllllllllllllllllllllllllllllllllllllllllllllllllllllllllllllllllllllllllllllllllllllllllllllllllllllllllllllllllllllllllllllllllllllllllllllllllllllllllllllllllllllllllllllllllllllllllllllllllllllllllllllllllllllllllllllllllllllllllllllllllllllllllllllllllllllllllllllllllllllllllllllllllllllllllllllllllllllllllllllllllllllllllllllllllllllllllllllllllllllllllllllllllllllllllllllllllllllllllllllllllllllllllllllllllllllllllllllllllllllllllllllllllllllllllllllllllllllllllllllllllllllllllllllllllllllllllllllllllllllllllllllllllllllllllllllllllllllllllllllllllllllllllllllllllllllllllllllllllllllllllllllllllllllllllllllllllllllllllllllllllllllllllllllllllllllllllllllllllllllllllllllllllllllllllllllllllllllllllllllllllllllllllllllllllllllllllllllllllllllllllllllllllllllllllllllllllllllllllllllllllllllllllllllllllllllllllllllllllllllllllllllllllllllllllllllllllllllllllllllllllllllllllllllllllllllllllllllllllllllllllllllllllllllllllllllllllllllllllllllllllllllllllllllllllllllllllllllllllllllllllllllllllllllllllllllllllllllllllllllllllllllllllllllllllllllllllllllllllllllllllllllllllllllllllllllllllllllllllllllllllllllllllllllllllllllllllllllllllllllllllllllllllllllllllllllllllllllllllllllllllllllllllllllllllllllllllllllllllllllllllllllllllllllllllllllllllllllllllllllllllllllllllllllllllllllllllllllllllllllllllllllllllllllllllllllllllllllllllllllllllllllllllllllllllllllllllllllllllllllllllllllllllllllllllllllllllllllllllllllllllllllllllllllllllllllllllllllllllllllllllllllllllllllllllllllllllllllllllllllllllllllllllllllllllllllllllllllllllllllllllllllllllllllllllllllllllllllllllllllllllllllllllllllllllllllllllllllllllllllllllllllllllllllllllllllllllllllllllllllllllllllllllllllllllllllllllllllllllllllllllllllllllllllllllllllllllllllllllllllllllllllllllllllllllllllllllllllllllllllllllllllllllllllllllllllllllllllllllllllllllllllllllllllllllllllllllllllllllllllllllllllllllllllllllllllllllllllllllllllllllllllllllllllllllllllllllllllllllllllllllllllllllllllllllllllllllllllllllllllllllllllllllllllllllllllllllllllllllllllllllllllllllllllllllllllllllllllllllllllllllllllllllllllllllllllllllllllllllllllllllllllllllllllllllllllllllllllllllllllllllllllllllllllllllllllllllllllllllllllllllllllllllllllllllllllllllllllllllllllllllllllllllllllllllllllllllllllllllllllllllllllllllllllllllllllllllllllllllllllllllllllllllllllllllllllllllllllllllllllllllllllllllllllllllllllllllllllllllllllllllllllllllllllllllllllllllllllllllllllllllllllllllllllllllllllllllllllllllllllllllllllllllllllllllllllllllllllllllllllllllllllllllllllllllllllllllllllllllllllllllllllllllllllllllllllllllllllllllllllllllllllllllllllllllllllllllllllllllllllllllllllllllllllllllllllllllllllllllllllllllllllllllllllllllllllllllllllllllllllllllllllllllllllllllllllllllllllllllllllllllllllllllllllllllllllllllllllllllllllllllllllllllllllllllllllllllllllllllllllllllllllllllllllllllllllllllllllllllllllllllllllllllllllllllllllllllllllllllllllllllllllllllllllllllllllllllllllllllllllllllllllllllllllllllllllllllllllllllllllllllllllllllllllllllllllllllllllllllllllllllllllllllllllllllllllllllllllllllllllllllllllllllllllllllllllllllllllllllllllllllllllllllllllllllllllllllllllllllllllllllllllllllllllllllllllllllllllllllllllllllllllllllllllllllllllllllllllllllllllllllllllllllllllllllllllllllllllllllllllllllllllllllllllllllllllllllllllllllllllllllllllllllllllllllllllllllllllllllllllllllllllllllllllllllllllllllllllllllllllllllllllllllllllllllllllllllllllllllllllllllllllllllllllllllllllllllllllllllllllllllllllllllllllllllllllllllllllllllllllllllllllllllllllllllllllllllllllllllllllllllllllllllllllllllllllllllllllllllllllllllllllllllllllllllllllllllllllllllllllllllllllllllllllllllllllllllllllllllllllllllllllllllllllllllllllllllllllllllllllllllllllllllllllllllllllllllllllllllllllllllllllllllllllllllllllllllllllllllllllllllllllllllllllllllllllllllllllllllllllllllllllllllllllllllllllllllllllllllllllllllllllllllllllllllllllllllllllllllllllllllllllllllllllllllllllllllllllllllllllllllllllllllllllllllllllllllllllllllllllllllllllllllllllllllllllllllllllllllllllllllllllllllllllllllllllllllllllllllllllllllllllllllllllllllllllllllllllllllllllllllllllllllllllllllllllllllllllllllllllllllllllllllllllllllllllllllllllllllllllllllllllllllllllllllllllllllllllllllllllllllll}\n",
       "  & PF3D7\\_0100100 & PF3D7\\_0100200 & PF3D7\\_0100300 & PF3D7\\_0100600 & PF3D7\\_0100800 & PF3D7\\_0101300 & PF3D7\\_0101600 & PF3D7\\_0101800 & PF3D7\\_0101900 & PF3D7\\_0102000 & ... & PF3D7\\_1478600 & PF3D7\\_1478800 & PF3D7\\_1479000 & PF3D7\\_1479200 & PF3D7\\_1479400 & PF3D7\\_1479500 & PF3D7\\_1479600 & PF3D7\\_1479900 & PF3D7\\_1480000 & PF3D7\\_1480100\\\\\n",
       "\\hline\n",
       "\tGSM1427365 & 0.2263112    & -0.396828975 & -1.8045812   & -0.10825583  & 0.4225580    & 0.3557607    & -0.2436796   & -0.6010834   &  1.65519123  & 2.6340359    & ...          &  0.9990883   & -0.66922052  & -0.33338305  & -0.778371248 & -1.22734354  & 0.8102838    & 2.8834777    & 1.190193     & -1.3095280   & -0.6417096  \\\\\n",
       "\tGSM1427366 & 0.5544274    &  0.542001149 & -1.5615728   & -0.49028893  & 0.8579291    & 0.2392953    &  0.3599728   &  1.0532317   & -0.41601255  & 1.5859599    & ...          &  1.0246094   & -0.36272413  & -0.28064384  & -0.307575104 &  0.27269952  & 1.1581390    & 1.4131779    & 1.830839     &  0.2102166   & -1.0655334  \\\\\n",
       "\tGSM1427367 & 0.5870483    &  0.707557368 & -1.6045872   &  0.17678321  & 0.3071121    & 0.5759948    &  0.4164976   &  1.4826555   &  0.03676142  & 0.6985231    & ...          &  1.6783285   &  0.02714867  & -0.19359577  &  0.192411135 & -0.08742836  & 1.5837753    & 1.8197343    & 1.800309     &  0.1367734   & -0.7361304  \\\\\n",
       "\tGSM1427368 & 0.6806546    & -0.744062579 & -1.4411366   &  0.05725636  & 0.5600164    & 0.2790185    &  0.2415330   &  0.7493490   &  0.36949016  & 0.4427583    & ...          & -0.7517638   &  1.15359584  &  2.54803606  &  0.042056798 &  0.04980615  & 0.9258309    & 0.1119095    & 1.201473     & -0.5442685   & -0.5303997  \\\\\n",
       "\tGSM1427369 & 1.0894079    & -0.002673478 & -0.8774131   & -0.57541363  & 0.7033856    & 0.7595096    &  1.0138636   &  1.8168844   & -0.12929834  & 0.1855374    & ...          &  0.8483694   & -1.62176113  & -0.47222571  & -1.029073427 & -0.67851082  & 1.0583353    & 0.7476287    & 2.574896     &  0.3771322   & -0.7902538  \\\\\n",
       "\tGSM1427370 & 0.2358625    &  0.796118802 & -1.1880879   & -0.35935227  & 0.4937340    & 1.5079454    &  0.6708259   &  0.9293397   & -0.56404628  & 1.9407204    & ...          &  1.0396861   & -0.94450704  & -0.06905093  &  0.002730421 & -0.80917046  & 2.6935400    & 1.8491163    & 2.202391     & -0.1914365   & -0.8388607  \\\\\n",
       "\\end{tabular}\n"
      ],
      "text/markdown": [
       "\n",
       "| <!--/--> | PF3D7_0100100 | PF3D7_0100200 | PF3D7_0100300 | PF3D7_0100600 | PF3D7_0100800 | PF3D7_0101300 | PF3D7_0101600 | PF3D7_0101800 | PF3D7_0101900 | PF3D7_0102000 | ... | PF3D7_1478600 | PF3D7_1478800 | PF3D7_1479000 | PF3D7_1479200 | PF3D7_1479400 | PF3D7_1479500 | PF3D7_1479600 | PF3D7_1479900 | PF3D7_1480000 | PF3D7_1480100 | \n",
       "|---|---|---|---|---|---|\n",
       "| GSM1427365 | 0.2263112    | -0.396828975 | -1.8045812   | -0.10825583  | 0.4225580    | 0.3557607    | -0.2436796   | -0.6010834   |  1.65519123  | 2.6340359    | ...          |  0.9990883   | -0.66922052  | -0.33338305  | -0.778371248 | -1.22734354  | 0.8102838    | 2.8834777    | 1.190193     | -1.3095280   | -0.6417096   | \n",
       "| GSM1427366 | 0.5544274    |  0.542001149 | -1.5615728   | -0.49028893  | 0.8579291    | 0.2392953    |  0.3599728   |  1.0532317   | -0.41601255  | 1.5859599    | ...          |  1.0246094   | -0.36272413  | -0.28064384  | -0.307575104 |  0.27269952  | 1.1581390    | 1.4131779    | 1.830839     |  0.2102166   | -1.0655334   | \n",
       "| GSM1427367 | 0.5870483    |  0.707557368 | -1.6045872   |  0.17678321  | 0.3071121    | 0.5759948    |  0.4164976   |  1.4826555   |  0.03676142  | 0.6985231    | ...          |  1.6783285   |  0.02714867  | -0.19359577  |  0.192411135 | -0.08742836  | 1.5837753    | 1.8197343    | 1.800309     |  0.1367734   | -0.7361304   | \n",
       "| GSM1427368 | 0.6806546    | -0.744062579 | -1.4411366   |  0.05725636  | 0.5600164    | 0.2790185    |  0.2415330   |  0.7493490   |  0.36949016  | 0.4427583    | ...          | -0.7517638   |  1.15359584  |  2.54803606  |  0.042056798 |  0.04980615  | 0.9258309    | 0.1119095    | 1.201473     | -0.5442685   | -0.5303997   | \n",
       "| GSM1427369 | 1.0894079    | -0.002673478 | -0.8774131   | -0.57541363  | 0.7033856    | 0.7595096    |  1.0138636   |  1.8168844   | -0.12929834  | 0.1855374    | ...          |  0.8483694   | -1.62176113  | -0.47222571  | -1.029073427 | -0.67851082  | 1.0583353    | 0.7476287    | 2.574896     |  0.3771322   | -0.7902538   | \n",
       "| GSM1427370 | 0.2358625    |  0.796118802 | -1.1880879   | -0.35935227  | 0.4937340    | 1.5079454    |  0.6708259   |  0.9293397   | -0.56404628  | 1.9407204    | ...          |  1.0396861   | -0.94450704  | -0.06905093  |  0.002730421 | -0.80917046  | 2.6935400    | 1.8491163    | 2.202391     | -0.1914365   | -0.8388607   | \n",
       "\n",
       "\n"
      ],
      "text/plain": [
       "           PF3D7_0100100 PF3D7_0100200 PF3D7_0100300 PF3D7_0100600\n",
       "GSM1427365 0.2263112     -0.396828975  -1.8045812    -0.10825583  \n",
       "GSM1427366 0.5544274      0.542001149  -1.5615728    -0.49028893  \n",
       "GSM1427367 0.5870483      0.707557368  -1.6045872     0.17678321  \n",
       "GSM1427368 0.6806546     -0.744062579  -1.4411366     0.05725636  \n",
       "GSM1427369 1.0894079     -0.002673478  -0.8774131    -0.57541363  \n",
       "GSM1427370 0.2358625      0.796118802  -1.1880879    -0.35935227  \n",
       "           PF3D7_0100800 PF3D7_0101300 PF3D7_0101600 PF3D7_0101800\n",
       "GSM1427365 0.4225580     0.3557607     -0.2436796    -0.6010834   \n",
       "GSM1427366 0.8579291     0.2392953      0.3599728     1.0532317   \n",
       "GSM1427367 0.3071121     0.5759948      0.4164976     1.4826555   \n",
       "GSM1427368 0.5600164     0.2790185      0.2415330     0.7493490   \n",
       "GSM1427369 0.7033856     0.7595096      1.0138636     1.8168844   \n",
       "GSM1427370 0.4937340     1.5079454      0.6708259     0.9293397   \n",
       "           PF3D7_0101900 PF3D7_0102000 ... PF3D7_1478600 PF3D7_1478800\n",
       "GSM1427365  1.65519123   2.6340359     ...  0.9990883    -0.66922052  \n",
       "GSM1427366 -0.41601255   1.5859599     ...  1.0246094    -0.36272413  \n",
       "GSM1427367  0.03676142   0.6985231     ...  1.6783285     0.02714867  \n",
       "GSM1427368  0.36949016   0.4427583     ... -0.7517638     1.15359584  \n",
       "GSM1427369 -0.12929834   0.1855374     ...  0.8483694    -1.62176113  \n",
       "GSM1427370 -0.56404628   1.9407204     ...  1.0396861    -0.94450704  \n",
       "           PF3D7_1479000 PF3D7_1479200 PF3D7_1479400 PF3D7_1479500\n",
       "GSM1427365 -0.33338305   -0.778371248  -1.22734354   0.8102838    \n",
       "GSM1427366 -0.28064384   -0.307575104   0.27269952   1.1581390    \n",
       "GSM1427367 -0.19359577    0.192411135  -0.08742836   1.5837753    \n",
       "GSM1427368  2.54803606    0.042056798   0.04980615   0.9258309    \n",
       "GSM1427369 -0.47222571   -1.029073427  -0.67851082   1.0583353    \n",
       "GSM1427370 -0.06905093    0.002730421  -0.80917046   2.6935400    \n",
       "           PF3D7_1479600 PF3D7_1479900 PF3D7_1480000 PF3D7_1480100\n",
       "GSM1427365 2.8834777     1.190193      -1.3095280    -0.6417096   \n",
       "GSM1427366 1.4131779     1.830839       0.2102166    -1.0655334   \n",
       "GSM1427367 1.8197343     1.800309       0.1367734    -0.7361304   \n",
       "GSM1427368 0.1119095     1.201473      -0.5442685    -0.5303997   \n",
       "GSM1427369 0.7476287     2.574896       0.3771322    -0.7902538   \n",
       "GSM1427370 1.8491163     2.202391      -0.1914365    -0.8388607   "
      ]
     },
     "metadata": {},
     "output_type": "display_data"
    }
   ],
   "source": [
    "# merge dataset \n",
    "submerge <- rbind(\n",
    "  subtrain[, common_cols], \n",
    "  subtest[, common_cols]\n",
    ")\n",
    "head(submerge)"
   ]
  },
  {
   "cell_type": "code",
   "execution_count": 10,
   "metadata": {},
   "outputs": [
    {
     "data": {
      "text/html": [
       "<ol class=list-inline>\n",
       "\t<li>1331</li>\n",
       "\t<li>4952</li>\n",
       "</ol>\n"
      ],
      "text/latex": [
       "\\begin{enumerate*}\n",
       "\\item 1331\n",
       "\\item 4952\n",
       "\\end{enumerate*}\n"
      ],
      "text/markdown": [
       "1. 1331\n",
       "2. 4952\n",
       "\n",
       "\n"
      ],
      "text/plain": [
       "[1] 1331 4952"
      ]
     },
     "metadata": {},
     "output_type": "display_data"
    }
   ],
   "source": [
    "dim(submerge)"
   ]
  },
  {
   "cell_type": "code",
   "execution_count": 11,
   "metadata": {},
   "outputs": [
    {
     "data": {
      "text/html": [
       "<ol class=list-inline>\n",
       "\t<li>1331</li>\n",
       "\t<li>1</li>\n",
       "</ol>\n"
      ],
      "text/latex": [
       "\\begin{enumerate*}\n",
       "\\item 1331\n",
       "\\item 1\n",
       "\\end{enumerate*}\n"
      ],
      "text/markdown": [
       "1. 1331\n",
       "2. 1\n",
       "\n",
       "\n"
      ],
      "text/plain": [
       "[1] 1331    1"
      ]
     },
     "metadata": {},
     "output_type": "display_data"
    }
   ],
   "source": [
    "# make a batch phenotype\n",
    "pheno <- data.frame('batch' = c(rep(1, nrow(subtrain)), rep(2, nrow(subtest))))\n",
    "dim(pheno)"
   ]
  },
  {
   "cell_type": "code",
   "execution_count": 12,
   "metadata": {},
   "outputs": [
    {
     "data": {
      "text/html": [
       "<table>\n",
       "<thead><tr><th></th><th scope=col>batch</th></tr></thead>\n",
       "<tbody>\n",
       "\t<tr><th scope=row>GSM1427365</th><td>1</td></tr>\n",
       "\t<tr><th scope=row>GSM1427366</th><td>1</td></tr>\n",
       "\t<tr><th scope=row>GSM1427367</th><td>1</td></tr>\n",
       "\t<tr><th scope=row>GSM1427368</th><td>1</td></tr>\n",
       "\t<tr><th scope=row>GSM1427369</th><td>1</td></tr>\n",
       "\t<tr><th scope=row>GSM1427370</th><td>1</td></tr>\n",
       "</tbody>\n",
       "</table>\n"
      ],
      "text/latex": [
       "\\begin{tabular}{r|l}\n",
       "  & batch\\\\\n",
       "\\hline\n",
       "\tGSM1427365 & 1\\\\\n",
       "\tGSM1427366 & 1\\\\\n",
       "\tGSM1427367 & 1\\\\\n",
       "\tGSM1427368 & 1\\\\\n",
       "\tGSM1427369 & 1\\\\\n",
       "\tGSM1427370 & 1\\\\\n",
       "\\end{tabular}\n"
      ],
      "text/markdown": [
       "\n",
       "| <!--/--> | batch | \n",
       "|---|---|---|---|---|---|\n",
       "| GSM1427365 | 1 | \n",
       "| GSM1427366 | 1 | \n",
       "| GSM1427367 | 1 | \n",
       "| GSM1427368 | 1 | \n",
       "| GSM1427369 | 1 | \n",
       "| GSM1427370 | 1 | \n",
       "\n",
       "\n"
      ],
      "text/plain": [
       "           batch\n",
       "GSM1427365 1    \n",
       "GSM1427366 1    \n",
       "GSM1427367 1    \n",
       "GSM1427368 1    \n",
       "GSM1427369 1    \n",
       "GSM1427370 1    "
      ]
     },
     "metadata": {},
     "output_type": "display_data"
    }
   ],
   "source": [
    "rownames(pheno) <- rownames(submerge)\n",
    "head(pheno)"
   ]
  },
  {
   "cell_type": "code",
   "execution_count": 13,
   "metadata": {},
   "outputs": [
    {
     "name": "stderr",
     "output_type": "stream",
     "text": [
      "Found2batches\n",
      "Adjusting for0covariate(s) or covariate level(s)\n"
     ]
    },
    {
     "name": "stdout",
     "output_type": "stream",
     "text": [
      "Standardizing Data across genes\n"
     ]
    },
    {
     "name": "stderr",
     "output_type": "stream",
     "text": [
      "Fitting L/S model and finding priors\n",
      "Finding parametric adjustments\n",
      "Adjusting the Data\n",
      "\n"
     ]
    },
    {
     "data": {
      "image/png": "[encoded data removed]",
      "text/plain": [
       "Plot with title \"paste(\"Inverse Gamma Q-Q Plot of First Batch \", hat(delta))\""
      ]
     },
     "metadata": {},
     "output_type": "display_data",
     "source": "R display func"
    }
   ],
   "source": [
    "modcombat = model.matrix(~1, data=pheno)\n",
    "batch = pheno$batch\n",
    "combat_edata = ComBat(dat=t(as.matrix(submerge)), batch=batch, mod=modcombat, par.prior=TRUE, prior.plots=TRUE)"
   ]
  },
  {
   "cell_type": "code",
   "execution_count": 14,
   "metadata": {},
   "outputs": [
    {
     "data": {
      "text/html": [
       "<table>\n",
       "<thead><tr><th></th><th scope=col>PF3D7_0100100</th><th scope=col>PF3D7_0100200</th><th scope=col>PF3D7_0100300</th><th scope=col>PF3D7_0100600</th><th scope=col>PF3D7_0100800</th><th scope=col>PF3D7_0101300</th><th scope=col>PF3D7_0101600</th><th scope=col>PF3D7_0101800</th><th scope=col>PF3D7_0101900</th><th scope=col>PF3D7_0102000</th><th scope=col>...</th><th scope=col>PF3D7_1478600</th><th scope=col>PF3D7_1478800</th><th scope=col>PF3D7_1479000</th><th scope=col>PF3D7_1479200</th><th scope=col>PF3D7_1479400</th><th scope=col>PF3D7_1479500</th><th scope=col>PF3D7_1479600</th><th scope=col>PF3D7_1479900</th><th scope=col>PF3D7_1480000</th><th scope=col>PF3D7_1480100</th></tr></thead>\n",
       "<tbody>\n",
       "\t<tr><th scope=row>GSM1427365</th><td>-0.46930947</td><td>-0.7471792 </td><td>-1.9043755 </td><td>-0.9846413 </td><td>-0.69420547</td><td>-0.3318528 </td><td>-1.66247363</td><td>-0.9761358 </td><td> 1.39598170</td><td>2.5021411  </td><td>...        </td><td> 1.0538165 </td><td>-0.67912851</td><td>-0.6389910 </td><td>-0.98559101</td><td>-2.4927970 </td><td>0.4622801  </td><td> 2.4275383 </td><td>0.6265859  </td><td>-2.2120021 </td><td>-0.8390015 </td></tr>\n",
       "\t<tr><th scope=row>GSM1427366</th><td>-0.06055197</td><td> 0.3395412 </td><td>-1.6072287 </td><td>-1.5004401 </td><td> 0.07622105</td><td>-0.4830783 </td><td>-0.85692397</td><td> 0.8242765 </td><td>-0.95888093</td><td>1.5306502  </td><td>...        </td><td> 1.0786198 </td><td>-0.38713370</td><td>-0.5885914 </td><td>-0.53239507</td><td>-0.4156010 </td><td>0.8586141  </td><td> 1.0125700 </td><td>1.2545740  </td><td>-0.3249704 </td><td>-1.3262361 </td></tr>\n",
       "\t<tr><th scope=row>GSM1427367</th><td>-0.01991386</td><td> 0.5311768 </td><td>-1.6598260 </td><td>-0.5997982 </td><td>-0.89849684</td><td>-0.0458880 </td><td>-0.78149386</td><td> 1.2916239 </td><td>-0.44409793</td><td>0.7080603  </td><td>...        </td><td> 1.7139512 </td><td>-0.01570736</td><td>-0.5054049 </td><td>-0.05110027</td><td>-0.9142908 </td><td>1.3435691  </td><td> 1.4038265 </td><td>1.2246478  </td><td>-0.4161631 </td><td>-0.9475492 </td></tr>\n",
       "\t<tr><th scope=row>GSM1427368</th><td> 0.09669813</td><td>-1.1491112 </td><td>-1.4599614 </td><td>-0.7611764 </td><td>-0.45096096</td><td>-0.4314994 </td><td>-1.01497715</td><td> 0.4935571 </td><td>-0.06580078</td><td>0.4709848  </td><td>...        </td><td>-0.6477880 </td><td> 1.05744303</td><td> 2.1146033 </td><td>-0.19583377</td><td>-0.7242542 </td><td>0.5939304  </td><td>-0.2397280 </td><td>0.6376438  </td><td>-1.2617971 </td><td>-0.7110379 </td></tr>\n",
       "\t<tr><th scope=row>GSM1427369</th><td> 0.60591082</td><td>-0.2909339 </td><td>-0.7706495 </td><td>-1.6153704 </td><td>-0.19725703</td><td> 0.1923982 </td><td> 0.01566688</td><td> 1.6553695 </td><td>-0.63290017</td><td>0.2325596  </td><td>...        </td><td> 0.9073371 </td><td>-1.58660056</td><td>-0.7716743 </td><td>-1.22692096</td><td>-1.7327967 </td><td>0.7449012  </td><td> 0.3720672 </td><td>1.9839301  </td><td>-0.1177152 </td><td>-1.0097703 </td></tr>\n",
       "\t<tr><th scope=row>GSM1427370</th><td>-0.45741070</td><td> 0.6336890 </td><td>-1.1505375 </td><td>-1.3236570 </td><td>-0.56825341</td><td> 1.1642110 </td><td>-0.44210307</td><td> 0.6894432 </td><td>-1.12718842</td><td>1.8594876  </td><td>...        </td><td> 1.0932724 </td><td>-0.94139010</td><td>-0.3863851 </td><td>-0.23368998</td><td>-1.9137287 </td><td>2.6079958  </td><td> 1.4321028 </td><td>1.6187853  </td><td>-0.8236938 </td><td>-1.0656496 </td></tr>\n",
       "</tbody>\n",
       "</table>\n"
      ],
      "text/latex": [
       "\\begin{tabular}{r|llllllllllllllllllllllllllllllllllllllllllllllllllllllllllllllllllllllllllllllllllllllllllllllllllllllllllllllllllllllllllllllllllllllllllllllllllllllllllllllllllllllllllllllllllllllllllllllllllllllllllllllllllllllllllllllllllllllllllllllllllllllllllllllllllllllllllllllllllllllllllllllllllllllllllllllllllllllllllllllllllllllllllllllllllllllllllllllllllllllllllllllllllllllllllllllllllllllllllllllllllllllllllllllllllllllllllllllllllllllllllllllllllllllllllllllllllllllllllllllllllllllllllllllllllllllllllllllllllllllllllllllllllllllllllllllllllllllllllllllllllllllllllllllllllllllllllllllllllllllllllllllllllllllllllllllllllllllllllllllllllllllllllllllllllllllllllllllllllllllllllllllllllllllllllllllllllllllllllllllllllllllllllllllllllllllllllllllllllllllllllllllllllllllllllllllllllllllllllllllllllllllllllllllllllllllllllllllllllllllllllllllllllllllllllllllllllllllllllllllllllllllllllllllllllllllllllllllllllllllllllllllllllllllllllllllllllllllllllllllllllllllllllllllllllllllllllllllllllllllllllllllllllllllllllllllllllllllllllllllllllllllllllllllllllllllllllllllllllllllllllllllllllllllllllllllllllllllllllllllllllllllllllllllllllllllllllllllllllllllllllllllllllllllllllllllllllllllllllllllllllllllllllllllllllllllllllllllllllllllllllllllllllllllllllllllllllllllllllllllllllllllllllllllllllllllllllllllllllllllllllllllllllllllllllllllllllllllllllllllllllllllllllllllllllllllllllllllllllllllllllllllllllllllllllllllllllllllllllllllllllllllllllllllllllllllllllllllllllllllllllllllllllllllllllllllllllllllllllllllllllllllllllllllllllllllllllllllllllllllllllllllllllllllllllllllllllllllllllllllllllllllllllllllllllllllllllllllllllllllllllllllllllllllllllllllllllllllllllllllllllllllllllllllllllllllllllllllllllllllllllllllllllllllllllllllllllllllllllllllllllllllllllllllllllllllllllllllllllllllllllllllllllllllllllllllllllllllllllllllllllllllllllllllllllllllllllllllllllllllllllllllllllllllllllllllllllllllllllllllllllllllllllllllllllllllllllllllllllllllllllllllllllllllllllllllllllllllllllllllllllllllllllllllllllllllllllllllllllllllllllllllllllllllllllllllllllllllllllllllllllllllllllllllllllllllllllllllllllllllllllllllllllllllllllllllllllllllllllllllllllllllllllllllllllllllllllllllllllllllllllllllllllllllllllllllllllllllllllllllllllllllllllllllllllllllllllllllllllllllllllllllllllllllllllllllllllllllllllllllllllllllllllllllllllllllllllllllllllllllllllllllllllllllllllllllllllllllllllllllllllllllllllllllllllllllllllllllllllllllllllllllllllllllllllllllllllllllllllllllllllllllllllllllllllllllllllllllllllllllllllllllllllllllllllllllllllllllllllllllllllllllllllllllllllllllllllllllllllllllllllllllllllllllllllllllllllllllllllllllllllllllllllllllllllllllllllllllllllllllllllllllllllllllllllllllllllllllllllllllllllllllllllllllllllllllllllllllllllllllllllllllllllllllllllllllllllllllllllllllllllllllllllllllllllllllllllllllllllllllllllllllllllllllllllllllllllllllllllllllllllllllllllllllllllllllllllllllllllllllllllllllllllllllllllllllllllllllllllllllllllllllllllllllllllllllllllllllllllllllllllllllllllllllllllllllllllllllllllllllllllllllllllllllllllllllllllllllllllllllllllllllllllllllllllllllllllllllllllllllllllllllllllllllllllllllllllllllllllllllllllllllllllllllllllllllllllllllllllllllllllllllllllllllllllllllllllllllllllllllllllllllllllllllllllllllllllllllllllllllllllllllllllllllllllllllllllllllllllllllllllllllllllllllllllllllllllllllllllllllllllllllllllllllllllllllllllllllllllllllllllllllllllllllllllllllllllllllllllllllllllllllllllllllllllllllllllllllllllllllllllllllllllllllllllllllllllllllllllllllllllllllllllllllllllllllllllllllllllllllllllllllllllllllllllllllllllllllllllllllllllllllllllllllllllllllllllllllllllllllllllllllllllllllllllllllllllllllllllllllllllllllllllllllllllllllllllllllllllllllllllllllllllllllllllllllllllllllllllllllllllllllllllllllllllllllllllllllllllllllllllllllllllllllllllllllllllllllllllllllllllllllllllllllllllllllllllllllllllllllllllllllllllllllllllllllllllllllllllllllllllllllllllllllllllllllllllllllllllllllllllllllllllllllllllllllllllllllllllllllllllllllllllllllllllllllllllllllllllllllllllllllllllllllllllllllllllllllllllllllllllllllllllllllllllllllllllllllllllllllllllllllllllllllllllllllllllllllllllllllllllllllllllllllllllllllllllllllllllllllllllllllllllllllllllllllllllllllllllllllllllllllllllllllllllllllllllllllllllllllllllllllllllllllllllllllllllllllllllllllllllllllllllllllllllllllllllllllllllllllllllllllllllllllllllllllllllllllllllllllllllllllllllllllllllllllllllllllllllllllllllllllllllllllllllllllllllllllllllllllllllllllllllllllllllllllllllllllllllllllllllllllllllllllllllllllllllllllllllllllllllllllllllllllllllllllllllllllllllllllllllllllllllllllllllllllllllllllllllllllllllllllllllllllllllllllllllllllllllllllllllllllllllllllllllllllllllllllllllllllllllllllllllllllllllllllllllllllllllllllllllllllllllllllllllllllllllllllllllllllllllllllllllllllllllllllllllllllllllllllllllllllllllllllllllllllllllllllllllllllllllllllllllllllllllllllllllllllllllllllllllllllllllllllllllllllllllllllll}\n",
       "  & PF3D7\\_0100100 & PF3D7\\_0100200 & PF3D7\\_0100300 & PF3D7\\_0100600 & PF3D7\\_0100800 & PF3D7\\_0101300 & PF3D7\\_0101600 & PF3D7\\_0101800 & PF3D7\\_0101900 & PF3D7\\_0102000 & ... & PF3D7\\_1478600 & PF3D7\\_1478800 & PF3D7\\_1479000 & PF3D7\\_1479200 & PF3D7\\_1479400 & PF3D7\\_1479500 & PF3D7\\_1479600 & PF3D7\\_1479900 & PF3D7\\_1480000 & PF3D7\\_1480100\\\\\n",
       "\\hline\n",
       "\tGSM1427365 & -0.46930947 & -0.7471792  & -1.9043755  & -0.9846413  & -0.69420547 & -0.3318528  & -1.66247363 & -0.9761358  &  1.39598170 & 2.5021411   & ...         &  1.0538165  & -0.67912851 & -0.6389910  & -0.98559101 & -2.4927970  & 0.4622801   &  2.4275383  & 0.6265859   & -2.2120021  & -0.8390015 \\\\\n",
       "\tGSM1427366 & -0.06055197 &  0.3395412  & -1.6072287  & -1.5004401  &  0.07622105 & -0.4830783  & -0.85692397 &  0.8242765  & -0.95888093 & 1.5306502   & ...         &  1.0786198  & -0.38713370 & -0.5885914  & -0.53239507 & -0.4156010  & 0.8586141   &  1.0125700  & 1.2545740   & -0.3249704  & -1.3262361 \\\\\n",
       "\tGSM1427367 & -0.01991386 &  0.5311768  & -1.6598260  & -0.5997982  & -0.89849684 & -0.0458880  & -0.78149386 &  1.2916239  & -0.44409793 & 0.7080603   & ...         &  1.7139512  & -0.01570736 & -0.5054049  & -0.05110027 & -0.9142908  & 1.3435691   &  1.4038265  & 1.2246478   & -0.4161631  & -0.9475492 \\\\\n",
       "\tGSM1427368 &  0.09669813 & -1.1491112  & -1.4599614  & -0.7611764  & -0.45096096 & -0.4314994  & -1.01497715 &  0.4935571  & -0.06580078 & 0.4709848   & ...         & -0.6477880  &  1.05744303 &  2.1146033  & -0.19583377 & -0.7242542  & 0.5939304   & -0.2397280  & 0.6376438   & -1.2617971  & -0.7110379 \\\\\n",
       "\tGSM1427369 &  0.60591082 & -0.2909339  & -0.7706495  & -1.6153704  & -0.19725703 &  0.1923982  &  0.01566688 &  1.6553695  & -0.63290017 & 0.2325596   & ...         &  0.9073371  & -1.58660056 & -0.7716743  & -1.22692096 & -1.7327967  & 0.7449012   &  0.3720672  & 1.9839301   & -0.1177152  & -1.0097703 \\\\\n",
       "\tGSM1427370 & -0.45741070 &  0.6336890  & -1.1505375  & -1.3236570  & -0.56825341 &  1.1642110  & -0.44210307 &  0.6894432  & -1.12718842 & 1.8594876   & ...         &  1.0932724  & -0.94139010 & -0.3863851  & -0.23368998 & -1.9137287  & 2.6079958   &  1.4321028  & 1.6187853   & -0.8236938  & -1.0656496 \\\\\n",
       "\\end{tabular}\n"
      ],
      "text/markdown": [
       "\n",
       "| <!--/--> | PF3D7_0100100 | PF3D7_0100200 | PF3D7_0100300 | PF3D7_0100600 | PF3D7_0100800 | PF3D7_0101300 | PF3D7_0101600 | PF3D7_0101800 | PF3D7_0101900 | PF3D7_0102000 | ... | PF3D7_1478600 | PF3D7_1478800 | PF3D7_1479000 | PF3D7_1479200 | PF3D7_1479400 | PF3D7_1479500 | PF3D7_1479600 | PF3D7_1479900 | PF3D7_1480000 | PF3D7_1480100 | \n",
       "|---|---|---|---|---|---|\n",
       "| GSM1427365 | -0.46930947 | -0.7471792  | -1.9043755  | -0.9846413  | -0.69420547 | -0.3318528  | -1.66247363 | -0.9761358  |  1.39598170 | 2.5021411   | ...         |  1.0538165  | -0.67912851 | -0.6389910  | -0.98559101 | -2.4927970  | 0.4622801   |  2.4275383  | 0.6265859   | -2.2120021  | -0.8390015  | \n",
       "| GSM1427366 | -0.06055197 |  0.3395412  | -1.6072287  | -1.5004401  |  0.07622105 | -0.4830783  | -0.85692397 |  0.8242765  | -0.95888093 | 1.5306502   | ...         |  1.0786198  | -0.38713370 | -0.5885914  | -0.53239507 | -0.4156010  | 0.8586141   |  1.0125700  | 1.2545740   | -0.3249704  | -1.3262361  | \n",
       "| GSM1427367 | -0.01991386 |  0.5311768  | -1.6598260  | -0.5997982  | -0.89849684 | -0.0458880  | -0.78149386 |  1.2916239  | -0.44409793 | 0.7080603   | ...         |  1.7139512  | -0.01570736 | -0.5054049  | -0.05110027 | -0.9142908  | 1.3435691   |  1.4038265  | 1.2246478   | -0.4161631  | -0.9475492  | \n",
       "| GSM1427368 |  0.09669813 | -1.1491112  | -1.4599614  | -0.7611764  | -0.45096096 | -0.4314994  | -1.01497715 |  0.4935571  | -0.06580078 | 0.4709848   | ...         | -0.6477880  |  1.05744303 |  2.1146033  | -0.19583377 | -0.7242542  | 0.5939304   | -0.2397280  | 0.6376438   | -1.2617971  | -0.7110379  | \n",
       "| GSM1427369 |  0.60591082 | -0.2909339  | -0.7706495  | -1.6153704  | -0.19725703 |  0.1923982  |  0.01566688 |  1.6553695  | -0.63290017 | 0.2325596   | ...         |  0.9073371  | -1.58660056 | -0.7716743  | -1.22692096 | -1.7327967  | 0.7449012   |  0.3720672  | 1.9839301   | -0.1177152  | -1.0097703  | \n",
       "| GSM1427370 | -0.45741070 |  0.6336890  | -1.1505375  | -1.3236570  | -0.56825341 |  1.1642110  | -0.44210307 |  0.6894432  | -1.12718842 | 1.8594876   | ...         |  1.0932724  | -0.94139010 | -0.3863851  | -0.23368998 | -1.9137287  | 2.6079958   |  1.4321028  | 1.6187853   | -0.8236938  | -1.0656496  | \n",
       "\n",
       "\n"
      ],
      "text/plain": [
       "           PF3D7_0100100 PF3D7_0100200 PF3D7_0100300 PF3D7_0100600\n",
       "GSM1427365 -0.46930947   -0.7471792    -1.9043755    -0.9846413   \n",
       "GSM1427366 -0.06055197    0.3395412    -1.6072287    -1.5004401   \n",
       "GSM1427367 -0.01991386    0.5311768    -1.6598260    -0.5997982   \n",
       "GSM1427368  0.09669813   -1.1491112    -1.4599614    -0.7611764   \n",
       "GSM1427369  0.60591082   -0.2909339    -0.7706495    -1.6153704   \n",
       "GSM1427370 -0.45741070    0.6336890    -1.1505375    -1.3236570   \n",
       "           PF3D7_0100800 PF3D7_0101300 PF3D7_0101600 PF3D7_0101800\n",
       "GSM1427365 -0.69420547   -0.3318528    -1.66247363   -0.9761358   \n",
       "GSM1427366  0.07622105   -0.4830783    -0.85692397    0.8242765   \n",
       "GSM1427367 -0.89849684   -0.0458880    -0.78149386    1.2916239   \n",
       "GSM1427368 -0.45096096   -0.4314994    -1.01497715    0.4935571   \n",
       "GSM1427369 -0.19725703    0.1923982     0.01566688    1.6553695   \n",
       "GSM1427370 -0.56825341    1.1642110    -0.44210307    0.6894432   \n",
       "           PF3D7_0101900 PF3D7_0102000 ... PF3D7_1478600 PF3D7_1478800\n",
       "GSM1427365  1.39598170   2.5021411     ...  1.0538165    -0.67912851  \n",
       "GSM1427366 -0.95888093   1.5306502     ...  1.0786198    -0.38713370  \n",
       "GSM1427367 -0.44409793   0.7080603     ...  1.7139512    -0.01570736  \n",
       "GSM1427368 -0.06580078   0.4709848     ... -0.6477880     1.05744303  \n",
       "GSM1427369 -0.63290017   0.2325596     ...  0.9073371    -1.58660056  \n",
       "GSM1427370 -1.12718842   1.8594876     ...  1.0932724    -0.94139010  \n",
       "           PF3D7_1479000 PF3D7_1479200 PF3D7_1479400 PF3D7_1479500\n",
       "GSM1427365 -0.6389910    -0.98559101   -2.4927970    0.4622801    \n",
       "GSM1427366 -0.5885914    -0.53239507   -0.4156010    0.8586141    \n",
       "GSM1427367 -0.5054049    -0.05110027   -0.9142908    1.3435691    \n",
       "GSM1427368  2.1146033    -0.19583377   -0.7242542    0.5939304    \n",
       "GSM1427369 -0.7716743    -1.22692096   -1.7327967    0.7449012    \n",
       "GSM1427370 -0.3863851    -0.23368998   -1.9137287    2.6079958    \n",
       "           PF3D7_1479600 PF3D7_1479900 PF3D7_1480000 PF3D7_1480100\n",
       "GSM1427365  2.4275383    0.6265859     -2.2120021    -0.8390015   \n",
       "GSM1427366  1.0125700    1.2545740     -0.3249704    -1.3262361   \n",
       "GSM1427367  1.4038265    1.2246478     -0.4161631    -0.9475492   \n",
       "GSM1427368 -0.2397280    0.6376438     -1.2617971    -0.7110379   \n",
       "GSM1427369  0.3720672    1.9839301     -0.1177152    -1.0097703   \n",
       "GSM1427370  1.4321028    1.6187853     -0.8236938    -1.0656496   "
      ]
     },
     "metadata": {},
     "output_type": "display_data"
    }
   ],
   "source": [
    "# transpose combat_data\n",
    "trans_combat_edata = t(combat_edata)\n",
    "head(trans_combat_edata)"
   ]
  },
  {
   "cell_type": "code",
   "execution_count": 15,
   "metadata": {},
   "outputs": [
    {
     "data": {
      "text/html": [
       "<ol class=list-inline>\n",
       "\t<li>1331</li>\n",
       "\t<li>1</li>\n",
       "</ol>\n"
      ],
      "text/latex": [
       "\\begin{enumerate*}\n",
       "\\item 1331\n",
       "\\item 1\n",
       "\\end{enumerate*}\n"
      ],
      "text/markdown": [
       "1. 1331\n",
       "2. 1\n",
       "\n",
       "\n"
      ],
      "text/plain": [
       "[1] 1331    1"
      ]
     },
     "metadata": {},
     "output_type": "display_data"
    }
   ],
   "source": [
    "# make a batch phenotype with name\n",
    "pheno2 <- data.frame('batch' = c(rep(\"Training Set\", nrow(subtrain)), rep(\"Testing Set\", nrow(subtest))))\n",
    "dim(pheno2)"
   ]
  },
  {
   "cell_type": "code",
   "execution_count": 16,
   "metadata": {},
   "outputs": [
    {
     "name": "stderr",
     "output_type": "stream",
     "text": [
      "Warning message:\n",
      "\"package 'ggfortify' was built under R version 3.5.3\"Loading required package: ggplot2\n"
     ]
    },
    {
     "data": {},
     "metadata": {},
     "output_type": "display_data"
    },
    {
     "data": {
      "image/png": "[encoded data removed]",
      "text/plain": [
       "plot without title"
      ]
     },
     "metadata": {},
     "output_type": "display_data",
     "source": "R display func"
    }
   ],
   "source": [
    "# make pca plot for checking batch effects\n",
    "library(ggfortify)\n",
    "autoplot(prcomp(submerge), data=pheno2, colour=\"batch\")"
   ]
  },
  {
   "cell_type": "code",
   "execution_count": 17,
   "metadata": {},
   "outputs": [
    {
     "data": {},
     "metadata": {},
     "output_type": "display_data"
    },
    {
     "data": {
      "image/png": "[encoded data removed]",
      "text/plain": [
       "plot without title"
      ]
     },
     "metadata": {},
     "output_type": "display_data",
     "source": "R display func"
    }
   ],
   "source": [
    "autoplot(prcomp(trans_combat_edata), data=pheno2, colour=\"batch\")"
   ]
  },
  {
   "cell_type": "code",
   "execution_count": 18,
   "metadata": {},
   "outputs": [
    {
     "data": {
      "text/html": [
       "<table>\n",
       "<thead><tr><th></th><th scope=col>Sample_Names</th><th scope=col>Asexual.stage..hpi.</th><th scope=col>ClearanceRate</th><th scope=col>Country</th><th scope=col>Kmeans.Grp</th></tr></thead>\n",
       "<tbody>\n",
       "\t<tr><th scope=row>GSM1427365</th><td>GSM1427365</td><td>20        </td><td>1         </td><td>Bangladesh</td><td>B         </td></tr>\n",
       "\t<tr><th scope=row>GSM1427366</th><td>GSM1427366</td><td>18        </td><td>1         </td><td>Bangladesh</td><td>B         </td></tr>\n",
       "\t<tr><th scope=row>GSM1427367</th><td>GSM1427367</td><td>16        </td><td>1         </td><td>Bangladesh</td><td>B         </td></tr>\n",
       "\t<tr><th scope=row>GSM1427368</th><td>GSM1427368</td><td> 8        </td><td>1         </td><td>Bangladesh</td><td>A         </td></tr>\n",
       "\t<tr><th scope=row>GSM1427369</th><td>GSM1427369</td><td>16        </td><td>1         </td><td>Bangladesh</td><td>B         </td></tr>\n",
       "\t<tr><th scope=row>GSM1427370</th><td>GSM1427370</td><td>18        </td><td>1         </td><td>Bangladesh</td><td>B         </td></tr>\n",
       "</tbody>\n",
       "</table>\n"
      ],
      "text/latex": [
       "\\begin{tabular}{r|lllll}\n",
       "  & Sample\\_Names & Asexual.stage..hpi. & ClearanceRate & Country & Kmeans.Grp\\\\\n",
       "\\hline\n",
       "\tGSM1427365 & GSM1427365 & 20         & 1          & Bangladesh & B         \\\\\n",
       "\tGSM1427366 & GSM1427366 & 18         & 1          & Bangladesh & B         \\\\\n",
       "\tGSM1427367 & GSM1427367 & 16         & 1          & Bangladesh & B         \\\\\n",
       "\tGSM1427368 & GSM1427368 &  8         & 1          & Bangladesh & A         \\\\\n",
       "\tGSM1427369 & GSM1427369 & 16         & 1          & Bangladesh & B         \\\\\n",
       "\tGSM1427370 & GSM1427370 & 18         & 1          & Bangladesh & B         \\\\\n",
       "\\end{tabular}\n"
      ],
      "text/markdown": [
       "\n",
       "| <!--/--> | Sample_Names | Asexual.stage..hpi. | ClearanceRate | Country | Kmeans.Grp | \n",
       "|---|---|---|---|---|---|\n",
       "| GSM1427365 | GSM1427365 | 20         | 1          | Bangladesh | B          | \n",
       "| GSM1427366 | GSM1427366 | 18         | 1          | Bangladesh | B          | \n",
       "| GSM1427367 | GSM1427367 | 16         | 1          | Bangladesh | B          | \n",
       "| GSM1427368 | GSM1427368 |  8         | 1          | Bangladesh | A          | \n",
       "| GSM1427369 | GSM1427369 | 16         | 1          | Bangladesh | B          | \n",
       "| GSM1427370 | GSM1427370 | 18         | 1          | Bangladesh | B          | \n",
       "\n",
       "\n"
      ],
      "text/plain": [
       "           Sample_Names Asexual.stage..hpi. ClearanceRate Country    Kmeans.Grp\n",
       "GSM1427365 GSM1427365   20                  1             Bangladesh B         \n",
       "GSM1427366 GSM1427366   18                  1             Bangladesh B         \n",
       "GSM1427367 GSM1427367   16                  1             Bangladesh B         \n",
       "GSM1427368 GSM1427368    8                  1             Bangladesh A         \n",
       "GSM1427369 GSM1427369   16                  1             Bangladesh B         \n",
       "GSM1427370 GSM1427370   18                  1             Bangladesh B         "
      ]
     },
     "metadata": {},
     "output_type": "display_data"
    }
   ],
   "source": [
    "# merge other features with combat outputs\n",
    "subtrain_ofeat <- subset(training_set,select = c(Sample_Names, Asexual.stage..hpi., ClearanceRate, Country, Kmeans.Grp))\n",
    "head(subtrain_ofeat)"
   ]
  },
  {
   "cell_type": "code",
   "execution_count": 19,
   "metadata": {},
   "outputs": [
    {
     "data": {
      "text/html": [
       "<table>\n",
       "<thead><tr><th></th><th scope=col>Row.names</th><th scope=col>Sample_Names</th><th scope=col>Asexual.stage..hpi.</th><th scope=col>ClearanceRate</th><th scope=col>Country</th><th scope=col>Kmeans.Grp</th><th scope=col>PF3D7_0100100</th><th scope=col>PF3D7_0100200</th><th scope=col>PF3D7_0100300</th><th scope=col>PF3D7_0100600</th><th scope=col>...</th><th scope=col>PF3D7_1478600</th><th scope=col>PF3D7_1478800</th><th scope=col>PF3D7_1479000</th><th scope=col>PF3D7_1479200</th><th scope=col>PF3D7_1479400</th><th scope=col>PF3D7_1479500</th><th scope=col>PF3D7_1479600</th><th scope=col>PF3D7_1479900</th><th scope=col>PF3D7_1480000</th><th scope=col>PF3D7_1480100</th></tr></thead>\n",
       "<tbody>\n",
       "\t<tr><th scope=row>1038</th><td>GSM1428402</td><td>GSM1428402</td><td>10        </td><td>0         </td><td>Vietnam   </td><td>A         </td><td>-0.1997229</td><td>-1.4399152</td><td>-1.9674875</td><td>-0.7680356</td><td>...       </td><td> 1.8688418</td><td> 0.9145425</td><td> 1.490171 </td><td>1.94641745</td><td>-1.0709241</td><td>-0.5345409</td><td>-0.6077947</td><td>-0.6635491</td><td>-1.5317855</td><td>-1.2150579</td></tr>\n",
       "\t<tr><th scope=row>1039</th><td>GSM1428403</td><td>GSM1428403</td><td>14        </td><td>1         </td><td>Vietnam   </td><td>B         </td><td> 1.2534277</td><td>-0.5955679</td><td>-1.0249343</td><td>-1.6002985</td><td>...       </td><td> 1.6112795</td><td>-0.1230729</td><td>-1.253537 </td><td>0.03790698</td><td>-1.1609427</td><td> 0.0264012</td><td>-1.4282523</td><td> 2.7250339</td><td>-0.4372022</td><td>-0.9073533</td></tr>\n",
       "\t<tr><th scope=row>1040</th><td>GSM1428404</td><td>GSM1428404</td><td> 8        </td><td>0         </td><td>Vietnam   </td><td>C         </td><td> 1.0618136</td><td>-1.1742104</td><td>-1.3804809</td><td>-2.7399814</td><td>...       </td><td> 0.4538403</td><td> 1.6146443</td><td> 1.305044 </td><td>0.32340842</td><td>-2.6455505</td><td> 0.6583312</td><td>-1.0302834</td><td> 1.7736239</td><td>-1.4811604</td><td>-1.0220924</td></tr>\n",
       "\t<tr><th scope=row>1041</th><td>GSM1428405</td><td>GSM1428405</td><td> 8        </td><td>1         </td><td>Vietnam   </td><td>C         </td><td> 0.8209306</td><td>-0.3893965</td><td>-0.9074882</td><td>-1.4372993</td><td>...       </td><td> 0.1187458</td><td> 0.1179023</td><td> 1.652349 </td><td>0.83795573</td><td>-2.1263836</td><td> 2.4604627</td><td>-1.2961475</td><td> 2.1380411</td><td>-1.4090512</td><td>-1.7452238</td></tr>\n",
       "\t<tr><th scope=row>1042</th><td>GSM1428406</td><td>GSM1428406</td><td> 8        </td><td>1         </td><td>Vietnam   </td><td>C         </td><td> 0.7990810</td><td>-0.3929014</td><td>-1.6805914</td><td>-3.0958226</td><td>...       </td><td>-0.1397592</td><td>-0.3994393</td><td> 2.559789 </td><td>0.27686627</td><td>-3.1100563</td><td> 1.1559326</td><td>-1.1293810</td><td> 2.5776743</td><td>-1.1206123</td><td>-1.0767456</td></tr>\n",
       "\t<tr><th scope=row>1043</th><td>GSM1428407</td><td>GSM1428407</td><td> 8        </td><td>1         </td><td>Vietnam   </td><td>A         </td><td> 0.4934023</td><td>-1.9918199</td><td>-2.0442621</td><td>-0.7738504</td><td>...       </td><td>-0.1307500</td><td> 0.2475214</td><td> 2.005380 </td><td>0.51543126</td><td>-0.9853749</td><td> 0.6380456</td><td>-0.8329773</td><td> 2.0032831</td><td>-2.0913192</td><td>-0.8829433</td></tr>\n",
       "</tbody>\n",
       "</table>\n"
      ],
      "text/latex": [
       "\\begin{tabular}{r|llllllllllllllllllllllllllllllllllllllllllllllllllllllllllllllllllllllllllllllllllllllllllllllllllllllllllllllllllllllllllllllllllllllllllllllllllllllllllllllllllllllllllllllllllllllllllllllllllllllllllllllllllllllllllllllllllllllllllllllllllllllllllllllllllllllllllllllllllllllllllllllllllllllllllllllllllllllllllllllllllllllllllllllllllllllllllllllllllllllllllllllllllllllllllllllllllllllllllllllllllllllllllllllllllllllllllllllllllllllllllllllllllllllllllllllllllllllllllllllllllllllllllllllllllllllllllllllllllllllllllllllllllllllllllllllllllllllllllllllllllllllllllllllllllllllllllllllllllllllllllllllllllllllllllllllllllllllllllllllllllllllllllllllllllllllllllllllllllllllllllllllllllllllllllllllllllllllllllllllllllllllllllllllllllllllllllllllllllllllllllllllllllllllllllllllllllllllllllllllllllllllllllllllllllllllllllllllllllllllllllllllllllllllllllllllllllllllllllllllllllllllllllllllllllllllllllllllllllllllllllllllllllllllllllllllllllllllllllllllllllllllllllllllllllllllllllllllllllllllllllllllllllllllllllllllllllllllllllllllllllllllllllllllllllllllllllllllllllllllllllllllllllllllllllllllllllllllllllllllllllllllllllllllllllllllllllllllllllllllllllllllllllllllllllllllllllllllllllllllllllllllllllllllllllllllllllllllllllllllllllllllllllllllllllllllllllllllllllllllllllllllllllllllllllllllllllllllllllllllllllllllllllllllllllllllllllllllllllllllllllllllllllllllllllllllllllllllllllllllllllllllllllllllllllllllllllllllllllllllllllllllllllllllllllllllllllllllllllllllllllllllllllllllllllllllllllllllllllllllllllllllllllllllllllllllllllllllllllllllllllllllllllllllllllllllllllllllllllllllllllllllllllllllllllllllllllllllllllllllllllllllllllllllllllllllllllllllllllllllllllllllllllllllllllllllllllllllllllllllllllllllllllllllllllllllllllllllllllllllllllllllllllllllllllllllllllllllllllllllllllllllllllllllllllllllllllllllllllllllllllllllllllllllllllllllllllllllllllllllllllllllllllllllllllllllllllllllllllllllllllllllllllllllllllllllllllllllllllllllllllllllllllllllllllllllllllllllllllllllllllllllllllllllllllllllllllllllllllllllllllllllllllllllllllllllllllllllllllllllllllllllllllllllllllllllllllllllllllllllllllllllllllllllllllllllllllllllllllllllllllllllllllllllllllllllllllllllllllllllllllllllllllllllllllllllllllllllllllllllllllllllllllllllllllllllllllllllllllllllllllllllllllllllllllllllllllllllllllllllllllllllllllllllllllllllllllllllllllllllllllllllllllllllllllllllllllllllllllllllllllllllllllllllllllllllllllllllllllllllllllllllllllllllllllllllllllllllllllllllllllllllllllllllllllllllllllllllllllllllllllllllllllllllllllllllllllllllllllllllllllllllllllllllllllllllllllllllllllllllllllllllllllllllllllllllllllllllllllllllllllllllllllllllllllllllllllllllllllllllllllllllllllllllllllllllllllllllllllllllllllllllllllllllllllllllllllllllllllllllllllllllllllllllllllllllllllllllllllllllllllllllllllllllllllllllllllllllllllllllllllllllllllllllllllllllllllllllllllllllllllllllllllllllllllllllllllllllllllllllllllllllllllllllllllllllllllllllllllllllllllllllllllllllllllllllllllllllllllllllllllllllllllllllllllllllllllllllllllllllllllllllllllllllllllllllllllllllllllllllllllllllllllllllllllllllllllllllllllllllllllllllllllllllllllllllllllllllllllllllllllllllllllllllllllllllllllllllllllllllllllllllllllllllllllllllllllllllllllllllllllllllllllllllllllllllllllllllllllllllllllllllllllllllllllllllllllllllllllllllllllllllllllllllllllllllllllllllllllllllllllllllllllllllllllllllllllllllllllllllllllllllllllllllllllllllllllllllllllllllllllllllllllllllllllllllllllllllllllllllllllllllllllllllllllllllllllllllllllllllllllllllllllllllllllllllllllllllllllllllllllllllllllllllllllllllllllllllllllllllllllllllllllllllllllllllllllllllllllllllllllllllllllllllllllllllllllllllllllllllllllllllllllllllllllllllllllllllllllllllllllllllllllllllllllllllllllllllllllllllllllllllllllllllllllllllllllllllllllllllllllllllllllllllllllllllllllllllllllllllllllllllllllllllllllllllllllllllllllllllllllllllllllllllllllllllllllllllllllllllllllllllllllllllllllllllllllllllllllllllllllllllllllllllllllllllllllllllllllllllllllllllllllllllllllllllllllllllllllllllllllllllllllllllllllllllllllllllllllllllllllllllllllllllllllllllllllllllllllllllllllllllllllllllllllllllllllllllllllllllllllllllllllllllllllllllllllllllllllllllllllllllllllllllllllllllllllllllllllllllllllllllllllllllllllllllllllllllllllllllllllllllllllllllllllllllllllllllllllllllllllllllllllllllllllllllllllllllllllllllllllllllllllllllllllllllllllllllllllllllllllllllllllllllllllllllllllllllllllllllllllllllllllllllllllllllllllllllllllllllllllllllllllllllllllllllllllllllllllllllllllllllllllllllllllllllllllllllllllllllllllllllllllllllllllllllllllllllllllllllllllllllllllllllllllllllllllllllllllllllllllllllllllllllllllllllllllllllllllllllllllllllllllllllllllllllllllllllllllllllllllllllllllllllllllllllllllllllllllllllllllllllllllllllllllllllllllllllllllllllllllllllllllllllllllllllllllllllllllllllllllllllllllllllllllllllllllllllllllllllllllllllllllllllllllllllllllllllllllllllllllllllllllllllllllllllllllllllllllllll}\n",
       "  & Row.names & Sample\\_Names & Asexual.stage..hpi. & ClearanceRate & Country & Kmeans.Grp & PF3D7\\_0100100 & PF3D7\\_0100200 & PF3D7\\_0100300 & PF3D7\\_0100600 & ... & PF3D7\\_1478600 & PF3D7\\_1478800 & PF3D7\\_1479000 & PF3D7\\_1479200 & PF3D7\\_1479400 & PF3D7\\_1479500 & PF3D7\\_1479600 & PF3D7\\_1479900 & PF3D7\\_1480000 & PF3D7\\_1480100\\\\\n",
       "\\hline\n",
       "\t1038 & GSM1428402 & GSM1428402 & 10         & 0          & Vietnam    & A          & -0.1997229 & -1.4399152 & -1.9674875 & -0.7680356 & ...        &  1.8688418 &  0.9145425 &  1.490171  & 1.94641745 & -1.0709241 & -0.5345409 & -0.6077947 & -0.6635491 & -1.5317855 & -1.2150579\\\\\n",
       "\t1039 & GSM1428403 & GSM1428403 & 14         & 1          & Vietnam    & B          &  1.2534277 & -0.5955679 & -1.0249343 & -1.6002985 & ...        &  1.6112795 & -0.1230729 & -1.253537  & 0.03790698 & -1.1609427 &  0.0264012 & -1.4282523 &  2.7250339 & -0.4372022 & -0.9073533\\\\\n",
       "\t1040 & GSM1428404 & GSM1428404 &  8         & 0          & Vietnam    & C          &  1.0618136 & -1.1742104 & -1.3804809 & -2.7399814 & ...        &  0.4538403 &  1.6146443 &  1.305044  & 0.32340842 & -2.6455505 &  0.6583312 & -1.0302834 &  1.7736239 & -1.4811604 & -1.0220924\\\\\n",
       "\t1041 & GSM1428405 & GSM1428405 &  8         & 1          & Vietnam    & C          &  0.8209306 & -0.3893965 & -0.9074882 & -1.4372993 & ...        &  0.1187458 &  0.1179023 &  1.652349  & 0.83795573 & -2.1263836 &  2.4604627 & -1.2961475 &  2.1380411 & -1.4090512 & -1.7452238\\\\\n",
       "\t1042 & GSM1428406 & GSM1428406 &  8         & 1          & Vietnam    & C          &  0.7990810 & -0.3929014 & -1.6805914 & -3.0958226 & ...        & -0.1397592 & -0.3994393 &  2.559789  & 0.27686627 & -3.1100563 &  1.1559326 & -1.1293810 &  2.5776743 & -1.1206123 & -1.0767456\\\\\n",
       "\t1043 & GSM1428407 & GSM1428407 &  8         & 1          & Vietnam    & A          &  0.4934023 & -1.9918199 & -2.0442621 & -0.7738504 & ...        & -0.1307500 &  0.2475214 &  2.005380  & 0.51543126 & -0.9853749 &  0.6380456 & -0.8329773 &  2.0032831 & -2.0913192 & -0.8829433\\\\\n",
       "\\end{tabular}\n"
      ],
      "text/markdown": [
       "\n",
       "| <!--/--> | Row.names | Sample_Names | Asexual.stage..hpi. | ClearanceRate | Country | Kmeans.Grp | PF3D7_0100100 | PF3D7_0100200 | PF3D7_0100300 | PF3D7_0100600 | ... | PF3D7_1478600 | PF3D7_1478800 | PF3D7_1479000 | PF3D7_1479200 | PF3D7_1479400 | PF3D7_1479500 | PF3D7_1479600 | PF3D7_1479900 | PF3D7_1480000 | PF3D7_1480100 | \n",
       "|---|---|---|---|---|---|\n",
       "| 1038 | GSM1428402 | GSM1428402 | 10         | 0          | Vietnam    | A          | -0.1997229 | -1.4399152 | -1.9674875 | -0.7680356 | ...        |  1.8688418 |  0.9145425 |  1.490171  | 1.94641745 | -1.0709241 | -0.5345409 | -0.6077947 | -0.6635491 | -1.5317855 | -1.2150579 | \n",
       "| 1039 | GSM1428403 | GSM1428403 | 14         | 1          | Vietnam    | B          |  1.2534277 | -0.5955679 | -1.0249343 | -1.6002985 | ...        |  1.6112795 | -0.1230729 | -1.253537  | 0.03790698 | -1.1609427 |  0.0264012 | -1.4282523 |  2.7250339 | -0.4372022 | -0.9073533 | \n",
       "| 1040 | GSM1428404 | GSM1428404 |  8         | 0          | Vietnam    | C          |  1.0618136 | -1.1742104 | -1.3804809 | -2.7399814 | ...        |  0.4538403 |  1.6146443 |  1.305044  | 0.32340842 | -2.6455505 |  0.6583312 | -1.0302834 |  1.7736239 | -1.4811604 | -1.0220924 | \n",
       "| 1041 | GSM1428405 | GSM1428405 |  8         | 1          | Vietnam    | C          |  0.8209306 | -0.3893965 | -0.9074882 | -1.4372993 | ...        |  0.1187458 |  0.1179023 |  1.652349  | 0.83795573 | -2.1263836 |  2.4604627 | -1.2961475 |  2.1380411 | -1.4090512 | -1.7452238 | \n",
       "| 1042 | GSM1428406 | GSM1428406 |  8         | 1          | Vietnam    | C          |  0.7990810 | -0.3929014 | -1.6805914 | -3.0958226 | ...        | -0.1397592 | -0.3994393 |  2.559789  | 0.27686627 | -3.1100563 |  1.1559326 | -1.1293810 |  2.5776743 | -1.1206123 | -1.0767456 | \n",
       "| 1043 | GSM1428407 | GSM1428407 |  8         | 1          | Vietnam    | A          |  0.4934023 | -1.9918199 | -2.0442621 | -0.7738504 | ...        | -0.1307500 |  0.2475214 |  2.005380  | 0.51543126 | -0.9853749 |  0.6380456 | -0.8329773 |  2.0032831 | -2.0913192 | -0.8829433 | \n",
       "\n",
       "\n"
      ],
      "text/plain": [
       "     Row.names  Sample_Names Asexual.stage..hpi. ClearanceRate Country\n",
       "1038 GSM1428402 GSM1428402   10                  0             Vietnam\n",
       "1039 GSM1428403 GSM1428403   14                  1             Vietnam\n",
       "1040 GSM1428404 GSM1428404    8                  0             Vietnam\n",
       "1041 GSM1428405 GSM1428405    8                  1             Vietnam\n",
       "1042 GSM1428406 GSM1428406    8                  1             Vietnam\n",
       "1043 GSM1428407 GSM1428407    8                  1             Vietnam\n",
       "     Kmeans.Grp PF3D7_0100100 PF3D7_0100200 PF3D7_0100300 PF3D7_0100600 ...\n",
       "1038 A          -0.1997229    -1.4399152    -1.9674875    -0.7680356    ...\n",
       "1039 B           1.2534277    -0.5955679    -1.0249343    -1.6002985    ...\n",
       "1040 C           1.0618136    -1.1742104    -1.3804809    -2.7399814    ...\n",
       "1041 C           0.8209306    -0.3893965    -0.9074882    -1.4372993    ...\n",
       "1042 C           0.7990810    -0.3929014    -1.6805914    -3.0958226    ...\n",
       "1043 A           0.4934023    -1.9918199    -2.0442621    -0.7738504    ...\n",
       "     PF3D7_1478600 PF3D7_1478800 PF3D7_1479000 PF3D7_1479200 PF3D7_1479400\n",
       "1038  1.8688418     0.9145425     1.490171     1.94641745    -1.0709241   \n",
       "1039  1.6112795    -0.1230729    -1.253537     0.03790698    -1.1609427   \n",
       "1040  0.4538403     1.6146443     1.305044     0.32340842    -2.6455505   \n",
       "1041  0.1187458     0.1179023     1.652349     0.83795573    -2.1263836   \n",
       "1042 -0.1397592    -0.3994393     2.559789     0.27686627    -3.1100563   \n",
       "1043 -0.1307500     0.2475214     2.005380     0.51543126    -0.9853749   \n",
       "     PF3D7_1479500 PF3D7_1479600 PF3D7_1479900 PF3D7_1480000 PF3D7_1480100\n",
       "1038 -0.5345409    -0.6077947    -0.6635491    -1.5317855    -1.2150579   \n",
       "1039  0.0264012    -1.4282523     2.7250339    -0.4372022    -0.9073533   \n",
       "1040  0.6583312    -1.0302834     1.7736239    -1.4811604    -1.0220924   \n",
       "1041  2.4604627    -1.2961475     2.1380411    -1.4090512    -1.7452238   \n",
       "1042  1.1559326    -1.1293810     2.5776743    -1.1206123    -1.0767456   \n",
       "1043  0.6380456    -0.8329773     2.0032831    -2.0913192    -0.8829433   "
      ]
     },
     "metadata": {},
     "output_type": "display_data"
    }
   ],
   "source": [
    "combated_train <- merge(subtrain_ofeat, trans_combat_edata, by=0, all.x=TRUE)\n",
    "tail(combated_train)"
   ]
  },
  {
   "cell_type": "code",
   "execution_count": 20,
   "metadata": {},
   "outputs": [
    {
     "data": {
      "text/html": [
       "<table>\n",
       "<thead><tr><th></th><th scope=col>Sample_Names</th><th scope=col>Asexual.stage..hpi.</th><th scope=col>ClearanceRate</th><th scope=col>Country</th><th scope=col>Kmeans.Grp</th><th scope=col>PF3D7_0100100</th><th scope=col>PF3D7_0100200</th><th scope=col>PF3D7_0100300</th><th scope=col>PF3D7_0100600</th><th scope=col>PF3D7_0100800</th><th scope=col>...</th><th scope=col>PF3D7_1478600</th><th scope=col>PF3D7_1478800</th><th scope=col>PF3D7_1479000</th><th scope=col>PF3D7_1479200</th><th scope=col>PF3D7_1479400</th><th scope=col>PF3D7_1479500</th><th scope=col>PF3D7_1479600</th><th scope=col>PF3D7_1479900</th><th scope=col>PF3D7_1480000</th><th scope=col>PF3D7_1480100</th></tr></thead>\n",
       "<tbody>\n",
       "\t<tr><th scope=row>1038</th><td>GSM1428402 </td><td>10         </td><td>0          </td><td>Vietnam    </td><td>A          </td><td>-0.1997229 </td><td>-1.4399152 </td><td>-1.9674875 </td><td>-0.7680356 </td><td>-1.74944928</td><td>...        </td><td> 1.8688418 </td><td> 0.9145425 </td><td> 1.490171  </td><td>1.94641745 </td><td>-1.0709241 </td><td>-0.5345409 </td><td>-0.6077947 </td><td>-0.6635491 </td><td>-1.5317855 </td><td>-1.2150579 </td></tr>\n",
       "\t<tr><th scope=row>1039</th><td>GSM1428403 </td><td>14         </td><td>1          </td><td>Vietnam    </td><td>B          </td><td> 1.2534277 </td><td>-0.5955679 </td><td>-1.0249343 </td><td>-1.6002985 </td><td> 0.34413491</td><td>...        </td><td> 1.6112795 </td><td>-0.1230729 </td><td>-1.253537  </td><td>0.03790698 </td><td>-1.1609427 </td><td> 0.0264012 </td><td>-1.4282523 </td><td> 2.7250339 </td><td>-0.4372022 </td><td>-0.9073533 </td></tr>\n",
       "\t<tr><th scope=row>1040</th><td>GSM1428404 </td><td> 8         </td><td>0          </td><td>Vietnam    </td><td>C          </td><td> 1.0618136 </td><td>-1.1742104 </td><td>-1.3804809 </td><td>-2.7399814 </td><td> 0.02256392</td><td>...        </td><td> 0.4538403 </td><td> 1.6146443 </td><td> 1.305044  </td><td>0.32340842 </td><td>-2.6455505 </td><td> 0.6583312 </td><td>-1.0302834 </td><td> 1.7736239 </td><td>-1.4811604 </td><td>-1.0220924 </td></tr>\n",
       "\t<tr><th scope=row>1041</th><td>GSM1428405 </td><td> 8         </td><td>1          </td><td>Vietnam    </td><td>C          </td><td> 0.8209306 </td><td>-0.3893965 </td><td>-0.9074882 </td><td>-1.4372993 </td><td>-0.69596016</td><td>...        </td><td> 0.1187458 </td><td> 0.1179023 </td><td> 1.652349  </td><td>0.83795573 </td><td>-2.1263836 </td><td> 2.4604627 </td><td>-1.2961475 </td><td> 2.1380411 </td><td>-1.4090512 </td><td>-1.7452238 </td></tr>\n",
       "\t<tr><th scope=row>1042</th><td>GSM1428406 </td><td> 8         </td><td>1          </td><td>Vietnam    </td><td>C          </td><td> 0.7990810 </td><td>-0.3929014 </td><td>-1.6805914 </td><td>-3.0958226 </td><td> 0.24609883</td><td>...        </td><td>-0.1397592 </td><td>-0.3994393 </td><td> 2.559789  </td><td>0.27686627 </td><td>-3.1100563 </td><td> 1.1559326 </td><td>-1.1293810 </td><td> 2.5776743 </td><td>-1.1206123 </td><td>-1.0767456 </td></tr>\n",
       "\t<tr><th scope=row>1043</th><td>GSM1428407 </td><td> 8         </td><td>1          </td><td>Vietnam    </td><td>A          </td><td> 0.4934023 </td><td>-1.9918199 </td><td>-2.0442621 </td><td>-0.7738504 </td><td>-0.41271803</td><td>...        </td><td>-0.1307500 </td><td> 0.2475214 </td><td> 2.005380  </td><td>0.51543126 </td><td>-0.9853749 </td><td> 0.6380456 </td><td>-0.8329773 </td><td> 2.0032831 </td><td>-2.0913192 </td><td>-0.8829433 </td></tr>\n",
       "</tbody>\n",
       "</table>\n"
      ],
      "text/latex": [
       "\\begin{tabular}{r|lllllllllllllllllllllllllllllllllllllllllllllllllllllllllllllllllllllllllllllllllllllllllllllllllllllllllllllllllllllllllllllllllllllllllllllllllllllllllllllllllllllllllllllllllllllllllllllllllllllllllllllllllllllllllllllllllllllllllllllllllllllllllllllllllllllllllllllllllllllllllllllllllllllllllllllllllllllllllllllllllllllllllllllllllllllllllllllllllllllllllllllllllllllllllllllllllllllllllllllllllllllllllllllllllllllllllllllllllllllllllllllllllllllllllllllllllllllllllllllllllllllllllllllllllllllllllllllllllllllllllllllllllllllllllllllllllllllllllllllllllllllllllllllllllllllllllllllllllllllllllllllllllllllllllllllllllllllllllllllllllllllllllllllllllllllllllllllllllllllllllllllllllllllllllllllllllllllllllllllllllllllllllllllllllllllllllllllllllllllllllllllllllllllllllllllllllllllllllllllllllllllllllllllllllllllllllllllllllllllllllllllllllllllllllllllllllllllllllllllllllllllllllllllllllllllllllllllllllllllllllllllllllllllllllllllllllllllllllllllllllllllllllllllllllllllllllllllllllllllllllllllllllllllllllllllllllllllllllllllllllllllllllllllllllllllllllllllllllllllllllllllllllllllllllllllllllllllllllllllllllllllllllllllllllllllllllllllllllllllllllllllllllllllllllllllllllllllllllllllllllllllllllllllllllllllllllllllllllllllllllllllllllllllllllllllllllllllllllllllllllllllllllllllllllllllllllllllllllllllllllllllllllllllllllllllllllllllllllllllllllllllllllllllllllllllllllllllllllllllllllllllllllllllllllllllllllllllllllllllllllllllllllllllllllllllllllllllllllllllllllllllllllllllllllllllllllllllllllllllllllllllllllllllllllllllllllllllllllllllllllllllllllllllllllllllllllllllllllllllllllllllllllllllllllllllllllllllllllllllllllllllllllllllllllllllllllllllllllllllllllllllllllllllllllllllllllllllllllllllllllllllllllllllllllllllllllllllllllllllllllllllllllllllllllllllllllllllllllllllllllllllllllllllllllllllllllllllllllllllllllllllllllllllllllllllllllllllllllllllllllllllllllllllllllllllllllllllllllllllllllllllllllllllllllllllllllllllllllllllllllllllllllllllllllllllllllllllllllllllllllllllllllllllllllllllllllllllllllllllllllllllllllllllllllllllllllllllllllllllllllllllllllllllllllllllllllllllllllllllllllllllllllllllllllllllllllllllllllllllllllllllllllllllllllllllllllllllllllllllllllllllllllllllllllllllllllllllllllllllllllllllllllllllllllllllllllllllllllllllllllllllllllllllllllllllllllllllllllllllllllllllllllllllllllllllllllllllllllllllllllllllllllllllllllllllllllllllllllllllllllllllllllllllllllllllllllllllllllllllllllllllllllllllllllllllllllllllllllllllllllllllllllllllllllllllllllllllllllllllllllllllllllllllllllllllllllllllllllllllllllllllllllllllllllllllllllllllllllllllllllllllllllllllllllllllllllllllllllllllllllllllllllllllllllllllllllllllllllllllllllllllllllllllllllllllllllllllllllllllllllllllllllllllllllllllllllllllllllllllllllllllllllllllllllllllllllllllllllllllllllllllllllllllllllllllllllllllllllllllllllllllllllllllllllllllllllllllllllllllllllllllllllllllllllllllllllllllllllllllllllllllllllllllllllllllllllllllllllllllllllllllllllllllllllllllllllllllllllllllllllllllllllllllllllllllllllllllllllllllllllllllllllllllllllllllllllllllllllllllllllllllllllllllllllllllllllllllllllllllllllllllllllllllllllllllllllllllllllllllllllllllllllllllllllllllllllllllllllllllllllllllllllllllllllllllllllllllllllllllllllllllllllllllllllllllllllllllllllllllllllllllllllllllllllllllllllllllllllllllllllllllllllllllllllllllllllllllllllllllllllllllllllllllllllllllllllllllllllllllllllllllllllllllllllllllllllllllllllllllllllllllllllllllllllllllllllllllllllllllllllllllllllllllllllllllllllllllllllllllllllllllllllllllllllllllllllllllllllllllllllllllllllllllllllllllllllllllllllllllllllllllllllllllllllllllllllllllllllllllllllllllllllllllllllllllllllllllllllllllllllllllllllllllllllllllllllllllllllllllllllllllllllllllllllllllllllllllllllllllllllllllllllllllllllllllllllllllllllllllllllllllllllllllllllllllllllllllllllllllllllllllllllllllllllllllllllllllllllllllllllllllllllllllllllllllllllllllllllllllllllllllllllllllllllllllllllllllllllllllllllllllllllllllllllllllllllllllllllllllllllllllllllllllllllllllllllllllllllllllllllllllllllllllllllllllllllllllllllllllllllllllllllllllllllllllllllllllllllllllllllllllllllllllllllllllllllllllllllllllllllllllllllllllllllllllllllllllllllllllllllllllllllllllllllllllllllllllllllllllllllllllllllllllllllllllllllllllllllllllllllllllllllllllllllllllllllllllllllllllllllllllllllllllllllllllllllllllllllllllllllllllllllllllllllllllllllllllllllllllllllllllllllllllllllllllllllllllllllllllllllllllllllllllllllllllllllllllllllllllllllllllllllllllllllllllllllllllllllllllllllllllllllllllllllllllllllllllllllllllllllllllllllllllllllllllllllllllllllllllllllllllllllllllllllllllllllllllllllllllllllllllllllllllllllllllllllllllllllllllllllllllllllllllllllllllllllllllllllllllllllllllllllllllllllllllllllllllllllllllllllllllllllllllllllllllllllllllllllllllllllllllllllllllllllllllllllllllllllllllllllllllllllllllllllllllllllllllllllllllllllllllllllllllllllllllllllllllllllllllllllllllllllllllllllllllllllllllllllllll}\n",
       "  & Sample\\_Names & Asexual.stage..hpi. & ClearanceRate & Country & Kmeans.Grp & PF3D7\\_0100100 & PF3D7\\_0100200 & PF3D7\\_0100300 & PF3D7\\_0100600 & PF3D7\\_0100800 & ... & PF3D7\\_1478600 & PF3D7\\_1478800 & PF3D7\\_1479000 & PF3D7\\_1479200 & PF3D7\\_1479400 & PF3D7\\_1479500 & PF3D7\\_1479600 & PF3D7\\_1479900 & PF3D7\\_1480000 & PF3D7\\_1480100\\\\\n",
       "\\hline\n",
       "\t1038 & GSM1428402  & 10          & 0           & Vietnam     & A           & -0.1997229  & -1.4399152  & -1.9674875  & -0.7680356  & -1.74944928 & ...         &  1.8688418  &  0.9145425  &  1.490171   & 1.94641745  & -1.0709241  & -0.5345409  & -0.6077947  & -0.6635491  & -1.5317855  & -1.2150579 \\\\\n",
       "\t1039 & GSM1428403  & 14          & 1           & Vietnam     & B           &  1.2534277  & -0.5955679  & -1.0249343  & -1.6002985  &  0.34413491 & ...         &  1.6112795  & -0.1230729  & -1.253537   & 0.03790698  & -1.1609427  &  0.0264012  & -1.4282523  &  2.7250339  & -0.4372022  & -0.9073533 \\\\\n",
       "\t1040 & GSM1428404  &  8          & 0           & Vietnam     & C           &  1.0618136  & -1.1742104  & -1.3804809  & -2.7399814  &  0.02256392 & ...         &  0.4538403  &  1.6146443  &  1.305044   & 0.32340842  & -2.6455505  &  0.6583312  & -1.0302834  &  1.7736239  & -1.4811604  & -1.0220924 \\\\\n",
       "\t1041 & GSM1428405  &  8          & 1           & Vietnam     & C           &  0.8209306  & -0.3893965  & -0.9074882  & -1.4372993  & -0.69596016 & ...         &  0.1187458  &  0.1179023  &  1.652349   & 0.83795573  & -2.1263836  &  2.4604627  & -1.2961475  &  2.1380411  & -1.4090512  & -1.7452238 \\\\\n",
       "\t1042 & GSM1428406  &  8          & 1           & Vietnam     & C           &  0.7990810  & -0.3929014  & -1.6805914  & -3.0958226  &  0.24609883 & ...         & -0.1397592  & -0.3994393  &  2.559789   & 0.27686627  & -3.1100563  &  1.1559326  & -1.1293810  &  2.5776743  & -1.1206123  & -1.0767456 \\\\\n",
       "\t1043 & GSM1428407  &  8          & 1           & Vietnam     & A           &  0.4934023  & -1.9918199  & -2.0442621  & -0.7738504  & -0.41271803 & ...         & -0.1307500  &  0.2475214  &  2.005380   & 0.51543126  & -0.9853749  &  0.6380456  & -0.8329773  &  2.0032831  & -2.0913192  & -0.8829433 \\\\\n",
       "\\end{tabular}\n"
      ],
      "text/markdown": [
       "\n",
       "| <!--/--> | Sample_Names | Asexual.stage..hpi. | ClearanceRate | Country | Kmeans.Grp | PF3D7_0100100 | PF3D7_0100200 | PF3D7_0100300 | PF3D7_0100600 | PF3D7_0100800 | ... | PF3D7_1478600 | PF3D7_1478800 | PF3D7_1479000 | PF3D7_1479200 | PF3D7_1479400 | PF3D7_1479500 | PF3D7_1479600 | PF3D7_1479900 | PF3D7_1480000 | PF3D7_1480100 | \n",
       "|---|---|---|---|---|---|\n",
       "| 1038 | GSM1428402  | 10          | 0           | Vietnam     | A           | -0.1997229  | -1.4399152  | -1.9674875  | -0.7680356  | -1.74944928 | ...         |  1.8688418  |  0.9145425  |  1.490171   | 1.94641745  | -1.0709241  | -0.5345409  | -0.6077947  | -0.6635491  | -1.5317855  | -1.2150579  | \n",
       "| 1039 | GSM1428403  | 14          | 1           | Vietnam     | B           |  1.2534277  | -0.5955679  | -1.0249343  | -1.6002985  |  0.34413491 | ...         |  1.6112795  | -0.1230729  | -1.253537   | 0.03790698  | -1.1609427  |  0.0264012  | -1.4282523  |  2.7250339  | -0.4372022  | -0.9073533  | \n",
       "| 1040 | GSM1428404  |  8          | 0           | Vietnam     | C           |  1.0618136  | -1.1742104  | -1.3804809  | -2.7399814  |  0.02256392 | ...         |  0.4538403  |  1.6146443  |  1.305044   | 0.32340842  | -2.6455505  |  0.6583312  | -1.0302834  |  1.7736239  | -1.4811604  | -1.0220924  | \n",
       "| 1041 | GSM1428405  |  8          | 1           | Vietnam     | C           |  0.8209306  | -0.3893965  | -0.9074882  | -1.4372993  | -0.69596016 | ...         |  0.1187458  |  0.1179023  |  1.652349   | 0.83795573  | -2.1263836  |  2.4604627  | -1.2961475  |  2.1380411  | -1.4090512  | -1.7452238  | \n",
       "| 1042 | GSM1428406  |  8          | 1           | Vietnam     | C           |  0.7990810  | -0.3929014  | -1.6805914  | -3.0958226  |  0.24609883 | ...         | -0.1397592  | -0.3994393  |  2.559789   | 0.27686627  | -3.1100563  |  1.1559326  | -1.1293810  |  2.5776743  | -1.1206123  | -1.0767456  | \n",
       "| 1043 | GSM1428407  |  8          | 1           | Vietnam     | A           |  0.4934023  | -1.9918199  | -2.0442621  | -0.7738504  | -0.41271803 | ...         | -0.1307500  |  0.2475214  |  2.005380   | 0.51543126  | -0.9853749  |  0.6380456  | -0.8329773  |  2.0032831  | -2.0913192  | -0.8829433  | \n",
       "\n",
       "\n"
      ],
      "text/plain": [
       "     Sample_Names Asexual.stage..hpi. ClearanceRate Country Kmeans.Grp\n",
       "1038 GSM1428402   10                  0             Vietnam A         \n",
       "1039 GSM1428403   14                  1             Vietnam B         \n",
       "1040 GSM1428404    8                  0             Vietnam C         \n",
       "1041 GSM1428405    8                  1             Vietnam C         \n",
       "1042 GSM1428406    8                  1             Vietnam C         \n",
       "1043 GSM1428407    8                  1             Vietnam A         \n",
       "     PF3D7_0100100 PF3D7_0100200 PF3D7_0100300 PF3D7_0100600 PF3D7_0100800 ...\n",
       "1038 -0.1997229    -1.4399152    -1.9674875    -0.7680356    -1.74944928   ...\n",
       "1039  1.2534277    -0.5955679    -1.0249343    -1.6002985     0.34413491   ...\n",
       "1040  1.0618136    -1.1742104    -1.3804809    -2.7399814     0.02256392   ...\n",
       "1041  0.8209306    -0.3893965    -0.9074882    -1.4372993    -0.69596016   ...\n",
       "1042  0.7990810    -0.3929014    -1.6805914    -3.0958226     0.24609883   ...\n",
       "1043  0.4934023    -1.9918199    -2.0442621    -0.7738504    -0.41271803   ...\n",
       "     PF3D7_1478600 PF3D7_1478800 PF3D7_1479000 PF3D7_1479200 PF3D7_1479400\n",
       "1038  1.8688418     0.9145425     1.490171     1.94641745    -1.0709241   \n",
       "1039  1.6112795    -0.1230729    -1.253537     0.03790698    -1.1609427   \n",
       "1040  0.4538403     1.6146443     1.305044     0.32340842    -2.6455505   \n",
       "1041  0.1187458     0.1179023     1.652349     0.83795573    -2.1263836   \n",
       "1042 -0.1397592    -0.3994393     2.559789     0.27686627    -3.1100563   \n",
       "1043 -0.1307500     0.2475214     2.005380     0.51543126    -0.9853749   \n",
       "     PF3D7_1479500 PF3D7_1479600 PF3D7_1479900 PF3D7_1480000 PF3D7_1480100\n",
       "1038 -0.5345409    -0.6077947    -0.6635491    -1.5317855    -1.2150579   \n",
       "1039  0.0264012    -1.4282523     2.7250339    -0.4372022    -0.9073533   \n",
       "1040  0.6583312    -1.0302834     1.7736239    -1.4811604    -1.0220924   \n",
       "1041  2.4604627    -1.2961475     2.1380411    -1.4090512    -1.7452238   \n",
       "1042  1.1559326    -1.1293810     2.5776743    -1.1206123    -1.0767456   \n",
       "1043  0.6380456    -0.8329773     2.0032831    -2.0913192    -0.8829433   "
      ]
     },
     "metadata": {},
     "output_type": "display_data"
    }
   ],
   "source": [
    "combated_train <- subset(combated_train, select = -c(Row.names))\n",
    "tail(combated_train)"
   ]
  },
  {
   "cell_type": "code",
   "execution_count": 21,
   "metadata": {},
   "outputs": [
    {
     "data": {
      "text/html": [
       "<table>\n",
       "<thead><tr><th></th><th scope=col>Sample_Names</th><th scope=col>Asexual_Stage</th><th scope=col>Country</th><th scope=col>Isolate</th><th scope=col>Timepoint</th><th scope=col>Treatment</th><th scope=col>BioRep</th></tr></thead>\n",
       "<tbody>\n",
       "\t<tr><th scope=row>isolate_02.24HR.DHA.BRep1</th><td>isolate_02.24HR.DHA.BRep1</td><td>50                       </td><td>Thailand_Myanmar_Border  </td><td>isolate_02               </td><td>24HR                     </td><td>DHA                      </td><td>BRep1                    </td></tr>\n",
       "\t<tr><th scope=row>isolate_02.24HR.DHA.BRep2</th><td>isolate_02.24HR.DHA.BRep2</td><td>16                       </td><td>Thailand_Myanmar_Border  </td><td>isolate_02               </td><td>24HR                     </td><td>DHA                      </td><td>BRep2                    </td></tr>\n",
       "\t<tr><th scope=row>isolate_02.24HR.DHA.BRep3</th><td>isolate_02.24HR.DHA.BRep3</td><td> 8                       </td><td>Thailand_Myanmar_Border  </td><td>isolate_02               </td><td>24HR                     </td><td>DHA                      </td><td>BRep3                    </td></tr>\n",
       "\t<tr><th scope=row>isolate_02.24HR.DHA.BRep4</th><td>isolate_02.24HR.DHA.BRep4</td><td> 6                       </td><td>Thailand_Myanmar_Border  </td><td>isolate_02               </td><td>24HR                     </td><td>DHA                      </td><td>BRep4                    </td></tr>\n",
       "\t<tr><th scope=row>isolate_02.24HR.UT.BRep1</th><td>isolate_02.24HR.UT.BRep1 </td><td>48                       </td><td>Thailand_Myanmar_Border  </td><td>isolate_02               </td><td>24HR                     </td><td>UT                       </td><td>BRep1                    </td></tr>\n",
       "\t<tr><th scope=row>isolate_02.24HR.UT.BRep2</th><td>isolate_02.24HR.UT.BRep2 </td><td> 7                       </td><td>Thailand_Myanmar_Border  </td><td>isolate_02               </td><td>24HR                     </td><td>UT                       </td><td>BRep2                    </td></tr>\n",
       "</tbody>\n",
       "</table>\n"
      ],
      "text/latex": [
       "\\begin{tabular}{r|lllllll}\n",
       "  & Sample\\_Names & Asexual\\_Stage & Country & Isolate & Timepoint & Treatment & BioRep\\\\\n",
       "\\hline\n",
       "\tisolate\\_02.24HR.DHA.BRep1 & isolate\\_02.24HR.DHA.BRep1 & 50                          & Thailand\\_Myanmar\\_Border & isolate\\_02                & 24HR                        & DHA                         & BRep1                      \\\\\n",
       "\tisolate\\_02.24HR.DHA.BRep2 & isolate\\_02.24HR.DHA.BRep2 & 16                          & Thailand\\_Myanmar\\_Border & isolate\\_02                & 24HR                        & DHA                         & BRep2                      \\\\\n",
       "\tisolate\\_02.24HR.DHA.BRep3 & isolate\\_02.24HR.DHA.BRep3 &  8                          & Thailand\\_Myanmar\\_Border & isolate\\_02                & 24HR                        & DHA                         & BRep3                      \\\\\n",
       "\tisolate\\_02.24HR.DHA.BRep4 & isolate\\_02.24HR.DHA.BRep4 &  6                          & Thailand\\_Myanmar\\_Border & isolate\\_02                & 24HR                        & DHA                         & BRep4                      \\\\\n",
       "\tisolate\\_02.24HR.UT.BRep1 & isolate\\_02.24HR.UT.BRep1  & 48                          & Thailand\\_Myanmar\\_Border & isolate\\_02                & 24HR                        & UT                          & BRep1                      \\\\\n",
       "\tisolate\\_02.24HR.UT.BRep2 & isolate\\_02.24HR.UT.BRep2  &  7                          & Thailand\\_Myanmar\\_Border & isolate\\_02                & 24HR                        & UT                          & BRep2                      \\\\\n",
       "\\end{tabular}\n"
      ],
      "text/markdown": [
       "\n",
       "| <!--/--> | Sample_Names | Asexual_Stage | Country | Isolate | Timepoint | Treatment | BioRep | \n",
       "|---|---|---|---|---|---|\n",
       "| isolate_02.24HR.DHA.BRep1 | isolate_02.24HR.DHA.BRep1 | 50                        | Thailand_Myanmar_Border   | isolate_02                | 24HR                      | DHA                       | BRep1                     | \n",
       "| isolate_02.24HR.DHA.BRep2 | isolate_02.24HR.DHA.BRep2 | 16                        | Thailand_Myanmar_Border   | isolate_02                | 24HR                      | DHA                       | BRep2                     | \n",
       "| isolate_02.24HR.DHA.BRep3 | isolate_02.24HR.DHA.BRep3 |  8                        | Thailand_Myanmar_Border   | isolate_02                | 24HR                      | DHA                       | BRep3                     | \n",
       "| isolate_02.24HR.DHA.BRep4 | isolate_02.24HR.DHA.BRep4 |  6                        | Thailand_Myanmar_Border   | isolate_02                | 24HR                      | DHA                       | BRep4                     | \n",
       "| isolate_02.24HR.UT.BRep1 | isolate_02.24HR.UT.BRep1  | 48                        | Thailand_Myanmar_Border   | isolate_02                | 24HR                      | UT                        | BRep1                     | \n",
       "| isolate_02.24HR.UT.BRep2 | isolate_02.24HR.UT.BRep2  |  7                        | Thailand_Myanmar_Border   | isolate_02                | 24HR                      | UT                        | BRep2                     | \n",
       "\n",
       "\n"
      ],
      "text/plain": [
       "                          Sample_Names              Asexual_Stage\n",
       "isolate_02.24HR.DHA.BRep1 isolate_02.24HR.DHA.BRep1 50           \n",
       "isolate_02.24HR.DHA.BRep2 isolate_02.24HR.DHA.BRep2 16           \n",
       "isolate_02.24HR.DHA.BRep3 isolate_02.24HR.DHA.BRep3  8           \n",
       "isolate_02.24HR.DHA.BRep4 isolate_02.24HR.DHA.BRep4  6           \n",
       "isolate_02.24HR.UT.BRep1  isolate_02.24HR.UT.BRep1  48           \n",
       "isolate_02.24HR.UT.BRep2  isolate_02.24HR.UT.BRep2   7           \n",
       "                          Country                 Isolate    Timepoint\n",
       "isolate_02.24HR.DHA.BRep1 Thailand_Myanmar_Border isolate_02 24HR     \n",
       "isolate_02.24HR.DHA.BRep2 Thailand_Myanmar_Border isolate_02 24HR     \n",
       "isolate_02.24HR.DHA.BRep3 Thailand_Myanmar_Border isolate_02 24HR     \n",
       "isolate_02.24HR.DHA.BRep4 Thailand_Myanmar_Border isolate_02 24HR     \n",
       "isolate_02.24HR.UT.BRep1  Thailand_Myanmar_Border isolate_02 24HR     \n",
       "isolate_02.24HR.UT.BRep2  Thailand_Myanmar_Border isolate_02 24HR     \n",
       "                          Treatment BioRep\n",
       "isolate_02.24HR.DHA.BRep1 DHA       BRep1 \n",
       "isolate_02.24HR.DHA.BRep2 DHA       BRep2 \n",
       "isolate_02.24HR.DHA.BRep3 DHA       BRep3 \n",
       "isolate_02.24HR.DHA.BRep4 DHA       BRep4 \n",
       "isolate_02.24HR.UT.BRep1  UT        BRep1 \n",
       "isolate_02.24HR.UT.BRep2  UT        BRep2 "
      ]
     },
     "metadata": {},
     "output_type": "display_data"
    }
   ],
   "source": [
    "subtest_ofeat <- subset(testing_set,select = c(Sample_Names, Asexual_Stage, Country, Isolate, Timepoint, Treatment, BioRep))\n",
    "head(subtest_ofeat)"
   ]
  },
  {
   "cell_type": "code",
   "execution_count": 22,
   "metadata": {},
   "outputs": [
    {
     "data": {
      "text/html": [
       "<table>\n",
       "<thead><tr><th></th><th scope=col>Sample_Names</th><th scope=col>Asexual_Stage</th><th scope=col>Country</th><th scope=col>Isolate</th><th scope=col>Timepoint</th><th scope=col>Treatment</th><th scope=col>BioRep</th><th scope=col>PF3D7_0100100</th><th scope=col>PF3D7_0100200</th><th scope=col>PF3D7_0100300</th><th scope=col>...</th><th scope=col>PF3D7_1478600</th><th scope=col>PF3D7_1478800</th><th scope=col>PF3D7_1479000</th><th scope=col>PF3D7_1479200</th><th scope=col>PF3D7_1479400</th><th scope=col>PF3D7_1479500</th><th scope=col>PF3D7_1479600</th><th scope=col>PF3D7_1479900</th><th scope=col>PF3D7_1480000</th><th scope=col>PF3D7_1480100</th></tr></thead>\n",
       "<tbody>\n",
       "\t<tr><th scope=row>283</th><td>isolate_54.24HR.UT.BRep1</td><td>12                      </td><td>Thailand_Myanmar_Border </td><td>isolate_54              </td><td>24HR                    </td><td>UT                      </td><td>BRep1                   </td><td>-0.43583943             </td><td>-0.91482726             </td><td>-2.573759               </td><td>...                     </td><td> 1.0587585              </td><td> 0.03279921             </td><td>0.9348012               </td><td>-0.2335075              </td><td>-2.0448175              </td><td> 0.43544073             </td><td> 0.4783504              </td><td>-0.3670271              </td><td>-2.0945231              </td><td>-1.15857727             </td></tr>\n",
       "\t<tr><th scope=row>284</th><td>isolate_54.24HR.UT.BRep2</td><td> 5                      </td><td>Thailand_Myanmar_Border </td><td>isolate_54              </td><td>24HR                    </td><td>UT                      </td><td>BRep2                   </td><td>-0.03878161             </td><td>-1.13809806             </td><td>-1.625978               </td><td>...                     </td><td>-1.1149504              </td><td> 0.45041189             </td><td>1.8580655               </td><td> 1.5324882              </td><td> 0.6265673              </td><td> 0.03015861             </td><td>-0.5378463              </td><td> 1.8816599              </td><td>-2.0315630              </td><td> 0.04243946             </td></tr>\n",
       "\t<tr><th scope=row>285</th><td>isolate_54.6HR.DHA.BRep1</td><td> 7                      </td><td>Thailand_Myanmar_Border </td><td>isolate_54              </td><td>6HR                     </td><td>DHA                     </td><td>BRep1                   </td><td>-0.54427764             </td><td>-1.54278463             </td><td>-1.699452               </td><td>...                     </td><td> 0.6401108              </td><td> 1.00965825             </td><td>1.7379995               </td><td> 2.7317215              </td><td>-0.7922295              </td><td>-0.17382561             </td><td>-0.9767346              </td><td> 0.6389591              </td><td>-2.1107319              </td><td>-1.54456612             </td></tr>\n",
       "\t<tr><th scope=row>286</th><td>isolate_54.6HR.DHA.BRep2</td><td>40                      </td><td>Thailand_Myanmar_Border </td><td>isolate_54              </td><td>6HR                     </td><td>DHA                     </td><td>BRep2                   </td><td>-0.01439583             </td><td> 0.03420781             </td><td>-1.737879               </td><td>...                     </td><td> 0.2653941              </td><td>-0.03006708             </td><td>2.0719765               </td><td> 1.5332337              </td><td>-2.1598842              </td><td> 1.55398913             </td><td>-0.5921695              </td><td> 0.7848231              </td><td>-1.2858889              </td><td>-0.64378718             </td></tr>\n",
       "\t<tr><th scope=row>287</th><td>isolate_54.6HR.UT.BRep1 </td><td>49                      </td><td>Thailand_Myanmar_Border </td><td>isolate_54              </td><td>6HR                     </td><td>UT                      </td><td>BRep1                   </td><td> 0.14209751             </td><td>-1.39892376             </td><td>-1.402191               </td><td>...                     </td><td>-1.1588566              </td><td> 1.96718455             </td><td>2.0469175               </td><td> 0.4328098              </td><td>-0.8218125              </td><td> 0.39683058             </td><td>-0.7594105              </td><td>-0.5927939              </td><td>-0.9347835              </td><td>-0.56408351             </td></tr>\n",
       "\t<tr><th scope=row>288</th><td>isolate_54.6HR.UT.BRep2 </td><td>21                      </td><td>Thailand_Myanmar_Border </td><td>isolate_54              </td><td>6HR                     </td><td>UT                      </td><td>BRep2                   </td><td> 0.14202224             </td><td>-1.69673427             </td><td>-1.932095               </td><td>...                     </td><td> 1.3374789              </td><td>-0.28686823             </td><td>1.0804268               </td><td>-1.5372244              </td><td>-0.7088502              </td><td> 0.63872851             </td><td>-1.0592322              </td><td>-1.3677576              </td><td>-2.1342235              </td><td>-1.25612472             </td></tr>\n",
       "</tbody>\n",
       "</table>\n"
      ],
      "text/latex": [
       "\\begin{tabular}{r|lllllllllllllllllllllllllllllllllllllllllllllllllllllllllllllllllllllllllllllllllllllllllllllllllllllllllllllllllllllllllllllllllllllllllllllllllllllllllllllllllllllllllllllllllllllllllllllllllllllllllllllllllllllllllllllllllllllllllllllllllllllllllllllllllllllllllllllllllllllllllllllllllllllllllllllllllllllllllllllllllllllllllllllllllllllllllllllllllllllllllllllllllllllllllllllllllllllllllllllllllllllllllllllllllllllllllllllllllllllllllllllllllllllllllllllllllllllllllllllllllllllllllllllllllllllllllllllllllllllllllllllllllllllllllllllllllllllllllllllllllllllllllllllllllllllllllllllllllllllllllllllllllllllllllllllllllllllllllllllllllllllllllllllllllllllllllllllllllllllllllllllllllllllllllllllllllllllllllllllllllllllllllllllllllllllllllllllllllllllllllllllllllllllllllllllllllllllllllllllllllllllllllllllllllllllllllllllllllllllllllllllllllllllllllllllllllllllllllllllllllllllllllllllllllllllllllllllllllllllllllllllllllllllllllllllllllllllllllllllllllllllllllllllllllllllllllllllllllllllllllllllllllllllllllllllllllllllllllllllllllllllllllllllllllllllllllllllllllllllllllllllllllllllllllllllllllllllllllllllllllllllllllllllllllllllllllllllllllllllllllllllllllllllllllllllllllllllllllllllllllllllllllllllllllllllllllllllllllllllllllllllllllllllllllllllllllllllllllllllllllllllllllllllllllllllllllllllllllllllllllllllllllllllllllllllllllllllllllllllllllllllllllllllllllllllllllllllllllllllllllllllllllllllllllllllllllllllllllllllllllllllllllllllllllllllllllllllllllllllllllllllllllllllllllllllllllllllllllllllllllllllllllllllllllllllllllllllllllllllllllllllllllllllllllllllllllllllllllllllllllllllllllllllllllllllllllllllllllllllllllllllllllllllllllllllllllllllllllllllllllllllllllllllllllllllllllllllllllllllllllllllllllllllllllllllllllllllllllllllllllllllllllllllllllllllllllllllllllllllllllllllllllllllllllllllllllllllllllllllllllllllllllllllllllllllllllllllllllllllllllllllllllllllllllllllllllllllllllllllllllllllllllllllllllllllllllllllllllllllllllllllllllllllllllllllllllllllllllllllllllllllllllllllllllllllllllllllllllllllllllllllllllllllllllllllllllllllllllllllllllllllllllllllllllllllllllllllllllllllllllllllllllllllllllllllllllllllllllllllllllllllllllllllllllllllllllllllllllllllllllllllllllllllllllllllllllllllllllllllllllllllllllllllllllllllllllllllllllllllllllllllllllllllllllllllllllllllllllllllllllllllllllllllllllllllllllllllllllllllllllllllllllllllllllllllllllllllllllllllllllllllllllllllllllllllllllllllllllllllllllllllllllllllllllllllllllllllllllllllllllllllllllllllllllllllllllllllllllllllllllllllllllllllllllllllllllllllllllllllllllllllllllllllllllllllllllllllllllllllllllllllllllllllllllllllllllllllllllllllllllllllllllllllllllllllllllllllllllllllllllllllllllllllllllllllllllllllllllllllllllllllllllllllllllllllllllllllllllllllllllllllllllllllllllllllllllllllllllllllllllllllllllllllllllllllllllllllllllllllllllllllllllllllllllllllllllllllllllllllllllllllllllllllllllllllllllllllllllllllllllllllllllllllllllllllllllllllllllllllllllllllllllllllllllllllllllllllllllllllllllllllllllllllllllllllllllllllllllllllllllllllllllllllllllllllllllllllllllllllllllllllllllllllllllllllllllllllllllllllllllllllllllllllllllllllllllllllllllllllllllllllllllllllllllllllllllllllllllllllllllllllllllllllllllllllllllllllllllllllllllllllllllllllllllllllllllllllllllllllllllllllllllllllllllllllllllllllllllllllllllllllllllllllllllllllllllllllllllllllllllllllllllllllllllllllllllllllllllllllllllllllllllllllllllllllllllllllllllllllllllllllllllllllllllllllllllllllllllllllllllllllllllllllllllllllllllllllllllllllllllllllllllllllllllllllllllllllllllllllllllllllllllllllllllllllllllllllllllllllllllllllllllllllllllllllllllllllllllllllllllllllllllllllllllllllllllllllllllllllllllllllllllllllllllllllllllllllllllllllllllllllllllllllllllllllllllllllllllllllllllllllllllllllllllllllllllllllllllllllllllllllllllllllllllllllllllllllllllllllllllllllllllllllllllllllllllllllllllllllllllllllllllllllllllllllllllllllllllllllllllllllllllllllllllllllllllllllllllllllllllllllllllllllllllllllllllllllllllllllllllllllllllllllllllllllllllllllllllllllllllllllllllllllllllllllllllllllllllllllllllllllllllllllllllllllllllllllllllllllllllllllllllllllllllllllllllllllllllllllllllllllllllllllllllllllllllllllllllllllllllllllllllllllllllllllllllllllllllllllllllllllllllllllllllllllllllllllllllllllllllllllllllllllllllllllllllllllllllllllllllllllllllllllllllllllllllllllllllllllllllllllllllllllllllllllllllllllllllllllllllllllllllllllllllllllllllllllllllllllllllllllllllllllllllllllllllllllllllllllllllllllllllllllllllllllllllllllllllllllllllllllllllllllllllllllllllllllllllllllllllllllllllllllllllllllllllllllllllllllllllllllllllllllllllllllllllllllllllllllllllllllllllllllllllllllllllllllllllllllllllllllllllllllllllllllllllllllllllllllllllllllllllllllllllllllllllllllllllllllllllllllllllllllllllllllllllllllllllllllllllllllllllllllllllllllllllllllllllllllllllllllllllllllllllllllllllllllllllllllllllllllllllllllllllllllllllllllllllllllllllllllllllllllllllllllllllllllllllllllll}\n",
       "  & Sample\\_Names & Asexual\\_Stage & Country & Isolate & Timepoint & Treatment & BioRep & PF3D7\\_0100100 & PF3D7\\_0100200 & PF3D7\\_0100300 & ... & PF3D7\\_1478600 & PF3D7\\_1478800 & PF3D7\\_1479000 & PF3D7\\_1479200 & PF3D7\\_1479400 & PF3D7\\_1479500 & PF3D7\\_1479600 & PF3D7\\_1479900 & PF3D7\\_1480000 & PF3D7\\_1480100\\\\\n",
       "\\hline\n",
       "\t283 & isolate\\_54.24HR.UT.BRep1  & 12                          & Thailand\\_Myanmar\\_Border & isolate\\_54                & 24HR                        & UT                          & BRep1                       & -0.43583943                 & -0.91482726                 & -2.573759                   & ...                         &  1.0587585                  &  0.03279921                 & 0.9348012                   & -0.2335075                  & -2.0448175                  &  0.43544073                 &  0.4783504                  & -0.3670271                  & -2.0945231                  & -1.15857727                \\\\\n",
       "\t284 & isolate\\_54.24HR.UT.BRep2  &  5                          & Thailand\\_Myanmar\\_Border & isolate\\_54                & 24HR                        & UT                          & BRep2                       & -0.03878161                 & -1.13809806                 & -1.625978                   & ...                         & -1.1149504                  &  0.45041189                 & 1.8580655                   &  1.5324882                  &  0.6265673                  &  0.03015861                 & -0.5378463                  &  1.8816599                  & -2.0315630                  &  0.04243946                \\\\\n",
       "\t285 & isolate\\_54.6HR.DHA.BRep1  &  7                          & Thailand\\_Myanmar\\_Border & isolate\\_54                & 6HR                         & DHA                         & BRep1                       & -0.54427764                 & -1.54278463                 & -1.699452                   & ...                         &  0.6401108                  &  1.00965825                 & 1.7379995                   &  2.7317215                  & -0.7922295                  & -0.17382561                 & -0.9767346                  &  0.6389591                  & -2.1107319                  & -1.54456612                \\\\\n",
       "\t286 & isolate\\_54.6HR.DHA.BRep2  & 40                          & Thailand\\_Myanmar\\_Border & isolate\\_54                & 6HR                         & DHA                         & BRep2                       & -0.01439583                 &  0.03420781                 & -1.737879                   & ...                         &  0.2653941                  & -0.03006708                 & 2.0719765                   &  1.5332337                  & -2.1598842                  &  1.55398913                 & -0.5921695                  &  0.7848231                  & -1.2858889                  & -0.64378718                \\\\\n",
       "\t287 & isolate\\_54.6HR.UT.BRep1   & 49                          & Thailand\\_Myanmar\\_Border & isolate\\_54                & 6HR                         & UT                          & BRep1                       &  0.14209751                 & -1.39892376                 & -1.402191                   & ...                         & -1.1588566                  &  1.96718455                 & 2.0469175                   &  0.4328098                  & -0.8218125                  &  0.39683058                 & -0.7594105                  & -0.5927939                  & -0.9347835                  & -0.56408351                \\\\\n",
       "\t288 & isolate\\_54.6HR.UT.BRep2   & 21                          & Thailand\\_Myanmar\\_Border & isolate\\_54                & 6HR                         & UT                          & BRep2                       &  0.14202224                 & -1.69673427                 & -1.932095                   & ...                         &  1.3374789                  & -0.28686823                 & 1.0804268                   & -1.5372244                  & -0.7088502                  &  0.63872851                 & -1.0592322                  & -1.3677576                  & -2.1342235                  & -1.25612472                \\\\\n",
       "\\end{tabular}\n"
      ],
      "text/markdown": [
       "\n",
       "| <!--/--> | Sample_Names | Asexual_Stage | Country | Isolate | Timepoint | Treatment | BioRep | PF3D7_0100100 | PF3D7_0100200 | PF3D7_0100300 | ... | PF3D7_1478600 | PF3D7_1478800 | PF3D7_1479000 | PF3D7_1479200 | PF3D7_1479400 | PF3D7_1479500 | PF3D7_1479600 | PF3D7_1479900 | PF3D7_1480000 | PF3D7_1480100 | \n",
       "|---|---|---|---|---|---|\n",
       "| 283 | isolate_54.24HR.UT.BRep1 | 12                       | Thailand_Myanmar_Border  | isolate_54               | 24HR                     | UT                       | BRep1                    | -0.43583943              | -0.91482726              | -2.573759                | ...                      |  1.0587585               |  0.03279921              | 0.9348012                | -0.2335075               | -2.0448175               |  0.43544073              |  0.4783504               | -0.3670271               | -2.0945231               | -1.15857727              | \n",
       "| 284 | isolate_54.24HR.UT.BRep2 |  5                       | Thailand_Myanmar_Border  | isolate_54               | 24HR                     | UT                       | BRep2                    | -0.03878161              | -1.13809806              | -1.625978                | ...                      | -1.1149504               |  0.45041189              | 1.8580655                |  1.5324882               |  0.6265673               |  0.03015861              | -0.5378463               |  1.8816599               | -2.0315630               |  0.04243946              | \n",
       "| 285 | isolate_54.6HR.DHA.BRep1 |  7                       | Thailand_Myanmar_Border  | isolate_54               | 6HR                      | DHA                      | BRep1                    | -0.54427764              | -1.54278463              | -1.699452                | ...                      |  0.6401108               |  1.00965825              | 1.7379995                |  2.7317215               | -0.7922295               | -0.17382561              | -0.9767346               |  0.6389591               | -2.1107319               | -1.54456612              | \n",
       "| 286 | isolate_54.6HR.DHA.BRep2 | 40                       | Thailand_Myanmar_Border  | isolate_54               | 6HR                      | DHA                      | BRep2                    | -0.01439583              |  0.03420781              | -1.737879                | ...                      |  0.2653941               | -0.03006708              | 2.0719765                |  1.5332337               | -2.1598842               |  1.55398913              | -0.5921695               |  0.7848231               | -1.2858889               | -0.64378718              | \n",
       "| 287 | isolate_54.6HR.UT.BRep1  | 49                       | Thailand_Myanmar_Border  | isolate_54               | 6HR                      | UT                       | BRep1                    |  0.14209751              | -1.39892376              | -1.402191                | ...                      | -1.1588566               |  1.96718455              | 2.0469175                |  0.4328098               | -0.8218125               |  0.39683058              | -0.7594105               | -0.5927939               | -0.9347835               | -0.56408351              | \n",
       "| 288 | isolate_54.6HR.UT.BRep2  | 21                       | Thailand_Myanmar_Border  | isolate_54               | 6HR                      | UT                       | BRep2                    |  0.14202224              | -1.69673427              | -1.932095                | ...                      |  1.3374789               | -0.28686823              | 1.0804268                | -1.5372244               | -0.7088502               |  0.63872851              | -1.0592322               | -1.3677576               | -2.1342235               | -1.25612472              | \n",
       "\n",
       "\n"
      ],
      "text/plain": [
       "    Sample_Names             Asexual_Stage Country                 Isolate   \n",
       "283 isolate_54.24HR.UT.BRep1 12            Thailand_Myanmar_Border isolate_54\n",
       "284 isolate_54.24HR.UT.BRep2  5            Thailand_Myanmar_Border isolate_54\n",
       "285 isolate_54.6HR.DHA.BRep1  7            Thailand_Myanmar_Border isolate_54\n",
       "286 isolate_54.6HR.DHA.BRep2 40            Thailand_Myanmar_Border isolate_54\n",
       "287 isolate_54.6HR.UT.BRep1  49            Thailand_Myanmar_Border isolate_54\n",
       "288 isolate_54.6HR.UT.BRep2  21            Thailand_Myanmar_Border isolate_54\n",
       "    Timepoint Treatment BioRep PF3D7_0100100 PF3D7_0100200 PF3D7_0100300 ...\n",
       "283 24HR      UT        BRep1  -0.43583943   -0.91482726   -2.573759     ...\n",
       "284 24HR      UT        BRep2  -0.03878161   -1.13809806   -1.625978     ...\n",
       "285 6HR       DHA       BRep1  -0.54427764   -1.54278463   -1.699452     ...\n",
       "286 6HR       DHA       BRep2  -0.01439583    0.03420781   -1.737879     ...\n",
       "287 6HR       UT        BRep1   0.14209751   -1.39892376   -1.402191     ...\n",
       "288 6HR       UT        BRep2   0.14202224   -1.69673427   -1.932095     ...\n",
       "    PF3D7_1478600 PF3D7_1478800 PF3D7_1479000 PF3D7_1479200 PF3D7_1479400\n",
       "283  1.0587585     0.03279921   0.9348012     -0.2335075    -2.0448175   \n",
       "284 -1.1149504     0.45041189   1.8580655      1.5324882     0.6265673   \n",
       "285  0.6401108     1.00965825   1.7379995      2.7317215    -0.7922295   \n",
       "286  0.2653941    -0.03006708   2.0719765      1.5332337    -2.1598842   \n",
       "287 -1.1588566     1.96718455   2.0469175      0.4328098    -0.8218125   \n",
       "288  1.3374789    -0.28686823   1.0804268     -1.5372244    -0.7088502   \n",
       "    PF3D7_1479500 PF3D7_1479600 PF3D7_1479900 PF3D7_1480000 PF3D7_1480100\n",
       "283  0.43544073    0.4783504    -0.3670271    -2.0945231    -1.15857727  \n",
       "284  0.03015861   -0.5378463     1.8816599    -2.0315630     0.04243946  \n",
       "285 -0.17382561   -0.9767346     0.6389591    -2.1107319    -1.54456612  \n",
       "286  1.55398913   -0.5921695     0.7848231    -1.2858889    -0.64378718  \n",
       "287  0.39683058   -0.7594105    -0.5927939    -0.9347835    -0.56408351  \n",
       "288  0.63872851   -1.0592322    -1.3677576    -2.1342235    -1.25612472  "
      ]
     },
     "metadata": {},
     "output_type": "display_data"
    }
   ],
   "source": [
    "combated_test <- merge(subtest_ofeat, trans_combat_edata, by=0, all.x=TRUE)\n",
    "combated_test <- subset(combated_test, select = -c(Row.names))\n",
    "tail(combated_test)"
   ]
  },
  {
   "cell_type": "code",
   "execution_count": 23,
   "metadata": {},
   "outputs": [],
   "source": [
    "write.csv(combated_train, file = \"../SubCh2/SubCh2_TrainingData_imputed_combat.csv\",row.names=FALSE)\n",
    "write.csv(combated_test, file = \"../SubCh2/SubCh2_TestData_combat.csv\",row.names=FALSE)"
   ]
  }
 ],
 "metadata": {
  "kernelspec": {
   "display_name": "R",
   "language": "R",
   "name": "ir"
  },
  "language_info": {
   "codemirror_mode": "r",
   "file_extension": ".r",
   "mimetype": "text/x-r-source",
   "name": "R",
   "pygments_lexer": "r",
   "version": "3.5.1"
  }
 },
 "nbformat": 4,
 "nbformat_minor": 2
}
